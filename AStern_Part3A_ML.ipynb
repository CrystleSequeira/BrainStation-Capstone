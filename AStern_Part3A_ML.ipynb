{
 "cells": [
  {
   "cell_type": "markdown",
   "metadata": {},
   "source": [
    "# Part 3 Machine Learning - Aproach 1 & 2"
   ]
  },
  {
   "cell_type": "markdown",
   "metadata": {},
   "source": [
    "To predict the wine scores, I used three classification models: Logistic Regression, Random Forest, and XGboost.\n",
    "\n",
    "This jupyter notebook is my initial attempt at predicting the wine scores. Complications became apparent when running the machine learning algorthims. I had realized that I had setup the train/set dataset incorrectly from the Part 2 jupyter notebook. Approach 1 and 2 methods for handling the one hot encoding process are described in the AStern_Part2_NLP_Wine_Reviews.ipynb for reference. \n",
    "\n",
    "I am providing this notebook as a reference in providing all of my steps and workflow processes. This jupyter notebook is not to be used for future work. Instead, use AStern_Part3B_ML."
   ]
  },
  {
   "cell_type": "code",
   "execution_count": 1,
   "metadata": {},
   "outputs": [],
   "source": [
    "# Some basic packages\n",
    "import numpy as np\n",
    "import pandas as pd\n",
    "import matplotlib.pyplot as plt\n",
    "\n",
    "# For splitting our data\n",
    "from sklearn.model_selection import train_test_split\n",
    "\n",
    "# For some simple model building\n",
    "from sklearn.linear_model import LogisticRegression\n",
    "from sklearn.ensemble import RandomForestClassifier\n",
    "from xgboost import XGBClassifier\n",
    "\n",
    "# This gets rid of those annoying default solver messages when fitting logistic regression\n",
    "import warnings\n",
    "warnings.filterwarnings('ignore')\n",
    "\n",
    "# For cross-validation\n",
    "from sklearn.model_selection import cross_val_score\n",
    "\n",
    "# For setting up a temporary directory for caching pipeline results\n",
    "from tempfile import mkdtemp\n",
    "\n",
    "# Pipeline\n",
    "from sklearn.pipeline import Pipeline\n",
    "\n",
    "# Some scalers we'll try later\n",
    "from sklearn.preprocessing import StandardScaler\n",
    "from sklearn.preprocessing import MinMaxScaler\n",
    "from sklearn.preprocessing import RobustScaler\n",
    "\n",
    "# For trying PCA later\n",
    "from sklearn.decomposition import PCA\n",
    "\n",
    "# For cross-validated grid search\n",
    "from sklearn.model_selection import GridSearchCV"
   ]
  },
  {
   "cell_type": "code",
   "execution_count": 2,
   "metadata": {},
   "outputs": [],
   "source": [
    "# import data\n",
    "train = pd.read_csv('data/model_train.csv')\n",
    "test = pd.read_csv('data/model_test.csv')"
   ]
  },
  {
   "cell_type": "code",
   "execution_count": 3,
   "metadata": {},
   "outputs": [],
   "source": [
    "# This is train datasett\n",
    "X = train.drop('points', axis = 1)\n",
    "y = train['points']\n",
    "\n",
    "# This is train datasett\n",
    "X_test = test.drop('points', axis = 1)\n",
    "y_test = test['points']"
   ]
  },
  {
   "cell_type": "markdown",
   "metadata": {},
   "source": [
    "# Approach 2 for NLP\n",
    "\n",
    "This dataset is from when I used Approach 2 to transform the Country, Province, and Variety into numeric values through get_dummies. I created a threshold to only include contries, provinces, and wine varieties that frequently appeared in the dataset. By doing this the dataset reduced from 42 countries to 12 countries, 406 provinces to 34 provinces, and 646 varieties to only 34 varieties! "
   ]
  },
  {
   "cell_type": "code",
   "execution_count": 46,
   "metadata": {},
   "outputs": [
    {
     "name": "stdout",
     "output_type": "stream",
     "text": [
      "Accuracy on remainder set: 0.5322905490616824\n",
      "Accuracy on remainder set: 0.5276013678553981\n"
     ]
    }
   ],
   "source": [
    "# Baseline logistic regression\n",
    "baseline_logreg = LogisticRegression(random_state=1).fit(X_train, y_train)\n",
    "\n",
    "print(f'Accuracy on remainder set: {baseline_logreg.score(X_train, y_train)}')\n",
    "print(f'Accuracy on remainder set: {baseline_logreg.score(X_test, y_test)}')"
   ]
  },
  {
   "cell_type": "markdown",
   "metadata": {},
   "source": [
    "The accuracy score for the train set is 53.2% and the accuracy score for the test set is 52.7%. This is not comforting to see as the original accuracy score was 80% from Approach 1. As well an accuraacy score of 50% is not beneficial for predicing wine scores espcially when there are only two classifications to predict."
   ]
  },
  {
   "cell_type": "markdown",
   "metadata": {},
   "source": [
    "Complete a little more further anlysis with hyperparameterization train and test dataset from Approach 2:"
   ]
  },
  {
   "cell_type": "code",
   "execution_count": 75,
   "metadata": {},
   "outputs": [],
   "source": [
    "# Deteremine which c_value is best for a logistic regression model\n",
    "c_values = [.00001, .0001, .001, .1, 1, 10, 100, 1000, 10000]\n",
    "\n",
    "# Set up empty lists\n",
    "train_accuracies = []\n",
    "validation_accuracies = []\n",
    "\n",
    "# For loop\n",
    "for value in c_values:\n",
    "    \n",
    "    # Instantiate log reg and fit to train set\n",
    "    logreg = LogisticRegression(C=value, random_state=1).fit(X_train, y_train)\n",
    "    \n",
    "    # Score on train set and append accuracy\n",
    "    train_accuracies.append(logreg.score(X_train, y_train))\n",
    "    \n",
    "    # Score on validation set and append accuracy\n",
    "    validation_accuracies.append(logreg.score(X_val, y_val))"
   ]
  },
  {
   "cell_type": "code",
   "execution_count": 76,
   "metadata": {},
   "outputs": [
    {
     "data": {
      "text/html": [
       "<div>\n",
       "<style scoped>\n",
       "    .dataframe tbody tr th:only-of-type {\n",
       "        vertical-align: middle;\n",
       "    }\n",
       "\n",
       "    .dataframe tbody tr th {\n",
       "        vertical-align: top;\n",
       "    }\n",
       "\n",
       "    .dataframe thead th {\n",
       "        text-align: right;\n",
       "    }\n",
       "</style>\n",
       "<table border=\"1\" class=\"dataframe\">\n",
       "  <thead>\n",
       "    <tr style=\"text-align: right;\">\n",
       "      <th></th>\n",
       "      <th>C value</th>\n",
       "      <th>train accuracy</th>\n",
       "      <th>validation accuracy</th>\n",
       "    </tr>\n",
       "  </thead>\n",
       "  <tbody>\n",
       "    <tr>\n",
       "      <th>0</th>\n",
       "      <td>0.00001</td>\n",
       "      <td>0.528658</td>\n",
       "      <td>0.528685</td>\n",
       "    </tr>\n",
       "    <tr>\n",
       "      <th>1</th>\n",
       "      <td>0.00010</td>\n",
       "      <td>0.528658</td>\n",
       "      <td>0.528685</td>\n",
       "    </tr>\n",
       "    <tr>\n",
       "      <th>2</th>\n",
       "      <td>0.00100</td>\n",
       "      <td>0.528658</td>\n",
       "      <td>0.528685</td>\n",
       "    </tr>\n",
       "    <tr>\n",
       "      <th>3</th>\n",
       "      <td>0.10000</td>\n",
       "      <td>0.532272</td>\n",
       "      <td>0.528836</td>\n",
       "    </tr>\n",
       "    <tr>\n",
       "      <th>4</th>\n",
       "      <td>1.00000</td>\n",
       "      <td>0.532291</td>\n",
       "      <td>0.528685</td>\n",
       "    </tr>\n",
       "    <tr>\n",
       "      <th>5</th>\n",
       "      <td>10.00000</td>\n",
       "      <td>0.532328</td>\n",
       "      <td>0.528610</td>\n",
       "    </tr>\n",
       "    <tr>\n",
       "      <th>6</th>\n",
       "      <td>100.00000</td>\n",
       "      <td>0.532366</td>\n",
       "      <td>0.528610</td>\n",
       "    </tr>\n",
       "    <tr>\n",
       "      <th>7</th>\n",
       "      <td>1000.00000</td>\n",
       "      <td>0.534022</td>\n",
       "      <td>0.525448</td>\n",
       "    </tr>\n",
       "    <tr>\n",
       "      <th>8</th>\n",
       "      <td>10000.00000</td>\n",
       "      <td>0.532366</td>\n",
       "      <td>0.528610</td>\n",
       "    </tr>\n",
       "  </tbody>\n",
       "</table>\n",
       "</div>"
      ],
      "text/plain": [
       "       C value  train accuracy  validation accuracy\n",
       "0      0.00001        0.528658             0.528685\n",
       "1      0.00010        0.528658             0.528685\n",
       "2      0.00100        0.528658             0.528685\n",
       "3      0.10000        0.532272             0.528836\n",
       "4      1.00000        0.532291             0.528685\n",
       "5     10.00000        0.532328             0.528610\n",
       "6    100.00000        0.532366             0.528610\n",
       "7   1000.00000        0.534022             0.525448\n",
       "8  10000.00000        0.532366             0.528610"
      ]
     },
     "execution_count": 76,
     "metadata": {},
     "output_type": "execute_result"
    }
   ],
   "source": [
    "# Check the accuracies\n",
    "pd.DataFrame({'C value': c_values, 'train accuracy': train_accuracies, 'validation accuracy': validation_accuracies})"
   ]
  },
  {
   "cell_type": "code",
   "execution_count": 77,
   "metadata": {},
   "outputs": [
    {
     "data": {
      "image/png": "[encoded data removed]",
      "text/plain": [
       "<Figure size 720x360 with 1 Axes>"
      ]
     },
     "metadata": {
      "needs_background": "light"
     },
     "output_type": "display_data"
    }
   ],
   "source": [
    "# Plot the accuracies\n",
    "plt.figure(figsize=(10, 5))\n",
    "plt.plot(c_values, train_accuracies, label='Train', marker='.')\n",
    "plt.plot(c_values, validation_accuracies, label='Validation', marker='.')\n",
    "plt.legend()\n",
    "plt.title('Effect of Varying C on Logistic Regression Accuracies')\n",
    "plt.xscale('log') # This is important for making the plot much more readable\n",
    "plt.xlabel('C')\n",
    "plt.ylabel('Accuracy')\n",
    "plt.grid()\n",
    "plt.show()"
   ]
  },
  {
   "cell_type": "markdown",
   "metadata": {},
   "source": [
    "For this dataset C = .001 however this is for when cross validation is not completed or scaling."
   ]
  },
  {
   "cell_type": "code",
   "execution_count": 80,
   "metadata": {},
   "outputs": [],
   "source": [
    "# This lets us \"pickle\" things, like accuracies in this case or even an entire fitted model \n",
    "import joblib"
   ]
  },
  {
   "cell_type": "markdown",
   "metadata": {},
   "source": [
    "#### Let's see if the model will improve when fed through a pipeline"
   ]
  },
  {
   "cell_type": "code",
   "execution_count": 93,
   "metadata": {},
   "outputs": [
    {
     "name": "stdout",
     "output_type": "stream",
     "text": [
      "Fitting 5 folds for each of 162 candidates, totalling 810 fits\n"
     ]
    },
    {
     "name": "stderr",
     "output_type": "stream",
     "text": [
      "[Parallel(n_jobs=-1)]: Using backend LokyBackend with 4 concurrent workers.\n",
      "[Parallel(n_jobs=-1)]: Done   5 tasks      | elapsed:    7.1s\n",
      "[Parallel(n_jobs=-1)]: Done  10 tasks      | elapsed:   10.3s\n",
      "[Parallel(n_jobs=-1)]: Done  17 tasks      | elapsed:   13.3s\n",
      "[Parallel(n_jobs=-1)]: Done  24 tasks      | elapsed:   14.5s\n",
      "[Parallel(n_jobs=-1)]: Done  33 tasks      | elapsed:   16.3s\n",
      "[Parallel(n_jobs=-1)]: Done  42 tasks      | elapsed:   18.0s\n",
      "[Parallel(n_jobs=-1)]: Done  53 tasks      | elapsed:   20.0s\n",
      "[Parallel(n_jobs=-1)]: Done  64 tasks      | elapsed:   22.2s\n",
      "[Parallel(n_jobs=-1)]: Done  77 tasks      | elapsed:   24.7s\n",
      "[Parallel(n_jobs=-1)]: Done  90 tasks      | elapsed:   27.5s\n",
      "[Parallel(n_jobs=-1)]: Done 105 tasks      | elapsed:   30.6s\n",
      "[Parallel(n_jobs=-1)]: Done 120 tasks      | elapsed:   33.5s\n",
      "[Parallel(n_jobs=-1)]: Done 137 tasks      | elapsed:   39.4s\n",
      "[Parallel(n_jobs=-1)]: Done 154 tasks      | elapsed:   46.4s\n",
      "[Parallel(n_jobs=-1)]: Done 173 tasks      | elapsed:   50.1s\n",
      "[Parallel(n_jobs=-1)]: Done 192 tasks      | elapsed:   54.3s\n",
      "[Parallel(n_jobs=-1)]: Done 213 tasks      | elapsed:   58.9s\n",
      "[Parallel(n_jobs=-1)]: Done 234 tasks      | elapsed:  1.1min\n",
      "[Parallel(n_jobs=-1)]: Done 257 tasks      | elapsed:  1.1min\n",
      "[Parallel(n_jobs=-1)]: Done 280 tasks      | elapsed:  1.3min\n",
      "[Parallel(n_jobs=-1)]: Done 305 tasks      | elapsed:  1.4min\n",
      "[Parallel(n_jobs=-1)]: Done 330 tasks      | elapsed:  1.5min\n",
      "[Parallel(n_jobs=-1)]: Done 357 tasks      | elapsed:  1.7min\n",
      "[Parallel(n_jobs=-1)]: Done 384 tasks      | elapsed:  1.8min\n",
      "[Parallel(n_jobs=-1)]: Done 413 tasks      | elapsed:  2.0min\n",
      "[Parallel(n_jobs=-1)]: Done 442 tasks      | elapsed:  2.2min\n",
      "[Parallel(n_jobs=-1)]: Done 473 tasks      | elapsed:  2.4min\n",
      "[Parallel(n_jobs=-1)]: Done 504 tasks      | elapsed:  2.6min\n",
      "[Parallel(n_jobs=-1)]: Done 537 tasks      | elapsed:  2.8min\n",
      "[Parallel(n_jobs=-1)]: Done 570 tasks      | elapsed:  3.2min\n",
      "[Parallel(n_jobs=-1)]: Done 605 tasks      | elapsed:  3.4min\n",
      "[Parallel(n_jobs=-1)]: Done 640 tasks      | elapsed:  3.7min\n",
      "[Parallel(n_jobs=-1)]: Done 677 tasks      | elapsed:  3.9min\n",
      "[Parallel(n_jobs=-1)]: Done 714 tasks      | elapsed:  4.2min\n",
      "[Parallel(n_jobs=-1)]: Done 753 tasks      | elapsed:  4.5min\n",
      "[Parallel(n_jobs=-1)]: Done 792 tasks      | elapsed:  4.9min\n",
      "[Parallel(n_jobs=-1)]: Done 810 out of 810 | elapsed:  5.0min finished\n"
     ]
    }
   ],
   "source": [
    "# Set up a directory to cache the pipeline results\n",
    "cachedir = mkdtemp()\n",
    "\n",
    "# Set up a pipeline\n",
    "# The steps here act as placeholders and will be changed when we pass the pipeline into the grid search later\n",
    "my_pipeline = Pipeline([('scaler', StandardScaler()), ('dim_reducer', PCA()), ('model', LogisticRegression())], memory=cachedir)\n",
    "\n",
    "# Let's try the same range of C values from earlier\n",
    "c_values = [.00001, .0001, .001, .1, 1, 10, 100, 1000, 10000]\n",
    "\n",
    "# Parameter grid\n",
    "param_grid = [\n",
    "    \n",
    "    # l2 (default) with PCA\n",
    "    {'scaler': [None, StandardScaler(), RobustScaler()],\n",
    "     'dim_reducer': [PCA()],\n",
    "     'dim_reducer__n_components': [10, 20, 40, 60, 80, 100],\n",
    "     'model': [LogisticRegression(solver='lbfgs', random_state=1, n_jobs=-1)],\n",
    "     'model__C': c_values}\n",
    "]\n",
    "\n",
    "# Instantiate the log reg grid search\n",
    "logreg_gs = GridSearchCV(my_pipeline, param_grid=param_grid, n_jobs = -1, cv=5, verbose=10)\n",
    "\n",
    "# Fit the log reg grid search\n",
    "fitted_logreg_gs = logreg_gs.fit(X_train, y_train)"
   ]
  },
  {
   "cell_type": "code",
   "execution_count": 95,
   "metadata": {},
   "outputs": [
    {
     "data": {
      "text/plain": [
       "Pipeline(memory='/var/folders/5y/d61vfhqx3bv7m_5qfsqw1g8c0000gn/T/tmphlar0iv1',\n",
       "         steps=[('scaler',\n",
       "                 StandardScaler(copy=True, with_mean=True, with_std=True)),\n",
       "                ('dim_reducer',\n",
       "                 PCA(copy=True, iterated_power='auto', n_components=10,\n",
       "                     random_state=None, svd_solver='auto', tol=0.0,\n",
       "                     whiten=False)),\n",
       "                ('model',\n",
       "                 LogisticRegression(C=1e-05, class_weight=None, dual=False,\n",
       "                                    fit_intercept=True, intercept_scaling=1,\n",
       "                                    l1_ratio=None, max_iter=100,\n",
       "                                    multi_class='warn', n_jobs=-1, penalty='l2',\n",
       "                                    random_state=1, solver='lbfgs', tol=0.0001,\n",
       "                                    verbose=0, warm_start=False))],\n",
       "         verbose=False)"
      ]
     },
     "execution_count": 95,
     "metadata": {},
     "output_type": "execute_result"
    }
   ],
   "source": [
    "# Best model attributes\n",
    "fitted_logreg_gs.best_estimator_"
   ]
  },
  {
   "cell_type": "markdown",
   "metadata": {},
   "source": [
    "The best estimator model is when a StandardScaler is used, PCA n_components = 10, and C = 1e-5"
   ]
  },
  {
   "cell_type": "code",
   "execution_count": 97,
   "metadata": {},
   "outputs": [
    {
     "data": {
      "text/plain": [
       "0.5286577446496132"
      ]
     },
     "execution_count": 97,
     "metadata": {},
     "output_type": "execute_result"
    }
   ],
   "source": [
    "# Accuracy score for train data\n",
    "fitted_logreg_gs.score(X_train, y_train)"
   ]
  },
  {
   "cell_type": "code",
   "execution_count": 98,
   "metadata": {},
   "outputs": [
    {
     "data": {
      "text/plain": [
       "0.5286854389399187"
      ]
     },
     "execution_count": 98,
     "metadata": {},
     "output_type": "execute_result"
    }
   ],
   "source": [
    "# Accuracy score for validation data\n",
    "fitted_logreg_gs.score(X_val, y_val)"
   ]
  },
  {
   "cell_type": "markdown",
   "metadata": {},
   "source": [
    "Even after running a pipline which can incorporate scaling and cross validation at the same time, the accuracy score is still only 52%."
   ]
  },
  {
   "cell_type": "code",
   "execution_count": 99,
   "metadata": {},
   "outputs": [],
   "source": [
    "# Set up a directory to cache the pipeline results\n",
    "cachedir = mkdtemp()\n",
    "\n",
    "# Set up a pipeline\n",
    "# The steps here act as placeholders and will be changed when we pass the pipeline into the grid search later\n",
    "my_pipeline = Pipeline([('scaler', StandardScaler()), ('dim_reducer', PCA()), ('model', LogisticRegression())], memory = cachedir)"
   ]
  },
  {
   "cell_type": "markdown",
   "metadata": {},
   "source": [
    "#### Let's try with a random forest through a pipeline to see any improvements in the accruacy score will be made."
   ]
  },
  {
   "cell_type": "code",
   "execution_count": 102,
   "metadata": {
    "scrolled": true
   },
   "outputs": [
    {
     "name": "stdout",
     "output_type": "stream",
     "text": [
      "Fitting 5 folds for each of 162 candidates, totalling 810 fits\n"
     ]
    },
    {
     "name": "stderr",
     "output_type": "stream",
     "text": [
      "[Parallel(n_jobs=-1)]: Using backend LokyBackend with 4 concurrent workers.\n",
      "[Parallel(n_jobs=-1)]: Done   5 tasks      | elapsed:   16.6s\n",
      "[Parallel(n_jobs=-1)]: Done  10 tasks      | elapsed:   22.8s\n",
      "[Parallel(n_jobs=-1)]: Done  17 tasks      | elapsed:   40.3s\n",
      "[Parallel(n_jobs=-1)]: Done  24 tasks      | elapsed:  1.0min\n",
      "[Parallel(n_jobs=-1)]: Done  33 tasks      | elapsed:  1.7min\n",
      "[Parallel(n_jobs=-1)]: Done  42 tasks      | elapsed:  2.5min\n",
      "[Parallel(n_jobs=-1)]: Done  53 tasks      | elapsed:  4.0min\n",
      "[Parallel(n_jobs=-1)]: Done  64 tasks      | elapsed:  6.0min\n",
      "[Parallel(n_jobs=-1)]: Done  77 tasks      | elapsed: 10.0min\n",
      "[Parallel(n_jobs=-1)]: Done  90 tasks      | elapsed: 12.9min\n",
      "[Parallel(n_jobs=-1)]: Done 105 tasks      | elapsed: 18.1min\n",
      "[Parallel(n_jobs=-1)]: Done 120 tasks      | elapsed: 30.5min\n",
      "[Parallel(n_jobs=-1)]: Done 137 tasks      | elapsed: 37.0min\n",
      "[Parallel(n_jobs=-1)]: Done 154 tasks      | elapsed: 38.4min\n",
      "[Parallel(n_jobs=-1)]: Done 173 tasks      | elapsed: 40.7min\n",
      "[Parallel(n_jobs=-1)]: Done 192 tasks      | elapsed: 45.1min\n",
      "[Parallel(n_jobs=-1)]: Done 213 tasks      | elapsed: 52.3min\n",
      "[Parallel(n_jobs=-1)]: Done 234 tasks      | elapsed: 59.5min\n",
      "[Parallel(n_jobs=-1)]: Done 257 tasks      | elapsed: 110.0min\n",
      "[Parallel(n_jobs=-1)]: Done 280 tasks      | elapsed: 273.3min\n",
      "[Parallel(n_jobs=-1)]: Done 305 tasks      | elapsed: 284.2min\n",
      "[Parallel(n_jobs=-1)]: Done 330 tasks      | elapsed: 307.1min\n",
      "[Parallel(n_jobs=-1)]: Done 357 tasks      | elapsed: 388.0min\n",
      "[Parallel(n_jobs=-1)]: Done 384 tasks      | elapsed: 505.7min\n",
      "[Parallel(n_jobs=-1)]: Done 413 tasks      | elapsed: 593.5min\n",
      "[Parallel(n_jobs=-1)]: Done 442 tasks      | elapsed: 596.7min\n",
      "[Parallel(n_jobs=-1)]: Done 473 tasks      | elapsed: 610.4min\n",
      "[Parallel(n_jobs=-1)]: Done 504 tasks      | elapsed: 627.0min\n",
      "[Parallel(n_jobs=-1)]: Done 537 tasks      | elapsed: 656.1min\n",
      "[Parallel(n_jobs=-1)]: Done 570 tasks      | elapsed: 661.5min\n",
      "[Parallel(n_jobs=-1)]: Done 605 tasks      | elapsed: 673.7min\n",
      "[Parallel(n_jobs=-1)]: Done 640 tasks      | elapsed: 696.3min\n",
      "[Parallel(n_jobs=-1)]: Done 677 tasks      | elapsed: 727.5min\n",
      "[Parallel(n_jobs=-1)]: Done 714 tasks      | elapsed: 735.2min\n",
      "[Parallel(n_jobs=-1)]: Done 753 tasks      | elapsed: 758.2min\n",
      "[Parallel(n_jobs=-1)]: Done 792 tasks      | elapsed: 795.0min\n",
      "[Parallel(n_jobs=-1)]: Done 810 out of 810 | elapsed: 813.8min finished\n"
     ]
    }
   ],
   "source": [
    "# n_estimators\n",
    "n_estimator = [10, 20, 40, 60, 80, 100, 120, 140, 160]\n",
    "\n",
    "# Parameter grid\n",
    "param_grid = [\n",
    "\n",
    "    # l2 (default) with PCA\n",
    "    {'scaler': [None, StandardScaler(), RobustScaler()],\n",
    "     'dim_reducer': [PCA()],\n",
    "     'dim_reducer__n_components': [10, 20, 40, 60, 80, 100],\n",
    "     'model': [RandomForestClassifier(n_jobs = -1)],\n",
    "     'model__n_estimators': n_estimator}\n",
    "]\n",
    "\n",
    "# Instantiate the log reg grid search\n",
    "random_forest_gs = GridSearchCV(my_pipeline, param_grid=param_grid, n_jobs = -1, cv=5, verbose=10)\n",
    "\n",
    "# Fit the log reg grid search\n",
    "fitted_randomforest_gs = random_forest_gs.fit(X_train, y_train)"
   ]
  },
  {
   "cell_type": "code",
   "execution_count": 103,
   "metadata": {
    "scrolled": true
   },
   "outputs": [
    {
     "data": {
      "text/plain": [
       "Pipeline(memory='/var/folders/5y/d61vfhqx3bv7m_5qfsqw1g8c0000gn/T/tmpkaj9ki6i',\n",
       "         steps=[('scaler', None),\n",
       "                ('dim_reducer',\n",
       "                 PCA(copy=True, iterated_power='auto', n_components=100,\n",
       "                     random_state=None, svd_solver='auto', tol=0.0,\n",
       "                     whiten=False)),\n",
       "                ('model',\n",
       "                 RandomForestClassifier(bootstrap=True, class_weight=None,\n",
       "                                        criterion='gini', max_depth=None,\n",
       "                                        max_features='auto',\n",
       "                                        max_leaf_nodes=None,\n",
       "                                        min_impurity_decrease=0.0,\n",
       "                                        min_impurity_split=None,\n",
       "                                        min_samples_leaf=1, min_samples_split=2,\n",
       "                                        min_weight_fraction_leaf=0.0,\n",
       "                                        n_estimators=140, n_jobs=-1,\n",
       "                                        oob_score=False, random_state=None,\n",
       "                                        verbose=0, warm_start=False))],\n",
       "         verbose=False)"
      ]
     },
     "execution_count": 103,
     "metadata": {},
     "output_type": "execute_result"
    }
   ],
   "source": [
    "fitted_randomforest_gs.best_estimator_"
   ]
  },
  {
   "cell_type": "markdown",
   "metadata": {},
   "source": [
    "Best estimator for a random forest is when n_components = 100, scaler is none, and n_estimator = 140"
   ]
  },
  {
   "cell_type": "code",
   "execution_count": 104,
   "metadata": {},
   "outputs": [
    {
     "data": {
      "text/plain": [
       "0.9779584768573418"
      ]
     },
     "execution_count": 104,
     "metadata": {},
     "output_type": "execute_result"
    }
   ],
   "source": [
    "# Accuracy Score for tain\n",
    "fitted_randomforest_gs.score(X_train, y_train)"
   ]
  },
  {
   "cell_type": "code",
   "execution_count": 105,
   "metadata": {},
   "outputs": [
    {
     "data": {
      "text/plain": [
       "0.5163379009185364"
      ]
     },
     "execution_count": 105,
     "metadata": {},
     "output_type": "execute_result"
    }
   ],
   "source": [
    "# Accuracy score for random forest\n",
    "fitted_randomforest_gs.score(X_val, y_val)"
   ]
  },
  {
   "cell_type": "code",
   "execution_count": 106,
   "metadata": {},
   "outputs": [
    {
     "data": {
      "text/plain": [
       "0.5122129946262823"
      ]
     },
     "execution_count": 106,
     "metadata": {},
     "output_type": "execute_result"
    }
   ],
   "source": [
    "# Accuracy score for test\n",
    "fitted_randomforest_gs.score(X_test, y_test)"
   ]
  },
  {
   "cell_type": "markdown",
   "metadata": {},
   "source": [
    "We can see here that the accuracy score is a 97% for the train dataset, which might seem good but by looking at the accuracy scores for the test and validation set we see that the accuracy score is 51% which means that the model is overfitting for the train dataset. Therefore the random forest was not an improvement from the logistic regression.\n",
    "\n",
    "I did not run a XGboost model on this dataset because while XGboost could potentially improve the model, it is not going to improve the model by 30-40% which is what I would like to see. Therefore we can determine that removing the variation in the countries, province, and variety hindered the accuracy score. Back to the drawing board!"
   ]
  },
  {
   "cell_type": "markdown",
   "metadata": {},
   "source": [
    "# Approach 1"
   ]
  },
  {
   "cell_type": "markdown",
   "metadata": {},
   "source": [
    "#### A. Random Forest"
   ]
  },
  {
   "cell_type": "markdown",
   "metadata": {},
   "source": [
    "Pipline/Gridsearch to find best accuracy"
   ]
  },
  {
   "cell_type": "code",
   "execution_count": 24,
   "metadata": {},
   "outputs": [],
   "source": [
    "# Set up a directory to cache the pipeline results\n",
    "cachedir = mkdtemp()\n",
    "\n",
    "my_pipeline = Pipeline([('scaler', StandardScaler()), ('dim_reducer', PCA()), ('model', LogisticRegression())], memory = cachedir)\n",
    "# Let's try the same range of C values from earlier\n",
    "n_estimator = [300]\n",
    "\n",
    "# Parameter grid\n",
    "param_grid = [\n",
    "\n",
    "    # l2 (default) with PCA\n",
    "    {'scaler': [None, StandardScaler(), RobustScaler()],\n",
    "     'dim_reducer': [PCA()],\n",
    "     'dim_reducer__n_components': [100],\n",
    "     'model': [RandomForestClassifier(n_jobs = -1)],\n",
    "     'model__n_estimators': n_estimator}\n",
    "]"
   ]
  },
  {
   "cell_type": "code",
   "execution_count": 25,
   "metadata": {},
   "outputs": [],
   "source": [
    "# Instantiate the log reg grid search\n",
    "random_forest_gs = GridSearchCV(my_pipeline, param_grid=param_grid, n_jobs = -1, cv=5, verbose=10)"
   ]
  },
  {
   "cell_type": "code",
   "execution_count": 26,
   "metadata": {},
   "outputs": [
    {
     "name": "stdout",
     "output_type": "stream",
     "text": [
      "Fitting 5 folds for each of 3 candidates, totalling 15 fits\n"
     ]
    },
    {
     "name": "stderr",
     "output_type": "stream",
     "text": [
      "[Parallel(n_jobs=-1)]: Using backend LokyBackend with 4 concurrent workers.\n",
      "[Parallel(n_jobs=-1)]: Done   5 tasks      | elapsed: 25.4min\n",
      "[Parallel(n_jobs=-1)]: Done  10 out of  15 | elapsed: 40.5min remaining: 20.3min\n",
      "[Parallel(n_jobs=-1)]: Done  12 out of  15 | elapsed: 42.2min remaining: 10.6min\n",
      "[Parallel(n_jobs=-1)]: Done  15 out of  15 | elapsed: 48.6min finished\n"
     ]
    }
   ],
   "source": [
    "# Fit the log reg grid search\n",
    "fitted_randomforest_gs = random_forest_gs.fit(X_train, y_train)"
   ]
  },
  {
   "cell_type": "code",
   "execution_count": 27,
   "metadata": {},
   "outputs": [
    {
     "name": "stdout",
     "output_type": "stream",
     "text": [
      "train accuracy: 0.9999862605278705\n",
      "valdiation accuracy: 0.8039679050340734\n"
     ]
    }
   ],
   "source": [
    "print('train accuracy:', fitted_randomforest_gs.score(X_train, y_train))\n",
    "print('valdiation accuracy:', fitted_randomforest_gs.score(X_val, y_val))"
   ]
  },
  {
   "cell_type": "markdown",
   "metadata": {},
   "source": [
    "Accuracy score of train set is 99% and validation score is 80% which indicates that the model is overfitting."
   ]
  },
  {
   "cell_type": "code",
   "execution_count": 52,
   "metadata": {},
   "outputs": [
    {
     "data": {
      "text/plain": [
       "array([[7972, 1637],\n",
       "       [1785, 6802]])"
      ]
     },
     "execution_count": 52,
     "metadata": {},
     "output_type": "execute_result"
    }
   ],
   "source": [
    "## CONFUSION MATRIX\n",
    "from sklearn.metrics import confusion_matrix\n",
    "\n",
    "y_pred = fitted_randomforest_gs.predict(X_val)\n",
    "confusion_matrix(y_val, y_pred)"
   ]
  },
  {
   "cell_type": "markdown",
   "metadata": {},
   "source": [
    "Confusion matrix provides insights into how well the model performed in terms of predicting True positives and true negatives. We can see from the above tha the model correctly predicted True negatives (where points = 0) of 7972 and incorrectly predicted 1785 reviews as negative. The model correctly predicted 6802 as positive scores and incorectly predictetd 1637 as positive scores.\n",
    "\n",
    "As expected the model did a better job at predicting the negative scores than the positive scores (explained in Part 2 of the project)."
   ]
  },
  {
   "cell_type": "markdown",
   "metadata": {},
   "source": [
    "### Model Evaluation"
   ]
  },
  {
   "cell_type": "code",
   "execution_count": 53,
   "metadata": {},
   "outputs": [
    {
     "data": {
      "text/plain": [
       "0.8119366893822818"
      ]
     },
     "execution_count": 53,
     "metadata": {},
     "output_type": "execute_result"
    }
   ],
   "source": [
    "### Accuracy Score for validation set\n",
    "from sklearn.metrics import accuracy_score\n",
    "\n",
    "accuracy_score(y_val, y_pred)"
   ]
  },
  {
   "cell_type": "code",
   "execution_count": 54,
   "metadata": {},
   "outputs": [
    {
     "data": {
      "text/plain": [
       "0.8060196705770826"
      ]
     },
     "execution_count": 54,
     "metadata": {},
     "output_type": "execute_result"
    }
   ],
   "source": [
    "# Precision Score for Validation Set\n",
    "from sklearn.metrics import precision_score\n",
    "\n",
    "# precision_score(true labels, predicted labels)\n",
    "precision_score(y_val, y_pred)"
   ]
  },
  {
   "cell_type": "code",
   "execution_count": 55,
   "metadata": {},
   "outputs": [
    {
     "data": {
      "text/plain": [
       "0.7921276347967858"
      ]
     },
     "execution_count": 55,
     "metadata": {},
     "output_type": "execute_result"
    }
   ],
   "source": [
    "# Recall Score for Validation set\n",
    "from sklearn.metrics import recall_score\n",
    "\n",
    "# recall_score(true labels, predicted labels)\n",
    "recall_score(y_val, y_pred)"
   ]
  },
  {
   "cell_type": "code",
   "execution_count": 36,
   "metadata": {},
   "outputs": [
    {
     "data": {
      "image/png": "[encoded data removed]",
      "text/plain": [
       "<Figure size 432x288 with 1 Axes>"
      ]
     },
     "metadata": {
      "needs_background": "light"
     },
     "output_type": "display_data"
    }
   ],
   "source": [
    "# View in a plot how the y validation data is predicted.\n",
    "plt.figure()\n",
    "plt.hist(Ypredict)\n",
    "plt.show()"
   ]
  },
  {
   "cell_type": "markdown",
   "metadata": {},
   "source": [
    "Accuracy score for Test dataset cannot be completed because the X_test has a different size matrix than the train dataset because the train and test set contain different features. The different features are from when splitting the train and test set, there were "
   ]
  },
  {
   "cell_type": "code",
   "execution_count": 26,
   "metadata": {
    "scrolled": true
   },
   "outputs": [
    {
     "ename": "ValueError",
     "evalue": "operands could not be broadcast together with shapes (38992,1348) (1325,) ",
     "output_type": "error",
     "traceback": [
      "\u001b[0;31m---------------------------------------------------------------------------\u001b[0m",
      "\u001b[0;31mValueError\u001b[0m                                Traceback (most recent call last)",
      "\u001b[0;32m<ipython-input-26-aa5102bf0b97>\u001b[0m in \u001b[0;36m<module>\u001b[0;34m\u001b[0m\n\u001b[0;32m----> 1\u001b[0;31m \u001b[0mfitted_randomforest_gs\u001b[0m\u001b[0;34m.\u001b[0m\u001b[0mscore\u001b[0m\u001b[0;34m(\u001b[0m\u001b[0mX_test\u001b[0m\u001b[0;34m,\u001b[0m \u001b[0my_test\u001b[0m\u001b[0;34m)\u001b[0m\u001b[0;34m\u001b[0m\u001b[0;34m\u001b[0m\u001b[0m\n\u001b[0m",
      "\u001b[0;32m~/opt/anaconda3/lib/python3.7/site-packages/sklearn/model_selection/_search.py\u001b[0m in \u001b[0;36mscore\u001b[0;34m(self, X, y)\u001b[0m\n\u001b[1;32m    426\u001b[0m                              % self.best_estimator_)\n\u001b[1;32m    427\u001b[0m         \u001b[0mscore\u001b[0m \u001b[0;34m=\u001b[0m \u001b[0mself\u001b[0m\u001b[0;34m.\u001b[0m\u001b[0mscorer_\u001b[0m\u001b[0;34m[\u001b[0m\u001b[0mself\u001b[0m\u001b[0;34m.\u001b[0m\u001b[0mrefit\u001b[0m\u001b[0;34m]\u001b[0m \u001b[0;32mif\u001b[0m \u001b[0mself\u001b[0m\u001b[0;34m.\u001b[0m\u001b[0mmultimetric_\u001b[0m \u001b[0;32melse\u001b[0m \u001b[0mself\u001b[0m\u001b[0;34m.\u001b[0m\u001b[0mscorer_\u001b[0m\u001b[0;34m\u001b[0m\u001b[0;34m\u001b[0m\u001b[0m\n\u001b[0;32m--> 428\u001b[0;31m         \u001b[0;32mreturn\u001b[0m \u001b[0mscore\u001b[0m\u001b[0;34m(\u001b[0m\u001b[0mself\u001b[0m\u001b[0;34m.\u001b[0m\u001b[0mbest_estimator_\u001b[0m\u001b[0;34m,\u001b[0m \u001b[0mX\u001b[0m\u001b[0;34m,\u001b[0m \u001b[0my\u001b[0m\u001b[0;34m)\u001b[0m\u001b[0;34m\u001b[0m\u001b[0;34m\u001b[0m\u001b[0m\n\u001b[0m\u001b[1;32m    429\u001b[0m \u001b[0;34m\u001b[0m\u001b[0m\n\u001b[1;32m    430\u001b[0m     \u001b[0;32mdef\u001b[0m \u001b[0m_check_is_fitted\u001b[0m\u001b[0;34m(\u001b[0m\u001b[0mself\u001b[0m\u001b[0;34m,\u001b[0m \u001b[0mmethod_name\u001b[0m\u001b[0;34m)\u001b[0m\u001b[0;34m:\u001b[0m\u001b[0;34m\u001b[0m\u001b[0;34m\u001b[0m\u001b[0m\n",
      "\u001b[0;32m~/opt/anaconda3/lib/python3.7/site-packages/sklearn/metrics/scorer.py\u001b[0m in \u001b[0;36m_passthrough_scorer\u001b[0;34m(estimator, *args, **kwargs)\u001b[0m\n\u001b[1;32m    238\u001b[0m \u001b[0;32mdef\u001b[0m \u001b[0m_passthrough_scorer\u001b[0m\u001b[0;34m(\u001b[0m\u001b[0mestimator\u001b[0m\u001b[0;34m,\u001b[0m \u001b[0;34m*\u001b[0m\u001b[0margs\u001b[0m\u001b[0;34m,\u001b[0m \u001b[0;34m**\u001b[0m\u001b[0mkwargs\u001b[0m\u001b[0;34m)\u001b[0m\u001b[0;34m:\u001b[0m\u001b[0;34m\u001b[0m\u001b[0;34m\u001b[0m\u001b[0m\n\u001b[1;32m    239\u001b[0m     \u001b[0;34m\"\"\"Function that wraps estimator.score\"\"\"\u001b[0m\u001b[0;34m\u001b[0m\u001b[0;34m\u001b[0m\u001b[0m\n\u001b[0;32m--> 240\u001b[0;31m     \u001b[0;32mreturn\u001b[0m \u001b[0mestimator\u001b[0m\u001b[0;34m.\u001b[0m\u001b[0mscore\u001b[0m\u001b[0;34m(\u001b[0m\u001b[0;34m*\u001b[0m\u001b[0margs\u001b[0m\u001b[0;34m,\u001b[0m \u001b[0;34m**\u001b[0m\u001b[0mkwargs\u001b[0m\u001b[0;34m)\u001b[0m\u001b[0;34m\u001b[0m\u001b[0;34m\u001b[0m\u001b[0m\n\u001b[0m\u001b[1;32m    241\u001b[0m \u001b[0;34m\u001b[0m\u001b[0m\n\u001b[1;32m    242\u001b[0m \u001b[0;34m\u001b[0m\u001b[0m\n",
      "\u001b[0;32m~/opt/anaconda3/lib/python3.7/site-packages/sklearn/utils/metaestimators.py\u001b[0m in \u001b[0;36m<lambda>\u001b[0;34m(*args, **kwargs)\u001b[0m\n\u001b[1;32m    114\u001b[0m \u001b[0;34m\u001b[0m\u001b[0m\n\u001b[1;32m    115\u001b[0m         \u001b[0;31m# lambda, but not partial, allows help() to work with update_wrapper\u001b[0m\u001b[0;34m\u001b[0m\u001b[0;34m\u001b[0m\u001b[0;34m\u001b[0m\u001b[0m\n\u001b[0;32m--> 116\u001b[0;31m         \u001b[0mout\u001b[0m \u001b[0;34m=\u001b[0m \u001b[0;32mlambda\u001b[0m \u001b[0;34m*\u001b[0m\u001b[0margs\u001b[0m\u001b[0;34m,\u001b[0m \u001b[0;34m**\u001b[0m\u001b[0mkwargs\u001b[0m\u001b[0;34m:\u001b[0m \u001b[0mself\u001b[0m\u001b[0;34m.\u001b[0m\u001b[0mfn\u001b[0m\u001b[0;34m(\u001b[0m\u001b[0mobj\u001b[0m\u001b[0;34m,\u001b[0m \u001b[0;34m*\u001b[0m\u001b[0margs\u001b[0m\u001b[0;34m,\u001b[0m \u001b[0;34m**\u001b[0m\u001b[0mkwargs\u001b[0m\u001b[0;34m)\u001b[0m\u001b[0;34m\u001b[0m\u001b[0;34m\u001b[0m\u001b[0m\n\u001b[0m\u001b[1;32m    117\u001b[0m         \u001b[0;31m# update the docstring of the returned function\u001b[0m\u001b[0;34m\u001b[0m\u001b[0;34m\u001b[0m\u001b[0;34m\u001b[0m\u001b[0m\n\u001b[1;32m    118\u001b[0m         \u001b[0mupdate_wrapper\u001b[0m\u001b[0;34m(\u001b[0m\u001b[0mout\u001b[0m\u001b[0;34m,\u001b[0m \u001b[0mself\u001b[0m\u001b[0;34m.\u001b[0m\u001b[0mfn\u001b[0m\u001b[0;34m)\u001b[0m\u001b[0;34m\u001b[0m\u001b[0;34m\u001b[0m\u001b[0m\n",
      "\u001b[0;32m~/opt/anaconda3/lib/python3.7/site-packages/sklearn/pipeline.py\u001b[0m in \u001b[0;36mscore\u001b[0;34m(self, X, y, sample_weight)\u001b[0m\n\u001b[1;32m    596\u001b[0m         \u001b[0mXt\u001b[0m \u001b[0;34m=\u001b[0m \u001b[0mX\u001b[0m\u001b[0;34m\u001b[0m\u001b[0;34m\u001b[0m\u001b[0m\n\u001b[1;32m    597\u001b[0m         \u001b[0;32mfor\u001b[0m \u001b[0m_\u001b[0m\u001b[0;34m,\u001b[0m \u001b[0mname\u001b[0m\u001b[0;34m,\u001b[0m \u001b[0mtransform\u001b[0m \u001b[0;32min\u001b[0m \u001b[0mself\u001b[0m\u001b[0;34m.\u001b[0m\u001b[0m_iter\u001b[0m\u001b[0;34m(\u001b[0m\u001b[0mwith_final\u001b[0m\u001b[0;34m=\u001b[0m\u001b[0;32mFalse\u001b[0m\u001b[0;34m)\u001b[0m\u001b[0;34m:\u001b[0m\u001b[0;34m\u001b[0m\u001b[0;34m\u001b[0m\u001b[0m\n\u001b[0;32m--> 598\u001b[0;31m             \u001b[0mXt\u001b[0m \u001b[0;34m=\u001b[0m \u001b[0mtransform\u001b[0m\u001b[0;34m.\u001b[0m\u001b[0mtransform\u001b[0m\u001b[0;34m(\u001b[0m\u001b[0mXt\u001b[0m\u001b[0;34m)\u001b[0m\u001b[0;34m\u001b[0m\u001b[0;34m\u001b[0m\u001b[0m\n\u001b[0m\u001b[1;32m    599\u001b[0m         \u001b[0mscore_params\u001b[0m \u001b[0;34m=\u001b[0m \u001b[0;34m{\u001b[0m\u001b[0;34m}\u001b[0m\u001b[0;34m\u001b[0m\u001b[0;34m\u001b[0m\u001b[0m\n\u001b[1;32m    600\u001b[0m         \u001b[0;32mif\u001b[0m \u001b[0msample_weight\u001b[0m \u001b[0;32mis\u001b[0m \u001b[0;32mnot\u001b[0m \u001b[0;32mNone\u001b[0m\u001b[0;34m:\u001b[0m\u001b[0;34m\u001b[0m\u001b[0;34m\u001b[0m\u001b[0m\n",
      "\u001b[0;32m~/opt/anaconda3/lib/python3.7/site-packages/sklearn/decomposition/base.py\u001b[0m in \u001b[0;36mtransform\u001b[0;34m(self, X)\u001b[0m\n\u001b[1;32m    127\u001b[0m         \u001b[0mX\u001b[0m \u001b[0;34m=\u001b[0m \u001b[0mcheck_array\u001b[0m\u001b[0;34m(\u001b[0m\u001b[0mX\u001b[0m\u001b[0;34m)\u001b[0m\u001b[0;34m\u001b[0m\u001b[0;34m\u001b[0m\u001b[0m\n\u001b[1;32m    128\u001b[0m         \u001b[0;32mif\u001b[0m \u001b[0mself\u001b[0m\u001b[0;34m.\u001b[0m\u001b[0mmean_\u001b[0m \u001b[0;32mis\u001b[0m \u001b[0;32mnot\u001b[0m \u001b[0;32mNone\u001b[0m\u001b[0;34m:\u001b[0m\u001b[0;34m\u001b[0m\u001b[0;34m\u001b[0m\u001b[0m\n\u001b[0;32m--> 129\u001b[0;31m             \u001b[0mX\u001b[0m \u001b[0;34m=\u001b[0m \u001b[0mX\u001b[0m \u001b[0;34m-\u001b[0m \u001b[0mself\u001b[0m\u001b[0;34m.\u001b[0m\u001b[0mmean_\u001b[0m\u001b[0;34m\u001b[0m\u001b[0;34m\u001b[0m\u001b[0m\n\u001b[0m\u001b[1;32m    130\u001b[0m         \u001b[0mX_transformed\u001b[0m \u001b[0;34m=\u001b[0m \u001b[0mnp\u001b[0m\u001b[0;34m.\u001b[0m\u001b[0mdot\u001b[0m\u001b[0;34m(\u001b[0m\u001b[0mX\u001b[0m\u001b[0;34m,\u001b[0m \u001b[0mself\u001b[0m\u001b[0;34m.\u001b[0m\u001b[0mcomponents_\u001b[0m\u001b[0;34m.\u001b[0m\u001b[0mT\u001b[0m\u001b[0;34m)\u001b[0m\u001b[0;34m\u001b[0m\u001b[0;34m\u001b[0m\u001b[0m\n\u001b[1;32m    131\u001b[0m         \u001b[0;32mif\u001b[0m \u001b[0mself\u001b[0m\u001b[0;34m.\u001b[0m\u001b[0mwhiten\u001b[0m\u001b[0;34m:\u001b[0m\u001b[0;34m\u001b[0m\u001b[0;34m\u001b[0m\u001b[0m\n",
      "\u001b[0;31mValueError\u001b[0m: operands could not be broadcast together with shapes (38992,1348) (1325,) "
     ]
    }
   ],
   "source": [
    "fitted_randomforest_gs.score(X_test, y_test)"
   ]
  },
  {
   "cell_type": "markdown",
   "metadata": {},
   "source": [
    "The error indicates that the Test size and Train size are not the same shape. We can see this below as well. While the rows do not need to be the same size, the columns and feature names need to be the same for test and train dataset. This is something that I did not consider checking when I ran the one hot encoding. For tfidf this is not a problem because I fit the tfidf vectorizer to the train set and then transform the test set from the fit."
   ]
  },
  {
   "cell_type": "code",
   "execution_count": 76,
   "metadata": {},
   "outputs": [
    {
     "data": {
      "text/plain": [
       "(38992, 1132)"
      ]
     },
     "execution_count": 76,
     "metadata": {},
     "output_type": "execute_result"
    }
   ],
   "source": [
    "X_test.shape"
   ]
  },
  {
   "cell_type": "code",
   "execution_count": 78,
   "metadata": {},
   "outputs": [
    {
     "data": {
      "text/plain": [
       "(72783, 1325)"
      ]
     },
     "execution_count": 78,
     "metadata": {},
     "output_type": "execute_result"
    }
   ],
   "source": [
    "X_train.shape"
   ]
  },
  {
   "cell_type": "markdown",
   "metadata": {},
   "source": [
    "#### Logistic Regression"
   ]
  },
  {
   "cell_type": "code",
   "execution_count": 96,
   "metadata": {},
   "outputs": [
    {
     "name": "stdout",
     "output_type": "stream",
     "text": [
      "Fitting 5 folds for each of 99 candidates, totalling 495 fits\n"
     ]
    },
    {
     "name": "stderr",
     "output_type": "stream",
     "text": [
      "[Parallel(n_jobs=-1)]: Using backend LokyBackend with 4 concurrent workers.\n",
      "[Parallel(n_jobs=-1)]: Done   5 tasks      | elapsed:  1.9min\n",
      "[Parallel(n_jobs=-1)]: Done  10 tasks      | elapsed:  2.7min\n",
      "[Parallel(n_jobs=-1)]: Done  17 tasks      | elapsed:  3.4min\n",
      "[Parallel(n_jobs=-1)]: Done  24 tasks      | elapsed:  4.0min\n",
      "[Parallel(n_jobs=-1)]: Done  33 tasks      | elapsed:  5.7min\n",
      "[Parallel(n_jobs=-1)]: Done  42 tasks      | elapsed:  8.5min\n",
      "[Parallel(n_jobs=-1)]: Done  53 tasks      | elapsed:  9.0min\n",
      "[Parallel(n_jobs=-1)]: Done  64 tasks      | elapsed:  9.5min\n",
      "[Parallel(n_jobs=-1)]: Done  77 tasks      | elapsed: 10.3min\n",
      "[Parallel(n_jobs=-1)]: Done  90 tasks      | elapsed: 11.1min\n",
      "[Parallel(n_jobs=-1)]: Done 105 tasks      | elapsed: 12.5min\n",
      "[Parallel(n_jobs=-1)]: Done 120 tasks      | elapsed: 13.6min\n",
      "[Parallel(n_jobs=-1)]: Done 137 tasks      | elapsed: 14.8min\n",
      "[Parallel(n_jobs=-1)]: Done 154 tasks      | elapsed: 15.8min\n",
      "[Parallel(n_jobs=-1)]: Done 173 tasks      | elapsed: 17.0min\n",
      "[Parallel(n_jobs=-1)]: Done 192 tasks      | elapsed: 18.5min\n",
      "[Parallel(n_jobs=-1)]: Done 213 tasks      | elapsed: 19.8min\n",
      "[Parallel(n_jobs=-1)]: Done 234 tasks      | elapsed: 21.3min\n",
      "[Parallel(n_jobs=-1)]: Done 257 tasks      | elapsed: 23.0min\n",
      "[Parallel(n_jobs=-1)]: Done 280 tasks      | elapsed: 28.9min\n",
      "[Parallel(n_jobs=-1)]: Done 305 tasks      | elapsed: 31.0min\n",
      "[Parallel(n_jobs=-1)]: Done 330 tasks      | elapsed: 32.5min\n",
      "[Parallel(n_jobs=-1)]: Done 357 tasks      | elapsed: 34.2min\n",
      "[Parallel(n_jobs=-1)]: Done 384 tasks      | elapsed: 35.8min\n",
      "[Parallel(n_jobs=-1)]: Done 413 tasks      | elapsed: 37.9min\n",
      "[Parallel(n_jobs=-1)]: Done 442 tasks      | elapsed: 70.5min\n",
      "[Parallel(n_jobs=-1)]: Done 473 tasks      | elapsed: 174.3min\n",
      "[Parallel(n_jobs=-1)]: Done 495 out of 495 | elapsed: 218.5min finished\n"
     ]
    }
   ],
   "source": [
    "# Set up a directory to cache the pipeline results\n",
    "cachedir = mkdtemp()\n",
    "\n",
    "# Set up a pipeline\n",
    "# The steps here act as placeholders and will be changed when we pass the pipeline into the grid search later\n",
    "my_pipeline = Pipeline([('scaler', StandardScaler()), ('dim_reducer', PCA()), ('model', LogisticRegression())], memory = cachedir)\n",
    "\n",
    "\n",
    "# Let's try the same range of C values from earlier\n",
    "c_values = c_values = [.00001, .0001, .001, .1, 1, 10, 100, 1000, 10000]\n",
    "\n",
    "\n",
    "# Parameter grid\n",
    "logreg_param_grid = [\n",
    "\n",
    "    # l2 (default) with PCA\n",
    "    {'scaler': [RobustScaler()],\n",
    "     'dim_reducer': [PCA()],\n",
    "     'dim_reducer__n_components': [1, 10, 100, 200, 300, 400],\n",
    "     'model': [LogisticRegression(solver='lbfgs', random_state=1, n_jobs=-1)],\n",
    "     'model__C': c_values},\n",
    "    \n",
    "]\n",
    "\n",
    "# Instantiate the log reg grid search\n",
    "logreg_gs = GridSearchCV(my_pipeline, param_grid=logreg_param_grid, n_jobs = -1, cv=5, verbose=10)\n",
    "\n",
    "# Fit the log reg grid search\n",
    "fitted_logreg_gs = logreg_gs.fit(X_train, y_train)"
   ]
  },
  {
   "cell_type": "code",
   "execution_count": 97,
   "metadata": {},
   "outputs": [
    {
     "data": {
      "text/plain": [
       "Pipeline(memory='/var/folders/5y/d61vfhqx3bv7m_5qfsqw1g8c0000gn/T/tmpxxhifh7x',\n",
       "         steps=[('scaler',\n",
       "                 RobustScaler(copy=True, quantile_range=(25.0, 75.0),\n",
       "                              with_centering=True, with_scaling=True)),\n",
       "                ('dim_reducer',\n",
       "                 PCA(copy=True, iterated_power='auto', n_components=300,\n",
       "                     random_state=None, svd_solver='auto', tol=0.0,\n",
       "                     whiten=False)),\n",
       "                ('model',\n",
       "                 LogisticRegression(C=1000, class_weight=None, dual=False,\n",
       "                                    fit_intercept=True, intercept_scaling=1,\n",
       "                                    l1_ratio=None, max_iter=100,\n",
       "                                    multi_class='warn', n_jobs=-1, penalty='l2',\n",
       "                                    random_state=1, solver='lbfgs', tol=0.0001,\n",
       "                                    verbose=0, warm_start=False))],\n",
       "         verbose=False)"
      ]
     },
     "execution_count": 97,
     "metadata": {},
     "output_type": "execute_result"
    }
   ],
   "source": [
    "fitted_logreg_gs.best_estimator_"
   ]
  },
  {
   "cell_type": "code",
   "execution_count": 98,
   "metadata": {},
   "outputs": [
    {
     "name": "stdout",
     "output_type": "stream",
     "text": [
      "The best logistic regression's accuracy on the remainder set: 0.7933995575889974\n",
      "The best logistic regression's accuracy on the test set: 0.7908331501428886\n"
     ]
    }
   ],
   "source": [
    "print(f\"The best logistic regression's accuracy on the remainder set: {fitted_logreg_gs.score(X_train, y_train)}\")\n",
    "print(f\"The best logistic regression's accuracy on the test set: {fitted_logreg_gs.score(X_val, y_val)}\")"
   ]
  },
  {
   "cell_type": "markdown",
   "metadata": {},
   "source": [
    "After running many different models from, I was able to get the best_estimator for logistic regression. I did not originally save the model as a pkl therefore I needed to run the best fitting model again to be able to evaluate the model with precision and recall."
   ]
  },
  {
   "cell_type": "code",
   "execution_count": 56,
   "metadata": {},
   "outputs": [
    {
     "name": "stdout",
     "output_type": "stream",
     "text": [
      "Fitting 5 folds for each of 1 candidates, totalling 5 fits\n"
     ]
    },
    {
     "name": "stderr",
     "output_type": "stream",
     "text": [
      "[Parallel(n_jobs=-1)]: Using backend LokyBackend with 4 concurrent workers.\n",
      "[Parallel(n_jobs=-1)]: Done   2 out of   5 | elapsed:  1.9min remaining:  2.8min\n",
      "[Parallel(n_jobs=-1)]: Done   3 out of   5 | elapsed:  1.9min remaining:  1.3min\n",
      "[Parallel(n_jobs=-1)]: Done   5 out of   5 | elapsed:  2.5min remaining:    0.0s\n",
      "[Parallel(n_jobs=-1)]: Done   5 out of   5 | elapsed:  2.5min finished\n"
     ]
    }
   ],
   "source": [
    "# Set up a directory to cache the pipeline results\n",
    "cachedir = mkdtemp()\n",
    "\n",
    "# Set up a pipeline\n",
    "# The steps here act as placeholders and will be changed when we pass the pipeline into the grid search later\n",
    "my_pipeline = Pipeline([('scaler', StandardScaler()), ('dim_reducer', PCA()), ('model', LogisticRegression())], memory = cachedir)\n",
    "\n",
    "\n",
    "# Let's try the same range of C values from earlier\n",
    "c_values = [1000]\n",
    "\n",
    "\n",
    "# Parameter grid\n",
    "logreg_param_grid = [\n",
    "\n",
    "    # l2 (default) with PCA\n",
    "    {'scaler': [RobustScaler()],\n",
    "     'dim_reducer': [PCA()],\n",
    "     'dim_reducer__n_components': [300],\n",
    "     'model': [LogisticRegression(solver='lbfgs', random_state=1, n_jobs=-1)],\n",
    "     'model__C': c_values},\n",
    "    \n",
    "]\n",
    "\n",
    "# Instantiate the log reg grid search\n",
    "logreg_gs = GridSearchCV(my_pipeline, param_grid=logreg_param_grid, n_jobs = -1, cv=5, verbose=10)\n",
    "\n",
    "# Fit the log reg grid search\n",
    "fitted_logreg_gs = logreg_gs.fit(X_train, y_train)"
   ]
  },
  {
   "cell_type": "code",
   "execution_count": 58,
   "metadata": {},
   "outputs": [
    {
     "data": {
      "text/plain": [
       "0.7940040943626946"
      ]
     },
     "execution_count": 58,
     "metadata": {},
     "output_type": "execute_result"
    }
   ],
   "source": [
    "# Accuracy Score of the model from the train dataset\n",
    "fitted_logreg_gs.score(X_train, y_train)"
   ]
  },
  {
   "cell_type": "markdown",
   "metadata": {},
   "source": [
    "#### Model Evaluation for Logistic Regression"
   ]
  },
  {
   "cell_type": "code",
   "execution_count": 62,
   "metadata": {},
   "outputs": [
    {
     "name": "stdout",
     "output_type": "stream",
     "text": [
      "accuracy score for logistic regression 0.791272807210376\n",
      "precision score for logistic regression 0.7871447415757286\n",
      "recall score for logistic regression 0.7644113194363573\n"
     ]
    }
   ],
   "source": [
    "# Accuracy scores for logistic regression for validation set:\n",
    "y_pred = fitted_logreg_gs.predict(X_val)\n",
    "print('accuracy score for logistic regression', fitted_logreg_gs.score(X_val, y_val))\n",
    "# precision_score(true labels, predicted labels)\n",
    "print('precision score for logistic regression', precision_score(y_val, y_pred))\n",
    "# recall_score(true labels, predicted labels)\n",
    "print('recall score for logistic regression', recall_score(y_val, y_pred))"
   ]
  },
  {
   "cell_type": "markdown",
   "metadata": {},
   "source": [
    "#### C. XGBOOST"
   ]
  },
  {
   "cell_type": "code",
   "execution_count": 64,
   "metadata": {},
   "outputs": [
    {
     "name": "stdout",
     "output_type": "stream",
     "text": [
      "Fitting 5 folds for each of 6 candidates, totalling 30 fits\n"
     ]
    },
    {
     "name": "stderr",
     "output_type": "stream",
     "text": [
      "[Parallel(n_jobs=-1)]: Using backend LokyBackend with 4 concurrent workers.\n",
      "[Parallel(n_jobs=-1)]: Done   5 tasks      | elapsed:  7.8min\n",
      "[Parallel(n_jobs=-1)]: Done  10 tasks      | elapsed: 11.0min\n",
      "[Parallel(n_jobs=-1)]: Done  17 tasks      | elapsed: 76.9min\n",
      "[Parallel(n_jobs=-1)]: Done  27 out of  30 | elapsed: 121.5min remaining: 13.5min\n",
      "[Parallel(n_jobs=-1)]: Done  30 out of  30 | elapsed: 124.4min finished\n"
     ]
    }
   ],
   "source": [
    "# Set up a directory to cache the pipeline results\n",
    "cachedir = mkdtemp()\n",
    "\n",
    "# The steps here act as placeholders and will be changed when we pass the pipeline into the grid search later\n",
    "my_pipeline = Pipeline([('scaler', StandardScaler()), ('dim_reducer', PCA()), ('model', LogisticRegression())], memory = cachedir)\n",
    "\n",
    "\n",
    "# Parameter grid\n",
    "param_grid = [\n",
    "    \n",
    "    # XGB Boost\n",
    "    {'scaler': [StandardScaler(), RobustScaler()],\n",
    "     'dim_reducer': [PCA()],\n",
    "     'dim_reducer__n_components': [100, 200, 300],\n",
    "     'model': [XGBClassifier()]}\n",
    "    \n",
    "]\n",
    "\n",
    "# Instantiate the log reg grid search\n",
    "xgboost_gs = GridSearchCV(my_pipeline, param_grid=param_grid, n_jobs = -1, cv=5, verbose=10)\n",
    "\n",
    "# Fit the log reg grid search\n",
    "fitted_xgboost_gs = xgboost_gs.fit(X_train, y_train)"
   ]
  },
  {
   "cell_type": "code",
   "execution_count": 68,
   "metadata": {},
   "outputs": [
    {
     "data": {
      "text/plain": [
       "Pipeline(memory='/var/folders/5y/d61vfhqx3bv7m_5qfsqw1g8c0000gn/T/tmpnbrfy5v_',\n",
       "         steps=[('scaler',\n",
       "                 RobustScaler(copy=True, quantile_range=(25.0, 75.0),\n",
       "                              with_centering=True, with_scaling=True)),\n",
       "                ('dim_reducer',\n",
       "                 PCA(copy=True, iterated_power='auto', n_components=300,\n",
       "                     random_state=None, svd_solver='auto', tol=0.0,\n",
       "                     whiten=False)),\n",
       "                ('model',\n",
       "                 XGBClassifier(base_score=0.5, booster='gbtree',\n",
       "                               colsample_bylevel=1, colsample_bynode=1,\n",
       "                               colsample_bytree=1, gamma=0, learning_rate=0.1,\n",
       "                               max_delta_step=0, max_depth=3,\n",
       "                               min_child_weight=1, missing=None,\n",
       "                               n_estimators=100, n_jobs=1, nthread=None,\n",
       "                               objective='binary:logistic', random_state=0,\n",
       "                               reg_alpha=0, reg_lambda=1, scale_pos_weight=1,\n",
       "                               seed=None, silent=None, subsample=1,\n",
       "                               verbosity=1))],\n",
       "         verbose=False)"
      ]
     },
     "execution_count": 68,
     "metadata": {},
     "output_type": "execute_result"
    }
   ],
   "source": [
    "fitted_xgboost_gs.best_estimator_"
   ]
  },
  {
   "cell_type": "markdown",
   "metadata": {},
   "source": [
    "#### Model Evaluation for XGboost"
   ]
  },
  {
   "cell_type": "code",
   "execution_count": 66,
   "metadata": {},
   "outputs": [
    {
     "name": "stdout",
     "output_type": "stream",
     "text": [
      "accuracy score for logistic regression 0.7758298527148824\n",
      "precision score for logistic regression 0.7652388797364086\n",
      "recall score for logistic regression 0.7573075579364155\n"
     ]
    }
   ],
   "source": [
    "# Accuracy scores for logistic regression for validation set:\n",
    "y_pred = fitted_xgboost_gs.predict(X_val)\n",
    "print('accuracy score for logistic regression', fitted_xgboost_gs.score(X_val, y_val))\n",
    "# precision_score(true labels, predicted labels)\n",
    "print('precision score for logistic regression', precision_score(y_val, y_pred))\n",
    "# recall_score(true labels, predicted labels)\n",
    "print('recall score for logistic regression', recall_score(y_val, y_pred))"
   ]
  }
 ],
 "metadata": {
  "kernelspec": {
   "display_name": "Python 3",
   "language": "python",
   "name": "python3"
  },
  "language_info": {
   "codemirror_mode": {
    "name": "ipython",
    "version": 3
   },
   "file_extension": ".py",
   "mimetype": "text/x-python",
   "name": "python",
   "nbconvert_exporter": "python",
   "pygments_lexer": "ipython3",
   "version": "3.7.4"
  }
 },
 "nbformat": 4,
 "nbformat_minor": 4
}
