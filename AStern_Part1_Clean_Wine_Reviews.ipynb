{
 "cells": [
  {
   "cell_type": "markdown",
   "metadata": {},
   "source": [
    "# Part 1: Cleaning and Data Wrangling"
   ]
  },
  {
   "cell_type": "markdown",
   "metadata": {},
   "source": [
    "The goal of this project is predict wine scores from wine reviews, geography, variety, and vintage. I downloaded a wine dataset from [Kaggle](https://www.kaggle.com/zynicide/wine-reviews) which will be used to predict the wine scores. Because I am predicting a target value from multiple independent variables this will be a Supervised Learning model.\n",
    "\n",
    "In this jupyter notebook I will import the csv datafile and clean the dataset. This will include removing/filling missing values, dropping columns, and conduct feature engineering. I will need to determine which independent variables to keep and which independent variables are not important for predicting the target value of review score. \n",
    "\n",
    "I thought this dataset would be interesting to work with because it is as text dataset and can be utilized in many different ways. As well determining how to clean and model data with text is something I wanted to get familiar with.\n",
    "\n",
    "As a reference this dataset was originally scraped from www.winemag.com "
   ]
  },
  {
   "cell_type": "code",
   "execution_count": 43,
   "metadata": {},
   "outputs": [],
   "source": [
    "# import packages\n",
    "import numpy as np\n",
    "import matplotlib.pyplot as plt\n",
    "import pandas as pd"
   ]
  },
  {
   "cell_type": "code",
   "execution_count": 2,
   "metadata": {},
   "outputs": [],
   "source": [
    "# View 100 rows and columns in the dataframe\n",
    "pd.set_option('display.max_rows',100)\n",
    "pd.set_option('display.max_columns',100)"
   ]
  },
  {
   "cell_type": "markdown",
   "metadata": {},
   "source": [
    "### A. Preliminary Work: Explore the Data\n",
    "I will first explore the data to make some quick observations before cleaning the data."
   ]
  },
  {
   "cell_type": "code",
   "execution_count": 3,
   "metadata": {},
   "outputs": [],
   "source": [
    "# Import .csv file and save as df dataframe\n",
    "df = pd.read_csv('data/winemag_data_130k_v2.csv', index_col=[0])"
   ]
  },
  {
   "cell_type": "code",
   "execution_count": 4,
   "metadata": {
    "scrolled": true
   },
   "outputs": [
    {
     "data": {
      "text/html": [
       "<div>\n",
       "<style scoped>\n",
       "    .dataframe tbody tr th:only-of-type {\n",
       "        vertical-align: middle;\n",
       "    }\n",
       "\n",
       "    .dataframe tbody tr th {\n",
       "        vertical-align: top;\n",
       "    }\n",
       "\n",
       "    .dataframe thead th {\n",
       "        text-align: right;\n",
       "    }\n",
       "</style>\n",
       "<table border=\"1\" class=\"dataframe\">\n",
       "  <thead>\n",
       "    <tr style=\"text-align: right;\">\n",
       "      <th></th>\n",
       "      <th>country</th>\n",
       "      <th>description</th>\n",
       "      <th>designation</th>\n",
       "      <th>points</th>\n",
       "      <th>price</th>\n",
       "      <th>province</th>\n",
       "      <th>region_1</th>\n",
       "      <th>region_2</th>\n",
       "      <th>taster_name</th>\n",
       "      <th>taster_twitter_handle</th>\n",
       "      <th>title</th>\n",
       "      <th>variety</th>\n",
       "      <th>winery</th>\n",
       "    </tr>\n",
       "  </thead>\n",
       "  <tbody>\n",
       "    <tr>\n",
       "      <th>0</th>\n",
       "      <td>Italy</td>\n",
       "      <td>Aromas include tropical fruit, broom, brimston...</td>\n",
       "      <td>Vulkà Bianco</td>\n",
       "      <td>87</td>\n",
       "      <td>NaN</td>\n",
       "      <td>Sicily &amp; Sardinia</td>\n",
       "      <td>Etna</td>\n",
       "      <td>NaN</td>\n",
       "      <td>Kerin O’Keefe</td>\n",
       "      <td>@kerinokeefe</td>\n",
       "      <td>Nicosia 2013 Vulkà Bianco  (Etna)</td>\n",
       "      <td>White Blend</td>\n",
       "      <td>Nicosia</td>\n",
       "    </tr>\n",
       "    <tr>\n",
       "      <th>1</th>\n",
       "      <td>Portugal</td>\n",
       "      <td>This is ripe and fruity, a wine that is smooth...</td>\n",
       "      <td>Avidagos</td>\n",
       "      <td>87</td>\n",
       "      <td>15.0</td>\n",
       "      <td>Douro</td>\n",
       "      <td>NaN</td>\n",
       "      <td>NaN</td>\n",
       "      <td>Roger Voss</td>\n",
       "      <td>@vossroger</td>\n",
       "      <td>Quinta dos Avidagos 2011 Avidagos Red (Douro)</td>\n",
       "      <td>Portuguese Red</td>\n",
       "      <td>Quinta dos Avidagos</td>\n",
       "    </tr>\n",
       "    <tr>\n",
       "      <th>2</th>\n",
       "      <td>US</td>\n",
       "      <td>Tart and snappy, the flavors of lime flesh and...</td>\n",
       "      <td>NaN</td>\n",
       "      <td>87</td>\n",
       "      <td>14.0</td>\n",
       "      <td>Oregon</td>\n",
       "      <td>Willamette Valley</td>\n",
       "      <td>Willamette Valley</td>\n",
       "      <td>Paul Gregutt</td>\n",
       "      <td>@paulgwine</td>\n",
       "      <td>Rainstorm 2013 Pinot Gris (Willamette Valley)</td>\n",
       "      <td>Pinot Gris</td>\n",
       "      <td>Rainstorm</td>\n",
       "    </tr>\n",
       "    <tr>\n",
       "      <th>3</th>\n",
       "      <td>US</td>\n",
       "      <td>Pineapple rind, lemon pith and orange blossom ...</td>\n",
       "      <td>Reserve Late Harvest</td>\n",
       "      <td>87</td>\n",
       "      <td>13.0</td>\n",
       "      <td>Michigan</td>\n",
       "      <td>Lake Michigan Shore</td>\n",
       "      <td>NaN</td>\n",
       "      <td>Alexander Peartree</td>\n",
       "      <td>NaN</td>\n",
       "      <td>St. Julian 2013 Reserve Late Harvest Riesling ...</td>\n",
       "      <td>Riesling</td>\n",
       "      <td>St. Julian</td>\n",
       "    </tr>\n",
       "    <tr>\n",
       "      <th>4</th>\n",
       "      <td>US</td>\n",
       "      <td>Much like the regular bottling from 2012, this...</td>\n",
       "      <td>Vintner's Reserve Wild Child Block</td>\n",
       "      <td>87</td>\n",
       "      <td>65.0</td>\n",
       "      <td>Oregon</td>\n",
       "      <td>Willamette Valley</td>\n",
       "      <td>Willamette Valley</td>\n",
       "      <td>Paul Gregutt</td>\n",
       "      <td>@paulgwine</td>\n",
       "      <td>Sweet Cheeks 2012 Vintner's Reserve Wild Child...</td>\n",
       "      <td>Pinot Noir</td>\n",
       "      <td>Sweet Cheeks</td>\n",
       "    </tr>\n",
       "  </tbody>\n",
       "</table>\n",
       "</div>"
      ],
      "text/plain": [
       "    country                                        description  \\\n",
       "0     Italy  Aromas include tropical fruit, broom, brimston...   \n",
       "1  Portugal  This is ripe and fruity, a wine that is smooth...   \n",
       "2        US  Tart and snappy, the flavors of lime flesh and...   \n",
       "3        US  Pineapple rind, lemon pith and orange blossom ...   \n",
       "4        US  Much like the regular bottling from 2012, this...   \n",
       "\n",
       "                          designation  points  price           province  \\\n",
       "0                        Vulkà Bianco      87    NaN  Sicily & Sardinia   \n",
       "1                            Avidagos      87   15.0              Douro   \n",
       "2                                 NaN      87   14.0             Oregon   \n",
       "3                Reserve Late Harvest      87   13.0           Michigan   \n",
       "4  Vintner's Reserve Wild Child Block      87   65.0             Oregon   \n",
       "\n",
       "              region_1           region_2         taster_name  \\\n",
       "0                 Etna                NaN       Kerin O’Keefe   \n",
       "1                  NaN                NaN          Roger Voss   \n",
       "2    Willamette Valley  Willamette Valley        Paul Gregutt   \n",
       "3  Lake Michigan Shore                NaN  Alexander Peartree   \n",
       "4    Willamette Valley  Willamette Valley        Paul Gregutt   \n",
       "\n",
       "  taster_twitter_handle                                              title  \\\n",
       "0          @kerinokeefe                  Nicosia 2013 Vulkà Bianco  (Etna)   \n",
       "1            @vossroger      Quinta dos Avidagos 2011 Avidagos Red (Douro)   \n",
       "2           @paulgwine       Rainstorm 2013 Pinot Gris (Willamette Valley)   \n",
       "3                   NaN  St. Julian 2013 Reserve Late Harvest Riesling ...   \n",
       "4           @paulgwine   Sweet Cheeks 2012 Vintner's Reserve Wild Child...   \n",
       "\n",
       "          variety               winery  \n",
       "0     White Blend              Nicosia  \n",
       "1  Portuguese Red  Quinta dos Avidagos  \n",
       "2      Pinot Gris            Rainstorm  \n",
       "3        Riesling           St. Julian  \n",
       "4      Pinot Noir         Sweet Cheeks  "
      ]
     },
     "execution_count": 4,
     "metadata": {},
     "output_type": "execute_result"
    }
   ],
   "source": [
    "# Quick view of first 5 rows of wine_df\n",
    "df.head()"
   ]
  },
  {
   "cell_type": "markdown",
   "metadata": {},
   "source": [
    "#### Define each column: \n",
    "- country: Name of the Country where the wine is grown\n",
    "- description: Description of the wine review\n",
    "- designation: The vineyard within the winery where the grapes that made the wine\n",
    "- points: Rating of the wine ranging 80 - 100\n",
    "- price: Price of a bottle of wine\n",
    "- province: Name of the Province/State where the wine is grown\n",
    "- region_1: Region within the province where the wine is grown\n",
    "- reigon_2: A sub-region within the region where the wine is grown\n",
    "- taster_name: Name of the person who rated the wine\n",
    "- taster_twitter_handle: The twitter handle of the person who rated the wine.\n",
    "- tile: Name of the wine\n",
    "- variety: The blend/type of wine\n",
    "- winery: Name of the winery where the wine is made.\n",
    "\n",
    "\n",
    "#### Things to note: \n",
    "\n",
    "- points is our target and will be set as the dependent variable\n",
    "- taster_twiter_handle will be deleted as it will not be included in the model\n",
    "- Each row of data is a different review\n",
    "- Each column describes information about the wine, review, and reviewer\n",
    "- I can extract the Vintage (year) of the wine from the title column\n",
    "- NaN values are present\n",
    "- taster_twiter_handle will be deleted as it will not be included in the model\n",
    "- region_2 will be removed from the dataset because text data will really enlarge the size of the dataset, as well region_2 seems to sometimes replicate the same value as in region_1 (see row 2 from above). Having this similarity can cause a multi-colinearity problem in the model.\n",
    "- I have also decided to drop region_1 because the dataset will become very large once I use NLP on the text columns. I can always include region_1 later on to see how the models run.\n",
    "- I will drop designation for the same reason for dropping region_1"
   ]
  },
  {
   "cell_type": "markdown",
   "metadata": {},
   "source": [
    "#### Check the data type"
   ]
  },
  {
   "cell_type": "code",
   "execution_count": 5,
   "metadata": {
    "scrolled": false
   },
   "outputs": [
    {
     "name": "stdout",
     "output_type": "stream",
     "text": [
      "<class 'pandas.core.frame.DataFrame'>\n",
      "Int64Index: 129971 entries, 0 to 129970\n",
      "Data columns (total 13 columns):\n",
      " #   Column                 Non-Null Count   Dtype  \n",
      "---  ------                 --------------   -----  \n",
      " 0   country                129908 non-null  object \n",
      " 1   description            129971 non-null  object \n",
      " 2   designation            92506 non-null   object \n",
      " 3   points                 129971 non-null  int64  \n",
      " 4   price                  120975 non-null  float64\n",
      " 5   province               129908 non-null  object \n",
      " 6   region_1               108724 non-null  object \n",
      " 7   region_2               50511 non-null   object \n",
      " 8   taster_name            103727 non-null  object \n",
      " 9   taster_twitter_handle  98758 non-null   object \n",
      " 10  title                  129971 non-null  object \n",
      " 11  variety                129970 non-null  object \n",
      " 12  winery                 129971 non-null  object \n",
      "dtypes: float64(1), int64(1), object(11)\n",
      "memory usage: 13.9+ MB\n"
     ]
    }
   ],
   "source": [
    "# Check data types for each column to make sure data type \"makes sense\"\n",
    "df.info()"
   ]
  },
  {
   "cell_type": "markdown",
   "metadata": {},
   "source": [
    "The data type is correct for all columns, therefore I do not need to make any changes to the data type."
   ]
  },
  {
   "cell_type": "markdown",
   "metadata": {},
   "source": [
    "#### Check the shape of the dataset"
   ]
  },
  {
   "cell_type": "code",
   "execution_count": 6,
   "metadata": {
    "scrolled": true
   },
   "outputs": [
    {
     "data": {
      "text/plain": [
       "(129971, 13)"
      ]
     },
     "execution_count": 6,
     "metadata": {},
     "output_type": "execute_result"
    }
   ],
   "source": [
    "df.shape"
   ]
  },
  {
   "cell_type": "markdown",
   "metadata": {},
   "source": [
    "Dataset has 129,971 rows and 14 columns. The dataset shape is good for modeling because the columns are much less than the rows which is important for fitting a model. However, the dataset will frow in columns once I transform the data from text data to numerical data, a process that is important for being able to run predictive models on text data."
   ]
  },
  {
   "cell_type": "markdown",
   "metadata": {},
   "source": [
    "### B. Cleaning Data"
   ]
  },
  {
   "cell_type": "markdown",
   "metadata": {},
   "source": [
    "#### Step 1: Make a copy of the dataset"
   ]
  },
  {
   "cell_type": "code",
   "execution_count": 7,
   "metadata": {},
   "outputs": [],
   "source": [
    "# copy wine dataframe \n",
    "df_clean = df.copy()"
   ]
  },
  {
   "cell_type": "markdown",
   "metadata": {},
   "source": [
    "#### Step 2: Create train and test dataset"
   ]
  },
  {
   "cell_type": "markdown",
   "metadata": {},
   "source": [
    "The train dataset will be used to train the model and the test dataset will be used to test how will the model runs on a dataset that is not trained on. I split the datatset before even cleaning so that I can make sure all steps can be replicated for a future dataset. As well, I will not be \"peaking\" into the test dataset to make decisions on how to clean the data and how to model the data."
   ]
  },
  {
   "cell_type": "code",
   "execution_count": 8,
   "metadata": {},
   "outputs": [],
   "source": [
    "# Define X and Y\n",
    "y = df_clean['points']\n",
    "X = df_clean.drop('points', axis = 1)"
   ]
  },
  {
   "cell_type": "code",
   "execution_count": 9,
   "metadata": {
    "scrolled": true
   },
   "outputs": [
    {
     "data": {
      "text/html": [
       "<div>\n",
       "<style scoped>\n",
       "    .dataframe tbody tr th:only-of-type {\n",
       "        vertical-align: middle;\n",
       "    }\n",
       "\n",
       "    .dataframe tbody tr th {\n",
       "        vertical-align: top;\n",
       "    }\n",
       "\n",
       "    .dataframe thead th {\n",
       "        text-align: right;\n",
       "    }\n",
       "</style>\n",
       "<table border=\"1\" class=\"dataframe\">\n",
       "  <thead>\n",
       "    <tr style=\"text-align: right;\">\n",
       "      <th></th>\n",
       "      <th>country</th>\n",
       "      <th>description</th>\n",
       "      <th>designation</th>\n",
       "      <th>price</th>\n",
       "      <th>province</th>\n",
       "      <th>region_1</th>\n",
       "      <th>region_2</th>\n",
       "      <th>taster_name</th>\n",
       "      <th>taster_twitter_handle</th>\n",
       "      <th>title</th>\n",
       "      <th>variety</th>\n",
       "      <th>winery</th>\n",
       "    </tr>\n",
       "  </thead>\n",
       "  <tbody>\n",
       "    <tr>\n",
       "      <th>0</th>\n",
       "      <td>Italy</td>\n",
       "      <td>Aromas include tropical fruit, broom, brimston...</td>\n",
       "      <td>Vulkà Bianco</td>\n",
       "      <td>NaN</td>\n",
       "      <td>Sicily &amp; Sardinia</td>\n",
       "      <td>Etna</td>\n",
       "      <td>NaN</td>\n",
       "      <td>Kerin O’Keefe</td>\n",
       "      <td>@kerinokeefe</td>\n",
       "      <td>Nicosia 2013 Vulkà Bianco  (Etna)</td>\n",
       "      <td>White Blend</td>\n",
       "      <td>Nicosia</td>\n",
       "    </tr>\n",
       "    <tr>\n",
       "      <th>1</th>\n",
       "      <td>Portugal</td>\n",
       "      <td>This is ripe and fruity, a wine that is smooth...</td>\n",
       "      <td>Avidagos</td>\n",
       "      <td>15.0</td>\n",
       "      <td>Douro</td>\n",
       "      <td>NaN</td>\n",
       "      <td>NaN</td>\n",
       "      <td>Roger Voss</td>\n",
       "      <td>@vossroger</td>\n",
       "      <td>Quinta dos Avidagos 2011 Avidagos Red (Douro)</td>\n",
       "      <td>Portuguese Red</td>\n",
       "      <td>Quinta dos Avidagos</td>\n",
       "    </tr>\n",
       "    <tr>\n",
       "      <th>2</th>\n",
       "      <td>US</td>\n",
       "      <td>Tart and snappy, the flavors of lime flesh and...</td>\n",
       "      <td>NaN</td>\n",
       "      <td>14.0</td>\n",
       "      <td>Oregon</td>\n",
       "      <td>Willamette Valley</td>\n",
       "      <td>Willamette Valley</td>\n",
       "      <td>Paul Gregutt</td>\n",
       "      <td>@paulgwine</td>\n",
       "      <td>Rainstorm 2013 Pinot Gris (Willamette Valley)</td>\n",
       "      <td>Pinot Gris</td>\n",
       "      <td>Rainstorm</td>\n",
       "    </tr>\n",
       "    <tr>\n",
       "      <th>3</th>\n",
       "      <td>US</td>\n",
       "      <td>Pineapple rind, lemon pith and orange blossom ...</td>\n",
       "      <td>Reserve Late Harvest</td>\n",
       "      <td>13.0</td>\n",
       "      <td>Michigan</td>\n",
       "      <td>Lake Michigan Shore</td>\n",
       "      <td>NaN</td>\n",
       "      <td>Alexander Peartree</td>\n",
       "      <td>NaN</td>\n",
       "      <td>St. Julian 2013 Reserve Late Harvest Riesling ...</td>\n",
       "      <td>Riesling</td>\n",
       "      <td>St. Julian</td>\n",
       "    </tr>\n",
       "    <tr>\n",
       "      <th>4</th>\n",
       "      <td>US</td>\n",
       "      <td>Much like the regular bottling from 2012, this...</td>\n",
       "      <td>Vintner's Reserve Wild Child Block</td>\n",
       "      <td>65.0</td>\n",
       "      <td>Oregon</td>\n",
       "      <td>Willamette Valley</td>\n",
       "      <td>Willamette Valley</td>\n",
       "      <td>Paul Gregutt</td>\n",
       "      <td>@paulgwine</td>\n",
       "      <td>Sweet Cheeks 2012 Vintner's Reserve Wild Child...</td>\n",
       "      <td>Pinot Noir</td>\n",
       "      <td>Sweet Cheeks</td>\n",
       "    </tr>\n",
       "  </tbody>\n",
       "</table>\n",
       "</div>"
      ],
      "text/plain": [
       "    country                                        description  \\\n",
       "0     Italy  Aromas include tropical fruit, broom, brimston...   \n",
       "1  Portugal  This is ripe and fruity, a wine that is smooth...   \n",
       "2        US  Tart and snappy, the flavors of lime flesh and...   \n",
       "3        US  Pineapple rind, lemon pith and orange blossom ...   \n",
       "4        US  Much like the regular bottling from 2012, this...   \n",
       "\n",
       "                          designation  price           province  \\\n",
       "0                        Vulkà Bianco    NaN  Sicily & Sardinia   \n",
       "1                            Avidagos   15.0              Douro   \n",
       "2                                 NaN   14.0             Oregon   \n",
       "3                Reserve Late Harvest   13.0           Michigan   \n",
       "4  Vintner's Reserve Wild Child Block   65.0             Oregon   \n",
       "\n",
       "              region_1           region_2         taster_name  \\\n",
       "0                 Etna                NaN       Kerin O’Keefe   \n",
       "1                  NaN                NaN          Roger Voss   \n",
       "2    Willamette Valley  Willamette Valley        Paul Gregutt   \n",
       "3  Lake Michigan Shore                NaN  Alexander Peartree   \n",
       "4    Willamette Valley  Willamette Valley        Paul Gregutt   \n",
       "\n",
       "  taster_twitter_handle                                              title  \\\n",
       "0          @kerinokeefe                  Nicosia 2013 Vulkà Bianco  (Etna)   \n",
       "1            @vossroger      Quinta dos Avidagos 2011 Avidagos Red (Douro)   \n",
       "2           @paulgwine       Rainstorm 2013 Pinot Gris (Willamette Valley)   \n",
       "3                   NaN  St. Julian 2013 Reserve Late Harvest Riesling ...   \n",
       "4           @paulgwine   Sweet Cheeks 2012 Vintner's Reserve Wild Child...   \n",
       "\n",
       "          variety               winery  \n",
       "0     White Blend              Nicosia  \n",
       "1  Portuguese Red  Quinta dos Avidagos  \n",
       "2      Pinot Gris            Rainstorm  \n",
       "3        Riesling           St. Julian  \n",
       "4      Pinot Noir         Sweet Cheeks  "
      ]
     },
     "execution_count": 9,
     "metadata": {},
     "output_type": "execute_result"
    }
   ],
   "source": [
    "# View X dataset\n",
    "X.head()"
   ]
  },
  {
   "cell_type": "code",
   "execution_count": 10,
   "metadata": {
    "scrolled": false
   },
   "outputs": [
    {
     "data": {
      "text/plain": [
       "0    87\n",
       "1    87\n",
       "2    87\n",
       "3    87\n",
       "4    87\n",
       "Name: points, dtype: int64"
      ]
     },
     "execution_count": 10,
     "metadata": {},
     "output_type": "execute_result"
    }
   ],
   "source": [
    "# View y dataset\n",
    "y.head()"
   ]
  },
  {
   "cell_type": "code",
   "execution_count": 11,
   "metadata": {},
   "outputs": [],
   "source": [
    "# split data into train and test sets\n",
    "\n",
    "# Import train_test_split package\n",
    "from sklearn.model_selection import train_test_split\n",
    "\n",
    "# Split data into train and test, where text_size is 30 percent, andsp train set is 70%\n",
    "X_train, X_test, y_train, y_test = train_test_split(X, y, test_size=0.30, random_state=42, stratify = y)\n"
   ]
  },
  {
   "cell_type": "code",
   "execution_count": 12,
   "metadata": {},
   "outputs": [
    {
     "name": "stdout",
     "output_type": "stream",
     "text": [
      "X_train shape (90979, 12)\n",
      "y_train shape (90979,)\n",
      "X_test shape (38992, 12)\n",
      "y_test shape (38992,)\n"
     ]
    }
   ],
   "source": [
    "# View size of Train/Test set\n",
    "print('X_train shape', X_train.shape)\n",
    "print('y_train shape', y_train.shape)\n",
    "print('X_test shape', X_test.shape)\n",
    "print('y_test shape', y_test.shape)"
   ]
  },
  {
   "cell_type": "markdown",
   "metadata": {},
   "source": [
    "#### Step 2: Drop Columns"
   ]
  },
  {
   "cell_type": "markdown",
   "metadata": {},
   "source": [
    "I dropped all columns that seemed like would be less helpful for the model. This is a qualitative decision. For a more quantitative decision, I could look at the variance for each column. If there is high variance than I might want to consider keeping that column, while a column with low variance, I might want to consider dropping."
   ]
  },
  {
   "cell_type": "code",
   "execution_count": 13,
   "metadata": {
    "scrolled": true
   },
   "outputs": [
    {
     "data": {
      "text/html": [
       "<div>\n",
       "<style scoped>\n",
       "    .dataframe tbody tr th:only-of-type {\n",
       "        vertical-align: middle;\n",
       "    }\n",
       "\n",
       "    .dataframe tbody tr th {\n",
       "        vertical-align: top;\n",
       "    }\n",
       "\n",
       "    .dataframe thead th {\n",
       "        text-align: right;\n",
       "    }\n",
       "</style>\n",
       "<table border=\"1\" class=\"dataframe\">\n",
       "  <thead>\n",
       "    <tr style=\"text-align: right;\">\n",
       "      <th></th>\n",
       "      <th>country</th>\n",
       "      <th>description</th>\n",
       "      <th>price</th>\n",
       "      <th>province</th>\n",
       "      <th>title</th>\n",
       "      <th>variety</th>\n",
       "    </tr>\n",
       "  </thead>\n",
       "  <tbody>\n",
       "    <tr>\n",
       "      <th>124134</th>\n",
       "      <td>France</td>\n",
       "      <td>An impressively structured blend of Tannat and...</td>\n",
       "      <td>25.0</td>\n",
       "      <td>Southwest France</td>\n",
       "      <td>Producteurs Plaimont 2008 Château de Crouseill...</td>\n",
       "      <td>Tannat-Cabernet Franc</td>\n",
       "    </tr>\n",
       "    <tr>\n",
       "      <th>104614</th>\n",
       "      <td>Argentina</td>\n",
       "      <td>Roasted, earthy aromas of herbs and tomato pla...</td>\n",
       "      <td>14.0</td>\n",
       "      <td>Other</td>\n",
       "      <td>Michel Torino 2013 Coleccion Cabernet Sauvigno...</td>\n",
       "      <td>Cabernet Sauvignon</td>\n",
       "    </tr>\n",
       "    <tr>\n",
       "      <th>79944</th>\n",
       "      <td>Portugal</td>\n",
       "      <td>The southern coastal region of Algarve is bett...</td>\n",
       "      <td>35.0</td>\n",
       "      <td>Algarve</td>\n",
       "      <td>Casa Santos Lima 2014 Al-Ria Reserva Red (Alga...</td>\n",
       "      <td>Portuguese Red</td>\n",
       "    </tr>\n",
       "    <tr>\n",
       "      <th>7082</th>\n",
       "      <td>Australia</td>\n",
       "      <td>Aromas of sour cherry and cooked strawberries ...</td>\n",
       "      <td>30.0</td>\n",
       "      <td>Victoria</td>\n",
       "      <td>Giant Steps 2006 Sexton Vineyard Pinot Noir (Y...</td>\n",
       "      <td>Pinot Noir</td>\n",
       "    </tr>\n",
       "    <tr>\n",
       "      <th>23585</th>\n",
       "      <td>Italy</td>\n",
       "      <td>The Calderara Sottana cru delivers wines with ...</td>\n",
       "      <td>46.0</td>\n",
       "      <td>Sicily &amp; Sardinia</td>\n",
       "      <td>Tenuta delle Terre Nere 2007 Calderara Sottana...</td>\n",
       "      <td>Red Blend</td>\n",
       "    </tr>\n",
       "  </tbody>\n",
       "</table>\n",
       "</div>"
      ],
      "text/plain": [
       "          country                                        description  price  \\\n",
       "124134     France  An impressively structured blend of Tannat and...   25.0   \n",
       "104614  Argentina  Roasted, earthy aromas of herbs and tomato pla...   14.0   \n",
       "79944    Portugal  The southern coastal region of Algarve is bett...   35.0   \n",
       "7082    Australia  Aromas of sour cherry and cooked strawberries ...   30.0   \n",
       "23585       Italy  The Calderara Sottana cru delivers wines with ...   46.0   \n",
       "\n",
       "                 province                                              title  \\\n",
       "124134   Southwest France  Producteurs Plaimont 2008 Château de Crouseill...   \n",
       "104614              Other  Michel Torino 2013 Coleccion Cabernet Sauvigno...   \n",
       "79944             Algarve  Casa Santos Lima 2014 Al-Ria Reserva Red (Alga...   \n",
       "7082             Victoria  Giant Steps 2006 Sexton Vineyard Pinot Noir (Y...   \n",
       "23585   Sicily & Sardinia  Tenuta delle Terre Nere 2007 Calderara Sottana...   \n",
       "\n",
       "                      variety  \n",
       "124134  Tannat-Cabernet Franc  \n",
       "104614     Cabernet Sauvignon  \n",
       "79944          Portuguese Red  \n",
       "7082               Pinot Noir  \n",
       "23585               Red Blend  "
      ]
     },
     "execution_count": 13,
     "metadata": {},
     "output_type": "execute_result"
    }
   ],
   "source": [
    "# Drop columns\n",
    "X_train = X_train.drop(['designation', 'taster_twitter_handle', 'winery', 'taster_name', 'region_2', 'region_1'], axis=1)\n",
    "\n",
    "# Check to make sure columns were dropped\n",
    "X_train.head()"
   ]
  },
  {
   "cell_type": "code",
   "execution_count": 14,
   "metadata": {},
   "outputs": [],
   "source": [
    "# Reset index\n",
    "X_train = X_train.reset_index()\n",
    "X_train.drop('index', axis = 1, inplace = True)"
   ]
  },
  {
   "cell_type": "code",
   "execution_count": 15,
   "metadata": {
    "scrolled": true
   },
   "outputs": [
    {
     "data": {
      "text/html": [
       "<div>\n",
       "<style scoped>\n",
       "    .dataframe tbody tr th:only-of-type {\n",
       "        vertical-align: middle;\n",
       "    }\n",
       "\n",
       "    .dataframe tbody tr th {\n",
       "        vertical-align: top;\n",
       "    }\n",
       "\n",
       "    .dataframe thead th {\n",
       "        text-align: right;\n",
       "    }\n",
       "</style>\n",
       "<table border=\"1\" class=\"dataframe\">\n",
       "  <thead>\n",
       "    <tr style=\"text-align: right;\">\n",
       "      <th></th>\n",
       "      <th>country</th>\n",
       "      <th>description</th>\n",
       "      <th>price</th>\n",
       "      <th>province</th>\n",
       "      <th>title</th>\n",
       "      <th>variety</th>\n",
       "    </tr>\n",
       "  </thead>\n",
       "  <tbody>\n",
       "    <tr>\n",
       "      <th>0</th>\n",
       "      <td>France</td>\n",
       "      <td>An impressively structured blend of Tannat and...</td>\n",
       "      <td>25.0</td>\n",
       "      <td>Southwest France</td>\n",
       "      <td>Producteurs Plaimont 2008 Château de Crouseill...</td>\n",
       "      <td>Tannat-Cabernet Franc</td>\n",
       "    </tr>\n",
       "    <tr>\n",
       "      <th>1</th>\n",
       "      <td>Argentina</td>\n",
       "      <td>Roasted, earthy aromas of herbs and tomato pla...</td>\n",
       "      <td>14.0</td>\n",
       "      <td>Other</td>\n",
       "      <td>Michel Torino 2013 Coleccion Cabernet Sauvigno...</td>\n",
       "      <td>Cabernet Sauvignon</td>\n",
       "    </tr>\n",
       "    <tr>\n",
       "      <th>2</th>\n",
       "      <td>Portugal</td>\n",
       "      <td>The southern coastal region of Algarve is bett...</td>\n",
       "      <td>35.0</td>\n",
       "      <td>Algarve</td>\n",
       "      <td>Casa Santos Lima 2014 Al-Ria Reserva Red (Alga...</td>\n",
       "      <td>Portuguese Red</td>\n",
       "    </tr>\n",
       "    <tr>\n",
       "      <th>3</th>\n",
       "      <td>Australia</td>\n",
       "      <td>Aromas of sour cherry and cooked strawberries ...</td>\n",
       "      <td>30.0</td>\n",
       "      <td>Victoria</td>\n",
       "      <td>Giant Steps 2006 Sexton Vineyard Pinot Noir (Y...</td>\n",
       "      <td>Pinot Noir</td>\n",
       "    </tr>\n",
       "    <tr>\n",
       "      <th>4</th>\n",
       "      <td>Italy</td>\n",
       "      <td>The Calderara Sottana cru delivers wines with ...</td>\n",
       "      <td>46.0</td>\n",
       "      <td>Sicily &amp; Sardinia</td>\n",
       "      <td>Tenuta delle Terre Nere 2007 Calderara Sottana...</td>\n",
       "      <td>Red Blend</td>\n",
       "    </tr>\n",
       "  </tbody>\n",
       "</table>\n",
       "</div>"
      ],
      "text/plain": [
       "     country                                        description  price  \\\n",
       "0     France  An impressively structured blend of Tannat and...   25.0   \n",
       "1  Argentina  Roasted, earthy aromas of herbs and tomato pla...   14.0   \n",
       "2   Portugal  The southern coastal region of Algarve is bett...   35.0   \n",
       "3  Australia  Aromas of sour cherry and cooked strawberries ...   30.0   \n",
       "4      Italy  The Calderara Sottana cru delivers wines with ...   46.0   \n",
       "\n",
       "            province                                              title  \\\n",
       "0   Southwest France  Producteurs Plaimont 2008 Château de Crouseill...   \n",
       "1              Other  Michel Torino 2013 Coleccion Cabernet Sauvigno...   \n",
       "2            Algarve  Casa Santos Lima 2014 Al-Ria Reserva Red (Alga...   \n",
       "3           Victoria  Giant Steps 2006 Sexton Vineyard Pinot Noir (Y...   \n",
       "4  Sicily & Sardinia  Tenuta delle Terre Nere 2007 Calderara Sottana...   \n",
       "\n",
       "                 variety  \n",
       "0  Tannat-Cabernet Franc  \n",
       "1     Cabernet Sauvignon  \n",
       "2         Portuguese Red  \n",
       "3             Pinot Noir  \n",
       "4              Red Blend  "
      ]
     },
     "execution_count": 15,
     "metadata": {},
     "output_type": "execute_result"
    }
   ],
   "source": [
    "X_train.head()"
   ]
  },
  {
   "cell_type": "markdown",
   "metadata": {},
   "source": [
    "#### Step 3: Missing Values"
   ]
  },
  {
   "cell_type": "code",
   "execution_count": 16,
   "metadata": {
    "scrolled": true
   },
   "outputs": [
    {
     "data": {
      "text/plain": [
       "country          42\n",
       "description       0\n",
       "price          6313\n",
       "province         42\n",
       "title             0\n",
       "variety           0\n",
       "dtype: int64"
      ]
     },
     "execution_count": 16,
     "metadata": {},
     "output_type": "execute_result"
    }
   ],
   "source": [
    "# Number of null values for each column\n",
    "X_train.isna().sum()"
   ]
  },
  {
   "cell_type": "code",
   "execution_count": 17,
   "metadata": {},
   "outputs": [
    {
     "data": {
      "text/plain": [
       "0"
      ]
     },
     "execution_count": 17,
     "metadata": {},
     "output_type": "execute_result"
    }
   ],
   "source": [
    "# Check to make sure there are no missing values for y_train\n",
    "y_train.isna().sum()"
   ]
  },
  {
   "cell_type": "code",
   "execution_count": 18,
   "metadata": {},
   "outputs": [
    {
     "data": {
      "text/plain": [
       "country        0.000323\n",
       "description    0.000000\n",
       "price          0.048572\n",
       "province       0.000323\n",
       "title          0.000000\n",
       "variety        0.000000\n",
       "dtype: float64"
      ]
     },
     "execution_count": 18,
     "metadata": {},
     "output_type": "execute_result"
    }
   ],
   "source": [
    "# To determine how to fill the nans, calculate the percent of nans for each column\n",
    "X_train.isna().sum() / df.shape[0]"
   ]
  },
  {
   "cell_type": "markdown",
   "metadata": {},
   "source": [
    "All columns are missing less than 10% of its data therefore for the text dataset, I will fill the columns be the most frequent value in that column and for numeric data I will fill the column by the median. There is no need to drop columns or remove rows due to missing value. \n"
   ]
  },
  {
   "cell_type": "markdown",
   "metadata": {},
   "source": [
    "#### 3a. Fill Variety Missing Values"
   ]
  },
  {
   "cell_type": "code",
   "execution_count": 19,
   "metadata": {},
   "outputs": [
    {
     "data": {
      "text/plain": [
       "country        0\n",
       "description    0\n",
       "price          0\n",
       "province       0\n",
       "title          0\n",
       "variety        0\n",
       "dtype: int64"
      ]
     },
     "execution_count": 19,
     "metadata": {},
     "output_type": "execute_result"
    }
   ],
   "source": [
    "# Replace variety nan with most frequent variety\n",
    "X_train['variety'].fillna(X_train['variety'].describe()['top'], inplace = True)\n",
    "\n",
    "# Replace variety nan with most frequent variety\n",
    "X_train['country'].fillna(X_train['country'].describe()['top'], inplace = True)\n",
    "\n",
    "# Replace variety nan with most frequent variety\n",
    "X_train['province'].fillna(X_train['province'].describe()['top'], inplace = True)\n",
    "\n",
    "# Replace variety nan with most frequent variety\n",
    "X_train['price'].fillna(X_train['price'].median(), inplace = True)\n",
    "\n",
    "# Check to make sure missing values are filled in variety\n",
    "X_train.isna().sum()"
   ]
  },
  {
   "cell_type": "markdown",
   "metadata": {},
   "source": [
    "## B. Data Wrangling - Feature Engingineering"
   ]
  },
  {
   "cell_type": "markdown",
   "metadata": {},
   "source": [
    "Feature engineering is a way to extract information out of the "
   ]
  },
  {
   "cell_type": "markdown",
   "metadata": {},
   "source": [
    "### 1. Extract year of the wine"
   ]
  },
  {
   "cell_type": "code",
   "execution_count": 20,
   "metadata": {},
   "outputs": [
    {
     "data": {
      "text/plain": [
       "'Producteurs Plaimont 2008 Château de Crouseilles Tannat-Cabernet Franc (Madiran)'"
      ]
     },
     "execution_count": 20,
     "metadata": {},
     "output_type": "execute_result"
    }
   ],
   "source": [
    "# View the first title to get an idea of the format and how to extract the year 2013.\n",
    "X_train['title'][0]"
   ]
  },
  {
   "cell_type": "code",
   "execution_count": 21,
   "metadata": {},
   "outputs": [],
   "source": [
    "# Use regex to extract the year from title\n",
    "\n",
    "import re\n",
    "year = []\n",
    "\n",
    "regex = '([1][9][0-9][0-9]|[2][0-1][0-2][0-9])'             \n",
    "#\n",
    "for i in np.arange(0, X_train.shape[0]):\n",
    "    year.append(re.findall(regex, X_train['title'][i]))\n",
    "    #print(re.findall(regex, wine_clean['title'][i]), i)\n",
    "    \n",
    "vintage = pd.DataFrame(year)\n",
    "\n",
    "from datetime import datetime as dt\n",
    "\n",
    "#Change Review_date to a datetime\n",
    "vintage[0] = pd.to_datetime(vintage[0])\n",
    "vintage[1] = pd.to_datetime(vintage[1])"
   ]
  },
  {
   "cell_type": "markdown",
   "metadata": {},
   "source": [
    "The output is two columns because there are some titles that lists two years. One year is the actual year when the wine was made and the other year could be the year the winery started producing wine. Below are the steps I took to remove the second year that is not associated to the year of when the wine was made."
   ]
  },
  {
   "cell_type": "code",
   "execution_count": 22,
   "metadata": {},
   "outputs": [
    {
     "name": "stdout",
     "output_type": "stream",
     "text": [
      "<class 'pandas.core.frame.DataFrame'>\n",
      "RangeIndex: 90979 entries, 0 to 90978\n",
      "Data columns (total 2 columns):\n",
      " #   Column  Non-Null Count  Dtype         \n",
      "---  ------  --------------  -----         \n",
      " 0   0       87738 non-null  datetime64[ns]\n",
      " 1   1       55 non-null     datetime64[ns]\n",
      "dtypes: datetime64[ns](2)\n",
      "memory usage: 1.4 MB\n"
     ]
    }
   ],
   "source": [
    "# Check to make sure the columns are changed to datetime\n",
    "vintage.info()"
   ]
  },
  {
   "cell_type": "code",
   "execution_count": 23,
   "metadata": {},
   "outputs": [
    {
     "data": {
      "text/html": [
       "<div>\n",
       "<style scoped>\n",
       "    .dataframe tbody tr th:only-of-type {\n",
       "        vertical-align: middle;\n",
       "    }\n",
       "\n",
       "    .dataframe tbody tr th {\n",
       "        vertical-align: top;\n",
       "    }\n",
       "\n",
       "    .dataframe thead th {\n",
       "        text-align: right;\n",
       "    }\n",
       "</style>\n",
       "<table border=\"1\" class=\"dataframe\">\n",
       "  <thead>\n",
       "    <tr style=\"text-align: right;\">\n",
       "      <th></th>\n",
       "      <th>0</th>\n",
       "      <th>1</th>\n",
       "    </tr>\n",
       "  </thead>\n",
       "  <tbody>\n",
       "    <tr>\n",
       "      <th>0</th>\n",
       "      <td>2008.0</td>\n",
       "      <td>NaN</td>\n",
       "    </tr>\n",
       "    <tr>\n",
       "      <th>1</th>\n",
       "      <td>2013.0</td>\n",
       "      <td>NaN</td>\n",
       "    </tr>\n",
       "    <tr>\n",
       "      <th>2</th>\n",
       "      <td>2014.0</td>\n",
       "      <td>NaN</td>\n",
       "    </tr>\n",
       "    <tr>\n",
       "      <th>3</th>\n",
       "      <td>2006.0</td>\n",
       "      <td>NaN</td>\n",
       "    </tr>\n",
       "    <tr>\n",
       "      <th>4</th>\n",
       "      <td>2007.0</td>\n",
       "      <td>NaN</td>\n",
       "    </tr>\n",
       "  </tbody>\n",
       "</table>\n",
       "</div>"
      ],
      "text/plain": [
       "        0   1\n",
       "0  2008.0 NaN\n",
       "1  2013.0 NaN\n",
       "2  2014.0 NaN\n",
       "3  2006.0 NaN\n",
       "4  2007.0 NaN"
      ]
     },
     "execution_count": 23,
     "metadata": {},
     "output_type": "execute_result"
    }
   ],
   "source": [
    "# The output is two columns \n",
    "vintage[0] = pd.DatetimeIndex(vintage[0]).year\n",
    "vintage[1] = pd.DatetimeIndex(vintage[1]).year\n",
    "\n",
    "vintage.head()"
   ]
  },
  {
   "cell_type": "markdown",
   "metadata": {},
   "source": [
    "I fill the Nan with zeros because I will create a threshold to remove the year that is not assiciated to the vintage."
   ]
  },
  {
   "cell_type": "code",
   "execution_count": 24,
   "metadata": {},
   "outputs": [
    {
     "data": {
      "text/plain": [
       "0    0\n",
       "1    0\n",
       "dtype: int64"
      ]
     },
     "execution_count": 24,
     "metadata": {},
     "output_type": "execute_result"
    }
   ],
   "source": [
    "# Replace all NaN with Zero\n",
    "vintage.fillna(0, inplace = True)\n",
    "\n",
    "vintage.isna().sum()"
   ]
  },
  {
   "cell_type": "code",
   "execution_count": 25,
   "metadata": {},
   "outputs": [],
   "source": [
    "# The threshold that I create for finding the correct vintage is assuming that\n",
    "# if there are two years in the same row, the more recent year is the year that is associated with the vintage\n",
    "# For example if a row has a year of 2000 and a year 1930, most likely the wine was made in 2000 not in 1930\n",
    "\n",
    "for i in np.arange(0, vintage.shape[0]):\n",
    "    if vintage[0].iloc[i] < vintage[1].iloc[i]:\n",
    "        vintage[0].iloc[i] = vintage[1].iloc[i]\n",
    "        \n",
    "    elif vintage[0].iloc[i] == 0:\n",
    "        vintage[0].iloc[i] = vintage[0].median()\n",
    "        \n",
    "# Ceck to make sure all 0 values are removed\n",
    "for i in np.arange(0, vintage.shape[0]):\n",
    "    if vintage[0].iloc[i] == 0:\n",
    "        print(i)\n",
    "        \n",
    "X_train['vintage'] = vintage[0]\n",
    "\n",
    "# Now that the year has been extracted from the wine, drop the title column which will not be used to run a predictive model.\n",
    "X_train.drop('title', axis = 1, inplace = True)"
   ]
  },
  {
   "cell_type": "code",
   "execution_count": 26,
   "metadata": {},
   "outputs": [
    {
     "data": {
      "text/html": [
       "<div>\n",
       "<style scoped>\n",
       "    .dataframe tbody tr th:only-of-type {\n",
       "        vertical-align: middle;\n",
       "    }\n",
       "\n",
       "    .dataframe tbody tr th {\n",
       "        vertical-align: top;\n",
       "    }\n",
       "\n",
       "    .dataframe thead th {\n",
       "        text-align: right;\n",
       "    }\n",
       "</style>\n",
       "<table border=\"1\" class=\"dataframe\">\n",
       "  <thead>\n",
       "    <tr style=\"text-align: right;\">\n",
       "      <th></th>\n",
       "      <th>country</th>\n",
       "      <th>description</th>\n",
       "      <th>price</th>\n",
       "      <th>province</th>\n",
       "      <th>variety</th>\n",
       "      <th>vintage</th>\n",
       "    </tr>\n",
       "  </thead>\n",
       "  <tbody>\n",
       "    <tr>\n",
       "      <th>0</th>\n",
       "      <td>France</td>\n",
       "      <td>An impressively structured blend of Tannat and...</td>\n",
       "      <td>25.0</td>\n",
       "      <td>Southwest France</td>\n",
       "      <td>Tannat-Cabernet Franc</td>\n",
       "      <td>2008.0</td>\n",
       "    </tr>\n",
       "    <tr>\n",
       "      <th>1</th>\n",
       "      <td>Argentina</td>\n",
       "      <td>Roasted, earthy aromas of herbs and tomato pla...</td>\n",
       "      <td>14.0</td>\n",
       "      <td>Other</td>\n",
       "      <td>Cabernet Sauvignon</td>\n",
       "      <td>2013.0</td>\n",
       "    </tr>\n",
       "    <tr>\n",
       "      <th>2</th>\n",
       "      <td>Portugal</td>\n",
       "      <td>The southern coastal region of Algarve is bett...</td>\n",
       "      <td>35.0</td>\n",
       "      <td>Algarve</td>\n",
       "      <td>Portuguese Red</td>\n",
       "      <td>2014.0</td>\n",
       "    </tr>\n",
       "    <tr>\n",
       "      <th>3</th>\n",
       "      <td>Australia</td>\n",
       "      <td>Aromas of sour cherry and cooked strawberries ...</td>\n",
       "      <td>30.0</td>\n",
       "      <td>Victoria</td>\n",
       "      <td>Pinot Noir</td>\n",
       "      <td>2006.0</td>\n",
       "    </tr>\n",
       "    <tr>\n",
       "      <th>4</th>\n",
       "      <td>Italy</td>\n",
       "      <td>The Calderara Sottana cru delivers wines with ...</td>\n",
       "      <td>46.0</td>\n",
       "      <td>Sicily &amp; Sardinia</td>\n",
       "      <td>Red Blend</td>\n",
       "      <td>2007.0</td>\n",
       "    </tr>\n",
       "  </tbody>\n",
       "</table>\n",
       "</div>"
      ],
      "text/plain": [
       "     country                                        description  price  \\\n",
       "0     France  An impressively structured blend of Tannat and...   25.0   \n",
       "1  Argentina  Roasted, earthy aromas of herbs and tomato pla...   14.0   \n",
       "2   Portugal  The southern coastal region of Algarve is bett...   35.0   \n",
       "3  Australia  Aromas of sour cherry and cooked strawberries ...   30.0   \n",
       "4      Italy  The Calderara Sottana cru delivers wines with ...   46.0   \n",
       "\n",
       "            province                variety  vintage  \n",
       "0   Southwest France  Tannat-Cabernet Franc   2008.0  \n",
       "1              Other     Cabernet Sauvignon   2013.0  \n",
       "2            Algarve         Portuguese Red   2014.0  \n",
       "3           Victoria             Pinot Noir   2006.0  \n",
       "4  Sicily & Sardinia              Red Blend   2007.0  "
      ]
     },
     "execution_count": 26,
     "metadata": {},
     "output_type": "execute_result"
    }
   ],
   "source": [
    "X_train.head()"
   ]
  },
  {
   "cell_type": "code",
   "execution_count": 27,
   "metadata": {
    "scrolled": true
   },
   "outputs": [
    {
     "data": {
      "text/html": [
       "<div>\n",
       "<style scoped>\n",
       "    .dataframe tbody tr th:only-of-type {\n",
       "        vertical-align: middle;\n",
       "    }\n",
       "\n",
       "    .dataframe tbody tr th {\n",
       "        vertical-align: top;\n",
       "    }\n",
       "\n",
       "    .dataframe thead th {\n",
       "        text-align: right;\n",
       "    }\n",
       "</style>\n",
       "<table border=\"1\" class=\"dataframe\">\n",
       "  <thead>\n",
       "    <tr style=\"text-align: right;\">\n",
       "      <th></th>\n",
       "      <th>country</th>\n",
       "      <th>description</th>\n",
       "      <th>price</th>\n",
       "      <th>province</th>\n",
       "      <th>variety</th>\n",
       "      <th>vintage</th>\n",
       "      <th>points</th>\n",
       "    </tr>\n",
       "  </thead>\n",
       "  <tbody>\n",
       "    <tr>\n",
       "      <th>0</th>\n",
       "      <td>France</td>\n",
       "      <td>An impressively structured blend of Tannat and...</td>\n",
       "      <td>25.0</td>\n",
       "      <td>Southwest France</td>\n",
       "      <td>Tannat-Cabernet Franc</td>\n",
       "      <td>2008.0</td>\n",
       "      <td>90</td>\n",
       "    </tr>\n",
       "    <tr>\n",
       "      <th>1</th>\n",
       "      <td>Argentina</td>\n",
       "      <td>Roasted, earthy aromas of herbs and tomato pla...</td>\n",
       "      <td>14.0</td>\n",
       "      <td>Other</td>\n",
       "      <td>Cabernet Sauvignon</td>\n",
       "      <td>2013.0</td>\n",
       "      <td>85</td>\n",
       "    </tr>\n",
       "    <tr>\n",
       "      <th>2</th>\n",
       "      <td>Portugal</td>\n",
       "      <td>The southern coastal region of Algarve is bett...</td>\n",
       "      <td>35.0</td>\n",
       "      <td>Algarve</td>\n",
       "      <td>Portuguese Red</td>\n",
       "      <td>2014.0</td>\n",
       "      <td>90</td>\n",
       "    </tr>\n",
       "    <tr>\n",
       "      <th>3</th>\n",
       "      <td>Australia</td>\n",
       "      <td>Aromas of sour cherry and cooked strawberries ...</td>\n",
       "      <td>30.0</td>\n",
       "      <td>Victoria</td>\n",
       "      <td>Pinot Noir</td>\n",
       "      <td>2006.0</td>\n",
       "      <td>82</td>\n",
       "    </tr>\n",
       "    <tr>\n",
       "      <th>4</th>\n",
       "      <td>Italy</td>\n",
       "      <td>The Calderara Sottana cru delivers wines with ...</td>\n",
       "      <td>46.0</td>\n",
       "      <td>Sicily &amp; Sardinia</td>\n",
       "      <td>Red Blend</td>\n",
       "      <td>2007.0</td>\n",
       "      <td>93</td>\n",
       "    </tr>\n",
       "  </tbody>\n",
       "</table>\n",
       "</div>"
      ],
      "text/plain": [
       "     country                                        description  price  \\\n",
       "0     France  An impressively structured blend of Tannat and...   25.0   \n",
       "1  Argentina  Roasted, earthy aromas of herbs and tomato pla...   14.0   \n",
       "2   Portugal  The southern coastal region of Algarve is bett...   35.0   \n",
       "3  Australia  Aromas of sour cherry and cooked strawberries ...   30.0   \n",
       "4      Italy  The Calderara Sottana cru delivers wines with ...   46.0   \n",
       "\n",
       "            province                variety  vintage  points  \n",
       "0   Southwest France  Tannat-Cabernet Franc   2008.0      90  \n",
       "1              Other     Cabernet Sauvignon   2013.0      85  \n",
       "2            Algarve         Portuguese Red   2014.0      90  \n",
       "3           Victoria             Pinot Noir   2006.0      82  \n",
       "4  Sicily & Sardinia              Red Blend   2007.0      93  "
      ]
     },
     "execution_count": 27,
     "metadata": {},
     "output_type": "execute_result"
    }
   ],
   "source": [
    "# Add the points column back into the dataset to get ready for exporting the file\n",
    "y_train = y_train.reset_index().drop('index', axis = 1)\n",
    "X_train['points'] = y_train\n",
    "X_train.head()"
   ]
  },
  {
   "cell_type": "code",
   "execution_count": 28,
   "metadata": {},
   "outputs": [],
   "source": [
    "# Export Train dataset as a csv to be imported into another jupyter notebook.\n",
    "X_train.to_csv (r'train_clean.csv', index = False)"
   ]
  },
  {
   "cell_type": "markdown",
   "metadata": {},
   "source": [
    "# Repeat for test dataset"
   ]
  },
  {
   "cell_type": "code",
   "execution_count": 41,
   "metadata": {},
   "outputs": [],
   "source": [
    "# Drop columns\n",
    "X_test = X_test.drop(['designation', 'taster_twitter_handle', 'winery', 'taster_name', 'region_2', 'region_1'], axis=1)\n",
    "\n",
    "# Reset index\n",
    "X_test = X_test.reset_index()\n",
    "X_test.drop('index', axis = 1, inplace = True)\n",
    "\n",
    "# Replace variety nan with most frequent variety\n",
    "X_test['variety'].fillna(X_test['variety'].describe()['top'], inplace = True)\n",
    "\n",
    "# Replace variety nan with most frequent variety\n",
    "X_test['country'].fillna(X_test['country'].describe()['top'], inplace = True)\n",
    "\n",
    "# Replace variety nan with most frequent variety\n",
    "X_test['province'].fillna(X_test['province'].describe()['top'], inplace = True)\n",
    "\n",
    "# Replace variety nan with most frequent variety\n",
    "X_test['price'].fillna(X_test['price'].median(), inplace = True)\n",
    "\n",
    "import re\n",
    "year = []\n",
    "\n",
    "regex = '([1][9][0-9][0-9]|[2][0-1][0-2][0-9])'             \n",
    "#\n",
    "for i in np.arange(0, X_test.shape[0]):\n",
    "    year.append(re.findall(regex, X_test['title'][i]))\n",
    "    #print(re.findall(regex, wine_clean['title'][i]), i)\n",
    "    \n",
    "vintage = pd.DataFrame(year)\n",
    "\n",
    "from datetime import datetime as dt\n",
    "\n",
    "#Change Review_date to a datetime\n",
    "vintage[0] = pd.to_datetime(vintage[0])\n",
    "vintage[1] = pd.to_datetime(vintage[1])\n",
    "\n",
    "vintage[0] = pd.DatetimeIndex(vintage[0]).year\n",
    "vintage[1] = pd.DatetimeIndex(vintage[1]).year\n",
    "\n",
    "# Replace all NaN with Zero\n",
    "vintage.fillna(0, inplace = True)\n",
    "\n",
    "for i in np.arange(0, vintage.shape[0]):\n",
    "    if vintage[0].iloc[i] < vintage[1].iloc[i]:\n",
    "        vintage[0].iloc[i] = vintage[1].iloc[i]\n",
    "        \n",
    "    elif vintage[0].iloc[i] == 0:\n",
    "        vintage[0].iloc[i] = vintage[0].median()\n",
    "        \n",
    "# Ceck to make sure all 0 values are removed\n",
    "for i in np.arange(0, vintage.shape[0]):\n",
    "    if vintage[0].iloc[i] == 0:\n",
    "        print(i)\n",
    "        \n",
    "X_test['vintage'] = vintage[0]\n",
    "\n",
    "# Now that the year has been extracted from the wine, drop the title column which will not be used to run a predictive model.\n",
    "X_test.drop('title', axis = 1, inplace = True)\n",
    "\n",
    "# add y back to column\n",
    "y_test = y_test.reset_index().drop('index', axis = 1)\n",
    "X_test['points'] = y_test\n",
    "X_test.head()\n",
    "\n",
    "# Export test dataset as a csv to be imported into another jupyter notebook.\n",
    "X_test.to_csv (r'test_clean.csv', index = False)\n",
    "\n"
   ]
  },
  {
   "cell_type": "markdown",
   "metadata": {},
   "source": [
    "---"
   ]
  },
  {
   "cell_type": "markdown",
   "metadata": {},
   "source": [
    "### 2. Extract Latitude and Longitude"
   ]
  },
  {
   "cell_type": "markdown",
   "metadata": {},
   "source": [
    "\n",
    "**Note:** Extracting the latitude and longitude did not work well for me. When I extracted Latitude and Longiitude, the accuracy score on the train dataset was 17% (yikes). One thing that could have contributed to a low score is that I only extracted lat/long for country and not to province. The reason for this is because there are a lot of provinces in this dataset that the geopy package did not recognize. If I spend more time on this project, I could try to remove the uncommon/unknown provinces and countries from the dataset. The benefits of adding lat and long is that they reference location with only two columns of data. Whereas the text dataset of country/province really enlarges the dataset as we have to use one hot encoding to transform the text dataset to numerical."
   ]
  },
  {
   "cell_type": "markdown",
   "metadata": {},
   "source": [
    "I installed a package called geopy which can be used to extract the latitude and longitude of a given city, country.\n",
    "\n",
    "Link for reference:\n",
    "https://pypi.org/project/geopy/"
   ]
  },
  {
   "cell_type": "code",
   "execution_count": 29,
   "metadata": {
    "scrolled": false
   },
   "outputs": [
    {
     "name": "stderr",
     "output_type": "stream",
     "text": [
      "/Users/avielstern/opt/anaconda3/lib/python3.7/site-packages/ipykernel_launcher.py:2: DeprecationWarning: Using Nominatim with the default \"geopy/1.21.0\" `user_agent` is strongly discouraged, as it violates Nominatim's ToS https://operations.osmfoundation.org/policies/nominatim/ and may possibly cause 403 and 429 HTTP errors. Please specify a custom `user_agent` with `Nominatim(user_agent=\"my-application\")` or by overriding the default `user_agent`: `geopy.geocoders.options.default_user_agent = \"my-application\"`. In geopy 2.0 this will become an exception.\n",
      "  \n"
     ]
    }
   ],
   "source": [
    "from geopy.geocoders import Nominatim\n",
    "geolocator = Nominatim(timeout=3)"
   ]
  },
  {
   "cell_type": "code",
   "execution_count": 30,
   "metadata": {},
   "outputs": [],
   "source": [
    "province = X_train.groupby(['province', 'country']).count().reset_index()['province']\n",
    "country = X_train.groupby(['province', 'country']).count().reset_index()['country']"
   ]
  },
  {
   "cell_type": "code",
   "execution_count": 31,
   "metadata": {},
   "outputs": [],
   "source": [
    "country = X_train.groupby('country').count().reset_index()['country']"
   ]
  },
  {
   "cell_type": "code",
   "execution_count": 32,
   "metadata": {},
   "outputs": [],
   "source": [
    "# Define Latitude and Longitude varaibles which will be appended in the for loop\n",
    "lat = []\n",
    "long = []\n",
    "location = {}\n",
    "\n",
    "# Create a for loop to retrieve all lat/long that corresponds to each location of the wine\n",
    "for i in np.arange(0, len(country)):\n",
    "    \n",
    "    # Locate latitude and longitude from region_1 and province\n",
    "    location = geolocator.geocode(country[i])\n",
    "    \n",
    "    # append latitude and longitude\n",
    "    lat.append(location.latitude)\n",
    "    long.append(location.longitude)\n",
    "\n"
   ]
  },
  {
   "cell_type": "code",
   "execution_count": 33,
   "metadata": {},
   "outputs": [],
   "source": [
    "latitude = {}\n",
    "for i in np.arange(0, len(country)):\n",
    "    latitude.update({country[i]:lat[i]})\n",
    "\n",
    "longitude = {}\n",
    "for i in np.arange(0, len(country)):\n",
    "    longitude.update({country[i]:long[i]})"
   ]
  },
  {
   "cell_type": "code",
   "execution_count": 34,
   "metadata": {},
   "outputs": [],
   "source": [
    "# Map lat and long as a dictionary to dataframe\n",
    "X_train['latitude'] = X_train['country'].map(latitude)\n",
    "# Map lat and long as a dictionary to dataframe\n",
    "X_train['longitude'] = X_train['country'].map(longitude)"
   ]
  },
  {
   "cell_type": "code",
   "execution_count": 35,
   "metadata": {},
   "outputs": [
    {
     "data": {
      "text/html": [
       "<div>\n",
       "<style scoped>\n",
       "    .dataframe tbody tr th:only-of-type {\n",
       "        vertical-align: middle;\n",
       "    }\n",
       "\n",
       "    .dataframe tbody tr th {\n",
       "        vertical-align: top;\n",
       "    }\n",
       "\n",
       "    .dataframe thead th {\n",
       "        text-align: right;\n",
       "    }\n",
       "</style>\n",
       "<table border=\"1\" class=\"dataframe\">\n",
       "  <thead>\n",
       "    <tr style=\"text-align: right;\">\n",
       "      <th></th>\n",
       "      <th>country</th>\n",
       "      <th>description</th>\n",
       "      <th>price</th>\n",
       "      <th>province</th>\n",
       "      <th>variety</th>\n",
       "      <th>vintage</th>\n",
       "      <th>points</th>\n",
       "      <th>latitude</th>\n",
       "      <th>longitude</th>\n",
       "    </tr>\n",
       "  </thead>\n",
       "  <tbody>\n",
       "    <tr>\n",
       "      <th>0</th>\n",
       "      <td>France</td>\n",
       "      <td>An impressively structured blend of Tannat and...</td>\n",
       "      <td>25.0</td>\n",
       "      <td>Southwest France</td>\n",
       "      <td>Tannat-Cabernet Franc</td>\n",
       "      <td>2008.0</td>\n",
       "      <td>90</td>\n",
       "      <td>46.603354</td>\n",
       "      <td>1.888334</td>\n",
       "    </tr>\n",
       "    <tr>\n",
       "      <th>1</th>\n",
       "      <td>Argentina</td>\n",
       "      <td>Roasted, earthy aromas of herbs and tomato pla...</td>\n",
       "      <td>14.0</td>\n",
       "      <td>Other</td>\n",
       "      <td>Cabernet Sauvignon</td>\n",
       "      <td>2013.0</td>\n",
       "      <td>85</td>\n",
       "      <td>-34.996496</td>\n",
       "      <td>-64.967282</td>\n",
       "    </tr>\n",
       "    <tr>\n",
       "      <th>2</th>\n",
       "      <td>Portugal</td>\n",
       "      <td>The southern coastal region of Algarve is bett...</td>\n",
       "      <td>35.0</td>\n",
       "      <td>Algarve</td>\n",
       "      <td>Portuguese Red</td>\n",
       "      <td>2014.0</td>\n",
       "      <td>90</td>\n",
       "      <td>40.033263</td>\n",
       "      <td>-7.889626</td>\n",
       "    </tr>\n",
       "    <tr>\n",
       "      <th>3</th>\n",
       "      <td>Australia</td>\n",
       "      <td>Aromas of sour cherry and cooked strawberries ...</td>\n",
       "      <td>30.0</td>\n",
       "      <td>Victoria</td>\n",
       "      <td>Pinot Noir</td>\n",
       "      <td>2006.0</td>\n",
       "      <td>82</td>\n",
       "      <td>-24.776109</td>\n",
       "      <td>134.755000</td>\n",
       "    </tr>\n",
       "    <tr>\n",
       "      <th>4</th>\n",
       "      <td>Italy</td>\n",
       "      <td>The Calderara Sottana cru delivers wines with ...</td>\n",
       "      <td>46.0</td>\n",
       "      <td>Sicily &amp; Sardinia</td>\n",
       "      <td>Red Blend</td>\n",
       "      <td>2007.0</td>\n",
       "      <td>93</td>\n",
       "      <td>42.638426</td>\n",
       "      <td>12.674297</td>\n",
       "    </tr>\n",
       "  </tbody>\n",
       "</table>\n",
       "</div>"
      ],
      "text/plain": [
       "     country                                        description  price  \\\n",
       "0     France  An impressively structured blend of Tannat and...   25.0   \n",
       "1  Argentina  Roasted, earthy aromas of herbs and tomato pla...   14.0   \n",
       "2   Portugal  The southern coastal region of Algarve is bett...   35.0   \n",
       "3  Australia  Aromas of sour cherry and cooked strawberries ...   30.0   \n",
       "4      Italy  The Calderara Sottana cru delivers wines with ...   46.0   \n",
       "\n",
       "            province                variety  vintage  points   latitude  \\\n",
       "0   Southwest France  Tannat-Cabernet Franc   2008.0      90  46.603354   \n",
       "1              Other     Cabernet Sauvignon   2013.0      85 -34.996496   \n",
       "2            Algarve         Portuguese Red   2014.0      90  40.033263   \n",
       "3           Victoria             Pinot Noir   2006.0      82 -24.776109   \n",
       "4  Sicily & Sardinia              Red Blend   2007.0      93  42.638426   \n",
       "\n",
       "    longitude  \n",
       "0    1.888334  \n",
       "1  -64.967282  \n",
       "2   -7.889626  \n",
       "3  134.755000  \n",
       "4   12.674297  "
      ]
     },
     "execution_count": 35,
     "metadata": {},
     "output_type": "execute_result"
    }
   ],
   "source": [
    "X_train.head()"
   ]
  },
  {
   "cell_type": "code",
   "execution_count": 36,
   "metadata": {},
   "outputs": [],
   "source": [
    "train = X_train.copy()"
   ]
  },
  {
   "cell_type": "code",
   "execution_count": 37,
   "metadata": {},
   "outputs": [],
   "source": [
    "y_train = y_train.reset_index()\n",
    "y_train.drop('index', axis = 1, inplace = True)"
   ]
  },
  {
   "cell_type": "code",
   "execution_count": 38,
   "metadata": {},
   "outputs": [
    {
     "data": {
      "text/html": [
       "<div>\n",
       "<style scoped>\n",
       "    .dataframe tbody tr th:only-of-type {\n",
       "        vertical-align: middle;\n",
       "    }\n",
       "\n",
       "    .dataframe tbody tr th {\n",
       "        vertical-align: top;\n",
       "    }\n",
       "\n",
       "    .dataframe thead th {\n",
       "        text-align: right;\n",
       "    }\n",
       "</style>\n",
       "<table border=\"1\" class=\"dataframe\">\n",
       "  <thead>\n",
       "    <tr style=\"text-align: right;\">\n",
       "      <th></th>\n",
       "      <th>points</th>\n",
       "    </tr>\n",
       "  </thead>\n",
       "  <tbody>\n",
       "    <tr>\n",
       "      <th>0</th>\n",
       "      <td>90</td>\n",
       "    </tr>\n",
       "    <tr>\n",
       "      <th>1</th>\n",
       "      <td>85</td>\n",
       "    </tr>\n",
       "    <tr>\n",
       "      <th>2</th>\n",
       "      <td>90</td>\n",
       "    </tr>\n",
       "    <tr>\n",
       "      <th>3</th>\n",
       "      <td>82</td>\n",
       "    </tr>\n",
       "    <tr>\n",
       "      <th>4</th>\n",
       "      <td>93</td>\n",
       "    </tr>\n",
       "  </tbody>\n",
       "</table>\n",
       "</div>"
      ],
      "text/plain": [
       "   points\n",
       "0      90\n",
       "1      85\n",
       "2      90\n",
       "3      82\n",
       "4      93"
      ]
     },
     "execution_count": 38,
     "metadata": {},
     "output_type": "execute_result"
    }
   ],
   "source": [
    "y_train.head()"
   ]
  },
  {
   "cell_type": "code",
   "execution_count": 39,
   "metadata": {},
   "outputs": [],
   "source": [
    "train['points'] = y_train['points']"
   ]
  },
  {
   "cell_type": "code",
   "execution_count": 40,
   "metadata": {},
   "outputs": [
    {
     "data": {
      "text/html": [
       "<div>\n",
       "<style scoped>\n",
       "    .dataframe tbody tr th:only-of-type {\n",
       "        vertical-align: middle;\n",
       "    }\n",
       "\n",
       "    .dataframe tbody tr th {\n",
       "        vertical-align: top;\n",
       "    }\n",
       "\n",
       "    .dataframe thead th {\n",
       "        text-align: right;\n",
       "    }\n",
       "</style>\n",
       "<table border=\"1\" class=\"dataframe\">\n",
       "  <thead>\n",
       "    <tr style=\"text-align: right;\">\n",
       "      <th></th>\n",
       "      <th>country</th>\n",
       "      <th>description</th>\n",
       "      <th>price</th>\n",
       "      <th>province</th>\n",
       "      <th>variety</th>\n",
       "      <th>vintage</th>\n",
       "      <th>points</th>\n",
       "      <th>latitude</th>\n",
       "      <th>longitude</th>\n",
       "    </tr>\n",
       "  </thead>\n",
       "  <tbody>\n",
       "    <tr>\n",
       "      <th>0</th>\n",
       "      <td>France</td>\n",
       "      <td>An impressively structured blend of Tannat and...</td>\n",
       "      <td>25.0</td>\n",
       "      <td>Southwest France</td>\n",
       "      <td>Tannat-Cabernet Franc</td>\n",
       "      <td>2008.0</td>\n",
       "      <td>90</td>\n",
       "      <td>46.603354</td>\n",
       "      <td>1.888334</td>\n",
       "    </tr>\n",
       "    <tr>\n",
       "      <th>1</th>\n",
       "      <td>Argentina</td>\n",
       "      <td>Roasted, earthy aromas of herbs and tomato pla...</td>\n",
       "      <td>14.0</td>\n",
       "      <td>Other</td>\n",
       "      <td>Cabernet Sauvignon</td>\n",
       "      <td>2013.0</td>\n",
       "      <td>85</td>\n",
       "      <td>-34.996496</td>\n",
       "      <td>-64.967282</td>\n",
       "    </tr>\n",
       "    <tr>\n",
       "      <th>2</th>\n",
       "      <td>Portugal</td>\n",
       "      <td>The southern coastal region of Algarve is bett...</td>\n",
       "      <td>35.0</td>\n",
       "      <td>Algarve</td>\n",
       "      <td>Portuguese Red</td>\n",
       "      <td>2014.0</td>\n",
       "      <td>90</td>\n",
       "      <td>40.033263</td>\n",
       "      <td>-7.889626</td>\n",
       "    </tr>\n",
       "    <tr>\n",
       "      <th>3</th>\n",
       "      <td>Australia</td>\n",
       "      <td>Aromas of sour cherry and cooked strawberries ...</td>\n",
       "      <td>30.0</td>\n",
       "      <td>Victoria</td>\n",
       "      <td>Pinot Noir</td>\n",
       "      <td>2006.0</td>\n",
       "      <td>82</td>\n",
       "      <td>-24.776109</td>\n",
       "      <td>134.755000</td>\n",
       "    </tr>\n",
       "    <tr>\n",
       "      <th>4</th>\n",
       "      <td>Italy</td>\n",
       "      <td>The Calderara Sottana cru delivers wines with ...</td>\n",
       "      <td>46.0</td>\n",
       "      <td>Sicily &amp; Sardinia</td>\n",
       "      <td>Red Blend</td>\n",
       "      <td>2007.0</td>\n",
       "      <td>93</td>\n",
       "      <td>42.638426</td>\n",
       "      <td>12.674297</td>\n",
       "    </tr>\n",
       "  </tbody>\n",
       "</table>\n",
       "</div>"
      ],
      "text/plain": [
       "     country                                        description  price  \\\n",
       "0     France  An impressively structured blend of Tannat and...   25.0   \n",
       "1  Argentina  Roasted, earthy aromas of herbs and tomato pla...   14.0   \n",
       "2   Portugal  The southern coastal region of Algarve is bett...   35.0   \n",
       "3  Australia  Aromas of sour cherry and cooked strawberries ...   30.0   \n",
       "4      Italy  The Calderara Sottana cru delivers wines with ...   46.0   \n",
       "\n",
       "            province                variety  vintage  points   latitude  \\\n",
       "0   Southwest France  Tannat-Cabernet Franc   2008.0      90  46.603354   \n",
       "1              Other     Cabernet Sauvignon   2013.0      85 -34.996496   \n",
       "2            Algarve         Portuguese Red   2014.0      90  40.033263   \n",
       "3           Victoria             Pinot Noir   2006.0      82 -24.776109   \n",
       "4  Sicily & Sardinia              Red Blend   2007.0      93  42.638426   \n",
       "\n",
       "    longitude  \n",
       "0    1.888334  \n",
       "1  -64.967282  \n",
       "2   -7.889626  \n",
       "3  134.755000  \n",
       "4   12.674297  "
      ]
     },
     "execution_count": 40,
     "metadata": {},
     "output_type": "execute_result"
    }
   ],
   "source": [
    "train.head()"
   ]
  },
  {
   "cell_type": "markdown",
   "metadata": {},
   "source": [
    "### 3. BONUS - Extract average climate from that year and location from the wine"
   ]
  },
  {
   "cell_type": "markdown",
   "metadata": {},
   "source": [
    "I will not complete this for my capstone, but I am placing this here to show that this is something to consider. As well as something I can try out later. The below dataset is taken from kaggle. This might be interesting to use if you want to try to predict withe wine score without the wine review. The idea would be to essentially remove the reviewer all together and be still be able to predict the score with contributing factors as location, year, climate, wine variety. "
   ]
  },
  {
   "cell_type": "code",
   "execution_count": 832,
   "metadata": {},
   "outputs": [],
   "source": [
    "temp_country = pd.read_csv('climate/GlobalLandTemperaturesByCountry.csv')\n",
    "temp_major_city = pd.read_csv('climate/GlobalLandTemperaturesByMajorCity.csv')\n",
    "temp_city = pd.read_csv('climate/GlobalLandTemperaturesByCity.csv')\n",
    "temp_state = pd.read_csv('climate/GlobalLandTemperaturesByState.csv')\n",
    "temp = pd.read_csv('climate/GlobalTemperatures.csv')"
   ]
  }
 ],
 "metadata": {
  "kernelspec": {
   "display_name": "Python 3",
   "language": "python",
   "name": "python3"
  },
  "language_info": {
   "codemirror_mode": {
    "name": "ipython",
    "version": 3
   },
   "file_extension": ".py",
   "mimetype": "text/x-python",
   "name": "python",
   "nbconvert_exporter": "python",
   "pygments_lexer": "ipython3",
   "version": "3.7.4"
  }
 },
 "nbformat": 4,
 "nbformat_minor": 4
}
