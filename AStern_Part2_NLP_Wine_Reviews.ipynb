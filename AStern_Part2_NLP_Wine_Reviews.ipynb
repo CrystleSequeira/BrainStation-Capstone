{
 "cells": [
  {
   "cell_type": "markdown",
   "metadata": {},
   "source": [
    "# Part 2 NLP with Wine Reviews"
   ]
  },
  {
   "cell_type": "markdown",
   "metadata": {},
   "source": [
    "This is **Part 2: NLP with Wine Reviews** of the project. In Part 1, I cleaned the data from the jupyter notebook named Part 1: Clean Wine Reviews and I as well considered feature engineering. I extracted the year from the title column to include vintage as a new feature. Now that the data is cleaned, I will need to run NLP (Natural Language Processing) before I can run any machine learning on the data. The text columns in this dataset are Country (i.e. Italy), Province (i.e. Sicily), Variety (i.e. Pinot Noir), and Description (Wine Review). I will use a One-Hot-Encorder process for the Province, Country, and Variety and I will use the TF-IDF process for wine review descriptions.\n",
    "\n",
    "As a reference: The original source of this dataset is from [Here](https://www.kaggle.com/zynicide/wine-reviews)."
   ]
  },
  {
   "cell_type": "code",
   "execution_count": 11,
   "metadata": {},
   "outputs": [],
   "source": [
    "# Import packages\n",
    "import pandas as pd\n",
    "import numpy as np\n",
    "\n",
    "# Import for plotting\n",
    "import matplotlib.pyplot as plt\n",
    "%matplotlib inline\n",
    "import seaborn as sns\n",
    "from scipy import stats\n",
    "\n",
    "# NLTK Packages\n",
    "import nltk\n",
    "from nltk.corpus import stopwords\n",
    "from nltk.tokenize import word_tokenize\n",
    "from nltk.stem import PorterStemmer\n",
    "from nltk.stem import WordNetLemmatizer"
   ]
  },
  {
   "cell_type": "markdown",
   "metadata": {},
   "source": [
    "### 1. Load the data"
   ]
  },
  {
   "cell_type": "code",
   "execution_count": 12,
   "metadata": {
    "scrolled": true
   },
   "outputs": [],
   "source": [
    "# load train and test data\n",
    "df_train = pd.read_csv('data/train_clean.csv')\n",
    "df_test = pd.read_csv('data/test_clean.csv')"
   ]
  },
  {
   "cell_type": "code",
   "execution_count": 13,
   "metadata": {},
   "outputs": [],
   "source": [
    "# Load y_train and y_test and save them as a column named points in the df dataframe.\n",
    "df_train['points'].to_csv (r'y_train.csv', index = False)\n",
    "df_test['points'].to_csv (r'y_test.csv', index = False)"
   ]
  },
  {
   "cell_type": "code",
   "execution_count": 14,
   "metadata": {
    "scrolled": true
   },
   "outputs": [
    {
     "name": "stdout",
     "output_type": "stream",
     "text": [
      "Train set size: (90979, 7)\n",
      "Test set size: (38992, 7)\n"
     ]
    }
   ],
   "source": [
    "# Check the train and test shapes to make sure the column numbers are the same. \n",
    "# As well as the train test should be larger then the test set.\n",
    "print('Train set size:', df_train.shape)\n",
    "print('Test set size:', df_test.shape)"
   ]
  },
  {
   "cell_type": "markdown",
   "metadata": {},
   "source": [
    "### 2. Check Dependent Variable (Wine Scores) distribution"
   ]
  },
  {
   "cell_type": "markdown",
   "metadata": {},
   "source": [
    "Supervised Learning fall into either Classification or Regression models. Classification models predict a dependent variable that is categorical, and a Regression model predicts a dependent variable that is a measurement or count."
   ]
  },
  {
   "cell_type": "code",
   "execution_count": 15,
   "metadata": {},
   "outputs": [
    {
     "data": {
      "image/png": "[encoded data removed]",
      "text/plain": [
       "<Figure size 432x288 with 1 Axes>"
      ]
     },
     "metadata": {
      "needs_background": "light"
     },
     "output_type": "display_data"
    }
   ],
   "source": [
    "# View the distriubtion of wine scores\n",
    "plt.figure()\n",
    "plt.hist(df_train['points'],10)\n",
    "plt.xlabel('Distribution', fontsize = 16)\n",
    "plt.ylabel('Frequency', fontsize = 16)\n",
    "plt.title('Distribution of Reviewer', fontsize = 18)\n",
    "plt.show()"
   ]
  },
  {
   "cell_type": "markdown",
   "metadata": {},
   "source": [
    "The wine score ranges between 80 - 100. There are a couple different ways to treat this for predicting the wine scores. 1) Wine method is treat these scores as 20 classifiers which would be very difficult to predict. 2) Another method is to break the scores into \"good\" and \"bad\" scores thus creating a two classifier problem. 3) Model the 80-100 with a regressor model and treat the scores as continuous.\n",
    "\n",
    "I will first start with a two classifier problem where good scores range between 90 - 100 and bad scores range between 80-89. For this setup I will use Logistic Regression, Random Forest, and XGboost to predict the wine scores. If there is more time then I will also try to predict the scores from 80 - 100 by using a regression model such as using KNN Regressor and Random Forest Regressor."
   ]
  },
  {
   "cell_type": "markdown",
   "metadata": {},
   "source": [
    "### 3. Set y values to 0 and 1 (2 classifications)"
   ]
  },
  {
   "cell_type": "code",
   "execution_count": 16,
   "metadata": {},
   "outputs": [],
   "source": [
    "# Make copy of the train/test dataset before making changes to the data\n",
    "df_train_copy = df_train.copy()\n",
    "df_test_copy = df_test.copy()"
   ]
  },
  {
   "cell_type": "code",
   "execution_count": 17,
   "metadata": {},
   "outputs": [],
   "source": [
    "# make a new dataframe for setting the distribution of reviewer to 2 classifications\n",
    "df_train_class = df_train.copy()\n",
    "df_test_class = df_test.copy()"
   ]
  },
  {
   "cell_type": "code",
   "execution_count": 18,
   "metadata": {
    "scrolled": true
   },
   "outputs": [
    {
     "data": {
      "text/html": [
       "<div>\n",
       "<style scoped>\n",
       "    .dataframe tbody tr th:only-of-type {\n",
       "        vertical-align: middle;\n",
       "    }\n",
       "\n",
       "    .dataframe tbody tr th {\n",
       "        vertical-align: top;\n",
       "    }\n",
       "\n",
       "    .dataframe thead th {\n",
       "        text-align: right;\n",
       "    }\n",
       "</style>\n",
       "<table border=\"1\" class=\"dataframe\">\n",
       "  <thead>\n",
       "    <tr style=\"text-align: right;\">\n",
       "      <th></th>\n",
       "      <th>country</th>\n",
       "      <th>description</th>\n",
       "      <th>price</th>\n",
       "      <th>province</th>\n",
       "      <th>variety</th>\n",
       "      <th>vintage</th>\n",
       "      <th>points</th>\n",
       "    </tr>\n",
       "  </thead>\n",
       "  <tbody>\n",
       "    <tr>\n",
       "      <th>0</th>\n",
       "      <td>US</td>\n",
       "      <td>A very dark color and extremely concentrated f...</td>\n",
       "      <td>42.0</td>\n",
       "      <td>California</td>\n",
       "      <td>Petite Sirah</td>\n",
       "      <td>2013.0</td>\n",
       "      <td>1</td>\n",
       "    </tr>\n",
       "    <tr>\n",
       "      <th>1</th>\n",
       "      <td>US</td>\n",
       "      <td>An indifferent wine, hot and baked, with jammy...</td>\n",
       "      <td>10.0</td>\n",
       "      <td>California</td>\n",
       "      <td>Meritage</td>\n",
       "      <td>2009.0</td>\n",
       "      <td>0</td>\n",
       "    </tr>\n",
       "    <tr>\n",
       "      <th>2</th>\n",
       "      <td>Portugal</td>\n",
       "      <td>Dominated by its tannins and woody characteris...</td>\n",
       "      <td>17.0</td>\n",
       "      <td>Alentejano</td>\n",
       "      <td>Portuguese Red</td>\n",
       "      <td>2011.0</td>\n",
       "      <td>0</td>\n",
       "    </tr>\n",
       "    <tr>\n",
       "      <th>3</th>\n",
       "      <td>US</td>\n",
       "      <td>This wine's unusual purple fruit, citrus, herb...</td>\n",
       "      <td>30.0</td>\n",
       "      <td>Washington</td>\n",
       "      <td>Malbec</td>\n",
       "      <td>2013.0</td>\n",
       "      <td>0</td>\n",
       "    </tr>\n",
       "    <tr>\n",
       "      <th>4</th>\n",
       "      <td>Italy</td>\n",
       "      <td>Elegant yet extremely accessible, this present...</td>\n",
       "      <td>30.0</td>\n",
       "      <td>Central Italy</td>\n",
       "      <td>Lambrusco di Sorbara</td>\n",
       "      <td>2010.0</td>\n",
       "      <td>1</td>\n",
       "    </tr>\n",
       "  </tbody>\n",
       "</table>\n",
       "</div>"
      ],
      "text/plain": [
       "    country                                        description  price  \\\n",
       "0        US  A very dark color and extremely concentrated f...   42.0   \n",
       "1        US  An indifferent wine, hot and baked, with jammy...   10.0   \n",
       "2  Portugal  Dominated by its tannins and woody characteris...   17.0   \n",
       "3        US  This wine's unusual purple fruit, citrus, herb...   30.0   \n",
       "4     Italy  Elegant yet extremely accessible, this present...   30.0   \n",
       "\n",
       "        province               variety  vintage  points  \n",
       "0     California          Petite Sirah   2013.0       1  \n",
       "1     California              Meritage   2009.0       0  \n",
       "2     Alentejano        Portuguese Red   2011.0       0  \n",
       "3     Washington                Malbec   2013.0       0  \n",
       "4  Central Italy  Lambrusco di Sorbara   2010.0       1  "
      ]
     },
     "execution_count": 18,
     "metadata": {},
     "output_type": "execute_result"
    }
   ],
   "source": [
    "# map the points to 0 and 1 for train dataset\n",
    "conversion_dict = {80:0, 81:0, 82:0, 83:0, 84:0, 85:0, 86:0, 87:0, 88:0, 89:1, 90:1, 91:1, 92:1, 93:1, 94:1, 95:1, 96:1, 97:1, 98:1, 99:1, 100:1}\n",
    "df_train_class['points'] = df_train_class['points'].map(conversion_dict)\n",
    "\n",
    "# Check to make sure the points have changed to 0 and 1\n",
    "df_train_class.head()"
   ]
  },
  {
   "cell_type": "code",
   "execution_count": 19,
   "metadata": {},
   "outputs": [],
   "source": [
    "# map the points to 0 and 1 for test dataset\n",
    "conversion_dict = {80:0, 81:0, 82:0, 83:0, 84:0, 85:0, 86:0, 87:0, 88:0, 89:1, 90:1, 91:1, 92:1, 93:1, 94:1, 95:1, 96:1, 97:1, 98:1, 99:1, 100:1}\n",
    "df_test_class['points'] = df_test_class['points'].map(conversion_dict)"
   ]
  },
  {
   "cell_type": "code",
   "execution_count": 20,
   "metadata": {
    "scrolled": true
   },
   "outputs": [
    {
     "data": {
      "image/png": "[encoded data removed]",
      "text/plain": [
       "<Figure size 432x288 with 1 Axes>"
      ]
     },
     "metadata": {
      "needs_background": "light"
     },
     "output_type": "display_data"
    }
   ],
   "source": [
    "# View the distribution of wine scores\n",
    "plt.figure()\n",
    "plt.hist(df_train_class['points'],10)\n",
    "plt.xlabel('Distribution', fontsize = 16)\n",
    "plt.ylabel('Frequency', fontsize = 16)\n",
    "plt.title('Distribution of Reviewer', fontsize = 18)\n",
    "plt.show()"
   ]
  },
  {
   "cell_type": "markdown",
   "metadata": {},
   "source": [
    "There are more \"bad\" reviews than \"good\" reviews therefore the model will be able to predict bad reviews better than reviews that are good. While I could downsample the data to make the total amount of good and bad reviews equal, for now I will keep the data how it is as the difference isn't too \"large\". I will first take a look at the precision and recall scores before downsamplting. The reason for this is because I want to avoid removing data as much as possible because more data points helps improve the training of a model. If the precision and recall scores are low compared to the accuracy score, then I might want to consider downsampling. Note in the future I could also upsample as another approach."
   ]
  },
  {
   "cell_type": "code",
   "execution_count": 21,
   "metadata": {},
   "outputs": [],
   "source": [
    "# Set y values for test and train\n",
    "y_train = df_train['points']\n",
    "y_test = df_test['points']"
   ]
  },
  {
   "cell_type": "code",
   "execution_count": 22,
   "metadata": {},
   "outputs": [],
   "source": [
    "# Set y and test values with only 0 (\"bad\") and 1 (\"good\") values and rename y values so that we keep the original y values.\n",
    "y_train_class = df_train_class['points']\n",
    "y_test_class = df_test_class['points']"
   ]
  },
  {
   "cell_type": "code",
   "execution_count": 23,
   "metadata": {
    "scrolled": true
   },
   "outputs": [
    {
     "data": {
      "text/html": [
       "<div>\n",
       "<style scoped>\n",
       "    .dataframe tbody tr th:only-of-type {\n",
       "        vertical-align: middle;\n",
       "    }\n",
       "\n",
       "    .dataframe tbody tr th {\n",
       "        vertical-align: top;\n",
       "    }\n",
       "\n",
       "    .dataframe thead th {\n",
       "        text-align: right;\n",
       "    }\n",
       "</style>\n",
       "<table border=\"1\" class=\"dataframe\">\n",
       "  <thead>\n",
       "    <tr style=\"text-align: right;\">\n",
       "      <th></th>\n",
       "      <th>country</th>\n",
       "      <th>description</th>\n",
       "      <th>price</th>\n",
       "      <th>province</th>\n",
       "      <th>variety</th>\n",
       "      <th>vintage</th>\n",
       "    </tr>\n",
       "  </thead>\n",
       "  <tbody>\n",
       "    <tr>\n",
       "      <th>0</th>\n",
       "      <td>US</td>\n",
       "      <td>A very dark color and extremely concentrated f...</td>\n",
       "      <td>42.0</td>\n",
       "      <td>California</td>\n",
       "      <td>Petite Sirah</td>\n",
       "      <td>2013.0</td>\n",
       "    </tr>\n",
       "    <tr>\n",
       "      <th>1</th>\n",
       "      <td>US</td>\n",
       "      <td>An indifferent wine, hot and baked, with jammy...</td>\n",
       "      <td>10.0</td>\n",
       "      <td>California</td>\n",
       "      <td>Meritage</td>\n",
       "      <td>2009.0</td>\n",
       "    </tr>\n",
       "    <tr>\n",
       "      <th>2</th>\n",
       "      <td>Portugal</td>\n",
       "      <td>Dominated by its tannins and woody characteris...</td>\n",
       "      <td>17.0</td>\n",
       "      <td>Alentejano</td>\n",
       "      <td>Portuguese Red</td>\n",
       "      <td>2011.0</td>\n",
       "    </tr>\n",
       "    <tr>\n",
       "      <th>3</th>\n",
       "      <td>US</td>\n",
       "      <td>This wine's unusual purple fruit, citrus, herb...</td>\n",
       "      <td>30.0</td>\n",
       "      <td>Washington</td>\n",
       "      <td>Malbec</td>\n",
       "      <td>2013.0</td>\n",
       "    </tr>\n",
       "    <tr>\n",
       "      <th>4</th>\n",
       "      <td>Italy</td>\n",
       "      <td>Elegant yet extremely accessible, this present...</td>\n",
       "      <td>30.0</td>\n",
       "      <td>Central Italy</td>\n",
       "      <td>Lambrusco di Sorbara</td>\n",
       "      <td>2010.0</td>\n",
       "    </tr>\n",
       "  </tbody>\n",
       "</table>\n",
       "</div>"
      ],
      "text/plain": [
       "    country                                        description  price  \\\n",
       "0        US  A very dark color and extremely concentrated f...   42.0   \n",
       "1        US  An indifferent wine, hot and baked, with jammy...   10.0   \n",
       "2  Portugal  Dominated by its tannins and woody characteris...   17.0   \n",
       "3        US  This wine's unusual purple fruit, citrus, herb...   30.0   \n",
       "4     Italy  Elegant yet extremely accessible, this present...   30.0   \n",
       "\n",
       "        province               variety  vintage  \n",
       "0     California          Petite Sirah   2013.0  \n",
       "1     California              Meritage   2009.0  \n",
       "2     Alentejano        Portuguese Red   2011.0  \n",
       "3     Washington                Malbec   2013.0  \n",
       "4  Central Italy  Lambrusco di Sorbara   2010.0  "
      ]
     },
     "execution_count": 23,
     "metadata": {},
     "output_type": "execute_result"
    }
   ],
   "source": [
    "# Now that we have the y values, drop the points column from the X dataframe\n",
    "X_train = df_train_copy.drop('points', axis = 1)\n",
    "\n",
    "# Repeat with test\n",
    "X_test = df_test_copy.drop('points', axis = 1)\n",
    "\n",
    "# View train dataset to make sure the dataframe looks \"OK\"\n",
    "X_train.head()"
   ]
  },
  {
   "cell_type": "markdown",
   "metadata": {},
   "source": [
    "### 4. TF-IDF Vectorizer"
   ]
  },
  {
   "cell_type": "code",
   "execution_count": 24,
   "metadata": {},
   "outputs": [],
   "source": [
    "# Import TFIDF Vectorizer package from Sklearn\n",
    "from sklearn.feature_extraction.text import TfidfVectorizer"
   ]
  },
  {
   "cell_type": "markdown",
   "metadata": {},
   "source": [
    "TF-IDF Vectorizer will be used for the wine reviews as the process takes a sentance and extracts the word from the sentance and gives it a weight. "
   ]
  },
  {
   "cell_type": "code",
   "execution_count": 27,
   "metadata": {
    "scrolled": true
   },
   "outputs": [
    {
     "name": "stderr",
     "output_type": "stream",
     "text": [
      "[nltk_data] Downloading package stopwords to\n",
      "[nltk_data]     /Users/avielstern/nltk_data...\n",
      "[nltk_data]   Package stopwords is already up-to-date!\n"
     ]
    }
   ],
   "source": [
    "import string\n",
    "\n",
    "import nltk\n",
    "stemmer = nltk.stem.PorterStemmer()\n",
    "\n",
    "nltk.download('stopwords')\n",
    "from nltk.corpus import stopwords \n",
    "ENGLISH_STOP_WORDS = stopwords.words('english')\n",
    "\n",
    "def my_tokenizer(sentence):\n",
    "    \n",
    "    for punctuation_mark in string.punctuation:\n",
    "        # Remove punctuation and set to lower case\n",
    "        sentence = sentence.replace(punctuation_mark,'').lower()\n",
    "\n",
    "    # split sentence into words\n",
    "    listofwords = sentence.split(' ')\n",
    "    listofstemmed_words = []\n",
    "    \n",
    "        \n",
    "    # Remove stopwords and any tokens that are just empty strings\n",
    "    for word in listofwords:\n",
    "        if (not word in ENGLISH_STOP_WORDS) and (word!=''):\n",
    "            # Stem words\n",
    "            stemmed_word = stemmer.stem(word)\n",
    "            listofstemmed_words.append(stemmed_word)\n",
    "\n",
    "    return listofstemmed_words"
   ]
  },
  {
   "cell_type": "markdown",
   "metadata": {},
   "source": [
    "I decided to not use n_grams which finds group of words in a sentance that contains not i.e. will not go back there again. This is because the wine reviews do not have sentiment. Instead the wine reviews give a more professional tone that describes characteristics of the wine such is the wine acidic, are there tannins, fruity, fresh and so on.\n",
    "\n",
    "min_df is a threshold that removes any token that has a frequency less than the given parameter. The default is set to 1 and if the threshold ranges between 0 - 1 as a float than the the threshold is a percentage of the porportion of tokens in a document. If the threshold is set as an int than the threshold is the frequency of tokens a document."
   ]
  },
  {
   "cell_type": "code",
   "execution_count": 26,
   "metadata": {},
   "outputs": [],
   "source": [
    "# Instantiate\n",
    "tfidf = TfidfVectorizer(min_df = 0.01, tokenizer=my_tokenizer)"
   ]
  },
  {
   "cell_type": "code",
   "execution_count": 17,
   "metadata": {},
   "outputs": [
    {
     "name": "stdout",
     "output_type": "stream",
     "text": [
      "(90979, 415)\n",
      "(38992, 415)\n"
     ]
    }
   ],
   "source": [
    "# Create review \n",
    "train_review = X_train['description']\n",
    "test_review = X_test['description']\n",
    "\n",
    "\n",
    "# Fit reviews\n",
    "tfidf.fit(train_review)\n",
    "\n",
    "# Transform reviews\n",
    "review_train = tfidf.transform(train_review)\n",
    "review_test = tfidf.transform(test_review)\n",
    "\n",
    "# Make sure train and test shape contain the same number of rows. \n",
    "# This is just reassurance that the tranformation worked.\n",
    "print(review_train.shape)\n",
    "print(review_test.shape)"
   ]
  },
  {
   "cell_type": "code",
   "execution_count": 18,
   "metadata": {},
   "outputs": [],
   "source": [
    "# View tokens associated to their weight for the train dataset\n",
    "word_weights = np.array(np.sum(review_train, axis=0)).reshape((-1,))\n",
    "\n",
    "words = np.array(tfidf.get_feature_names())\n",
    "words_df = pd.DataFrame({\"word\": words, \n",
    "                         \"weight\": word_weights})"
   ]
  },
  {
   "cell_type": "code",
   "execution_count": 19,
   "metadata": {
    "scrolled": true
   },
   "outputs": [
    {
     "data": {
      "text/html": [
       "<div>\n",
       "<style scoped>\n",
       "    .dataframe tbody tr th:only-of-type {\n",
       "        vertical-align: middle;\n",
       "    }\n",
       "\n",
       "    .dataframe tbody tr th {\n",
       "        vertical-align: top;\n",
       "    }\n",
       "\n",
       "    .dataframe thead th {\n",
       "        text-align: right;\n",
       "    }\n",
       "</style>\n",
       "<table border=\"1\" class=\"dataframe\">\n",
       "  <thead>\n",
       "    <tr style=\"text-align: right;\">\n",
       "      <th></th>\n",
       "      <th>word</th>\n",
       "      <th>weight</th>\n",
       "    </tr>\n",
       "  </thead>\n",
       "  <tbody>\n",
       "    <tr>\n",
       "      <th>0</th>\n",
       "      <td>10</td>\n",
       "      <td>332.911648</td>\n",
       "    </tr>\n",
       "    <tr>\n",
       "      <th>1</th>\n",
       "      <td>100</td>\n",
       "      <td>408.617714</td>\n",
       "    </tr>\n",
       "    <tr>\n",
       "      <th>2</th>\n",
       "      <td>2016</td>\n",
       "      <td>372.947815</td>\n",
       "    </tr>\n",
       "    <tr>\n",
       "      <th>3</th>\n",
       "      <td>2017</td>\n",
       "      <td>504.512139</td>\n",
       "    </tr>\n",
       "    <tr>\n",
       "      <th>4</th>\n",
       "      <td>2018</td>\n",
       "      <td>599.444599</td>\n",
       "    </tr>\n",
       "    <tr>\n",
       "      <th>...</th>\n",
       "      <td>...</td>\n",
       "      <td>...</td>\n",
       "    </tr>\n",
       "    <tr>\n",
       "      <th>410</th>\n",
       "      <td>yet</td>\n",
       "      <td>836.920752</td>\n",
       "    </tr>\n",
       "    <tr>\n",
       "      <th>411</th>\n",
       "      <td>young</td>\n",
       "      <td>780.630935</td>\n",
       "    </tr>\n",
       "    <tr>\n",
       "      <th>412</th>\n",
       "      <td>youth</td>\n",
       "      <td>305.916007</td>\n",
       "    </tr>\n",
       "    <tr>\n",
       "      <th>413</th>\n",
       "      <td>zest</td>\n",
       "      <td>602.166573</td>\n",
       "    </tr>\n",
       "    <tr>\n",
       "      <th>414</th>\n",
       "      <td>zesti</td>\n",
       "      <td>599.154304</td>\n",
       "    </tr>\n",
       "  </tbody>\n",
       "</table>\n",
       "<p>415 rows × 2 columns</p>\n",
       "</div>"
      ],
      "text/plain": [
       "      word      weight\n",
       "0       10  332.911648\n",
       "1      100  408.617714\n",
       "2     2016  372.947815\n",
       "3     2017  504.512139\n",
       "4     2018  599.444599\n",
       "..     ...         ...\n",
       "410    yet  836.920752\n",
       "411  young  780.630935\n",
       "412  youth  305.916007\n",
       "413   zest  602.166573\n",
       "414  zesti  599.154304\n",
       "\n",
       "[415 rows x 2 columns]"
      ]
     },
     "execution_count": 19,
     "metadata": {},
     "output_type": "execute_result"
    }
   ],
   "source": [
    "words_df"
   ]
  },
  {
   "cell_type": "code",
   "execution_count": 20,
   "metadata": {},
   "outputs": [],
   "source": [
    "# Save the dataframe to a csv which can be used to make further analysis\n",
    "words_df.to_csv (r'NLP_weights_train.csv', index = False)"
   ]
  },
  {
   "cell_type": "code",
   "execution_count": 21,
   "metadata": {},
   "outputs": [],
   "source": [
    "# Create a dataframe of the tokenized words. \n",
    "# Will also need to use .toarray() to remove sparcity. \n",
    "\n",
    "description_train = pd.DataFrame(columns=tfidf.get_feature_names(), data=review_train.toarray())\n",
    "description_test = pd.DataFrame(columns=tfidf.get_feature_names(), data=review_test.toarray())"
   ]
  },
  {
   "cell_type": "code",
   "execution_count": 22,
   "metadata": {
    "scrolled": true
   },
   "outputs": [
    {
     "data": {
      "text/html": [
       "<div>\n",
       "<style scoped>\n",
       "    .dataframe tbody tr th:only-of-type {\n",
       "        vertical-align: middle;\n",
       "    }\n",
       "\n",
       "    .dataframe tbody tr th {\n",
       "        vertical-align: top;\n",
       "    }\n",
       "\n",
       "    .dataframe thead th {\n",
       "        text-align: right;\n",
       "    }\n",
       "</style>\n",
       "<table border=\"1\" class=\"dataframe\">\n",
       "  <thead>\n",
       "    <tr style=\"text-align: right;\">\n",
       "      <th></th>\n",
       "      <th>10</th>\n",
       "      <th>100</th>\n",
       "      <th>2016</th>\n",
       "      <th>2017</th>\n",
       "      <th>2018</th>\n",
       "      <th>2019</th>\n",
       "      <th>2020</th>\n",
       "      <th>accent</th>\n",
       "      <th>acid</th>\n",
       "      <th>add</th>\n",
       "      <th>...</th>\n",
       "      <th>wood</th>\n",
       "      <th>would</th>\n",
       "      <th>wrap</th>\n",
       "      <th>year</th>\n",
       "      <th>yellow</th>\n",
       "      <th>yet</th>\n",
       "      <th>young</th>\n",
       "      <th>youth</th>\n",
       "      <th>zest</th>\n",
       "      <th>zesti</th>\n",
       "    </tr>\n",
       "  </thead>\n",
       "  <tbody>\n",
       "    <tr>\n",
       "      <th>0</th>\n",
       "      <td>0.0</td>\n",
       "      <td>0.0</td>\n",
       "      <td>0.0</td>\n",
       "      <td>0.0</td>\n",
       "      <td>0.0</td>\n",
       "      <td>0.0</td>\n",
       "      <td>0.0</td>\n",
       "      <td>0.0</td>\n",
       "      <td>0.000000</td>\n",
       "      <td>0.0</td>\n",
       "      <td>...</td>\n",
       "      <td>0.000000</td>\n",
       "      <td>0.0</td>\n",
       "      <td>0.0</td>\n",
       "      <td>0.000000</td>\n",
       "      <td>0.000000</td>\n",
       "      <td>0.000000</td>\n",
       "      <td>0.0</td>\n",
       "      <td>0.0</td>\n",
       "      <td>0.0</td>\n",
       "      <td>0.000000</td>\n",
       "    </tr>\n",
       "    <tr>\n",
       "      <th>1</th>\n",
       "      <td>0.0</td>\n",
       "      <td>0.0</td>\n",
       "      <td>0.0</td>\n",
       "      <td>0.0</td>\n",
       "      <td>0.0</td>\n",
       "      <td>0.0</td>\n",
       "      <td>0.0</td>\n",
       "      <td>0.0</td>\n",
       "      <td>0.000000</td>\n",
       "      <td>0.0</td>\n",
       "      <td>...</td>\n",
       "      <td>0.000000</td>\n",
       "      <td>0.0</td>\n",
       "      <td>0.0</td>\n",
       "      <td>0.000000</td>\n",
       "      <td>0.000000</td>\n",
       "      <td>0.000000</td>\n",
       "      <td>0.0</td>\n",
       "      <td>0.0</td>\n",
       "      <td>0.0</td>\n",
       "      <td>0.000000</td>\n",
       "    </tr>\n",
       "    <tr>\n",
       "      <th>2</th>\n",
       "      <td>0.0</td>\n",
       "      <td>0.0</td>\n",
       "      <td>0.0</td>\n",
       "      <td>0.0</td>\n",
       "      <td>0.0</td>\n",
       "      <td>0.0</td>\n",
       "      <td>0.0</td>\n",
       "      <td>0.0</td>\n",
       "      <td>0.000000</td>\n",
       "      <td>0.0</td>\n",
       "      <td>...</td>\n",
       "      <td>0.000000</td>\n",
       "      <td>0.0</td>\n",
       "      <td>0.0</td>\n",
       "      <td>0.233790</td>\n",
       "      <td>0.000000</td>\n",
       "      <td>0.000000</td>\n",
       "      <td>0.0</td>\n",
       "      <td>0.0</td>\n",
       "      <td>0.0</td>\n",
       "      <td>0.000000</td>\n",
       "    </tr>\n",
       "    <tr>\n",
       "      <th>3</th>\n",
       "      <td>0.0</td>\n",
       "      <td>0.0</td>\n",
       "      <td>0.0</td>\n",
       "      <td>0.0</td>\n",
       "      <td>0.0</td>\n",
       "      <td>0.0</td>\n",
       "      <td>0.0</td>\n",
       "      <td>0.0</td>\n",
       "      <td>0.000000</td>\n",
       "      <td>0.0</td>\n",
       "      <td>...</td>\n",
       "      <td>0.241324</td>\n",
       "      <td>0.0</td>\n",
       "      <td>0.0</td>\n",
       "      <td>0.000000</td>\n",
       "      <td>0.000000</td>\n",
       "      <td>0.000000</td>\n",
       "      <td>0.0</td>\n",
       "      <td>0.0</td>\n",
       "      <td>0.0</td>\n",
       "      <td>0.000000</td>\n",
       "    </tr>\n",
       "    <tr>\n",
       "      <th>4</th>\n",
       "      <td>0.0</td>\n",
       "      <td>0.0</td>\n",
       "      <td>0.0</td>\n",
       "      <td>0.0</td>\n",
       "      <td>0.0</td>\n",
       "      <td>0.0</td>\n",
       "      <td>0.0</td>\n",
       "      <td>0.0</td>\n",
       "      <td>0.125386</td>\n",
       "      <td>0.0</td>\n",
       "      <td>...</td>\n",
       "      <td>0.000000</td>\n",
       "      <td>0.0</td>\n",
       "      <td>0.0</td>\n",
       "      <td>0.000000</td>\n",
       "      <td>0.000000</td>\n",
       "      <td>0.243582</td>\n",
       "      <td>0.0</td>\n",
       "      <td>0.0</td>\n",
       "      <td>0.0</td>\n",
       "      <td>0.000000</td>\n",
       "    </tr>\n",
       "    <tr>\n",
       "      <th>...</th>\n",
       "      <td>...</td>\n",
       "      <td>...</td>\n",
       "      <td>...</td>\n",
       "      <td>...</td>\n",
       "      <td>...</td>\n",
       "      <td>...</td>\n",
       "      <td>...</td>\n",
       "      <td>...</td>\n",
       "      <td>...</td>\n",
       "      <td>...</td>\n",
       "      <td>...</td>\n",
       "      <td>...</td>\n",
       "      <td>...</td>\n",
       "      <td>...</td>\n",
       "      <td>...</td>\n",
       "      <td>...</td>\n",
       "      <td>...</td>\n",
       "      <td>...</td>\n",
       "      <td>...</td>\n",
       "      <td>...</td>\n",
       "      <td>...</td>\n",
       "    </tr>\n",
       "    <tr>\n",
       "      <th>90974</th>\n",
       "      <td>0.0</td>\n",
       "      <td>0.0</td>\n",
       "      <td>0.0</td>\n",
       "      <td>0.0</td>\n",
       "      <td>0.0</td>\n",
       "      <td>0.0</td>\n",
       "      <td>0.0</td>\n",
       "      <td>0.0</td>\n",
       "      <td>0.186656</td>\n",
       "      <td>0.0</td>\n",
       "      <td>...</td>\n",
       "      <td>0.000000</td>\n",
       "      <td>0.0</td>\n",
       "      <td>0.0</td>\n",
       "      <td>0.000000</td>\n",
       "      <td>0.000000</td>\n",
       "      <td>0.000000</td>\n",
       "      <td>0.0</td>\n",
       "      <td>0.0</td>\n",
       "      <td>0.0</td>\n",
       "      <td>0.400992</td>\n",
       "    </tr>\n",
       "    <tr>\n",
       "      <th>90975</th>\n",
       "      <td>0.0</td>\n",
       "      <td>0.0</td>\n",
       "      <td>0.0</td>\n",
       "      <td>0.0</td>\n",
       "      <td>0.0</td>\n",
       "      <td>0.0</td>\n",
       "      <td>0.0</td>\n",
       "      <td>0.0</td>\n",
       "      <td>0.131732</td>\n",
       "      <td>0.0</td>\n",
       "      <td>...</td>\n",
       "      <td>0.000000</td>\n",
       "      <td>0.0</td>\n",
       "      <td>0.0</td>\n",
       "      <td>0.000000</td>\n",
       "      <td>0.267229</td>\n",
       "      <td>0.000000</td>\n",
       "      <td>0.0</td>\n",
       "      <td>0.0</td>\n",
       "      <td>0.0</td>\n",
       "      <td>0.000000</td>\n",
       "    </tr>\n",
       "    <tr>\n",
       "      <th>90976</th>\n",
       "      <td>0.0</td>\n",
       "      <td>0.0</td>\n",
       "      <td>0.0</td>\n",
       "      <td>0.0</td>\n",
       "      <td>0.0</td>\n",
       "      <td>0.0</td>\n",
       "      <td>0.0</td>\n",
       "      <td>0.0</td>\n",
       "      <td>0.000000</td>\n",
       "      <td>0.0</td>\n",
       "      <td>...</td>\n",
       "      <td>0.000000</td>\n",
       "      <td>0.0</td>\n",
       "      <td>0.0</td>\n",
       "      <td>0.000000</td>\n",
       "      <td>0.000000</td>\n",
       "      <td>0.248652</td>\n",
       "      <td>0.0</td>\n",
       "      <td>0.0</td>\n",
       "      <td>0.0</td>\n",
       "      <td>0.000000</td>\n",
       "    </tr>\n",
       "    <tr>\n",
       "      <th>90977</th>\n",
       "      <td>0.0</td>\n",
       "      <td>0.0</td>\n",
       "      <td>0.0</td>\n",
       "      <td>0.0</td>\n",
       "      <td>0.0</td>\n",
       "      <td>0.0</td>\n",
       "      <td>0.0</td>\n",
       "      <td>0.0</td>\n",
       "      <td>0.000000</td>\n",
       "      <td>0.0</td>\n",
       "      <td>...</td>\n",
       "      <td>0.000000</td>\n",
       "      <td>0.0</td>\n",
       "      <td>0.0</td>\n",
       "      <td>0.000000</td>\n",
       "      <td>0.000000</td>\n",
       "      <td>0.000000</td>\n",
       "      <td>0.0</td>\n",
       "      <td>0.0</td>\n",
       "      <td>0.0</td>\n",
       "      <td>0.000000</td>\n",
       "    </tr>\n",
       "    <tr>\n",
       "      <th>90978</th>\n",
       "      <td>0.0</td>\n",
       "      <td>0.0</td>\n",
       "      <td>0.0</td>\n",
       "      <td>0.0</td>\n",
       "      <td>0.0</td>\n",
       "      <td>0.0</td>\n",
       "      <td>0.0</td>\n",
       "      <td>0.0</td>\n",
       "      <td>0.000000</td>\n",
       "      <td>0.0</td>\n",
       "      <td>...</td>\n",
       "      <td>0.000000</td>\n",
       "      <td>0.0</td>\n",
       "      <td>0.0</td>\n",
       "      <td>0.175317</td>\n",
       "      <td>0.000000</td>\n",
       "      <td>0.000000</td>\n",
       "      <td>0.0</td>\n",
       "      <td>0.0</td>\n",
       "      <td>0.0</td>\n",
       "      <td>0.000000</td>\n",
       "    </tr>\n",
       "  </tbody>\n",
       "</table>\n",
       "<p>90979 rows × 415 columns</p>\n",
       "</div>"
      ],
      "text/plain": [
       "        10  100  2016  2017  2018  2019  2020  accent      acid  add  ...  \\\n",
       "0      0.0  0.0   0.0   0.0   0.0   0.0   0.0     0.0  0.000000  0.0  ...   \n",
       "1      0.0  0.0   0.0   0.0   0.0   0.0   0.0     0.0  0.000000  0.0  ...   \n",
       "2      0.0  0.0   0.0   0.0   0.0   0.0   0.0     0.0  0.000000  0.0  ...   \n",
       "3      0.0  0.0   0.0   0.0   0.0   0.0   0.0     0.0  0.000000  0.0  ...   \n",
       "4      0.0  0.0   0.0   0.0   0.0   0.0   0.0     0.0  0.125386  0.0  ...   \n",
       "...    ...  ...   ...   ...   ...   ...   ...     ...       ...  ...  ...   \n",
       "90974  0.0  0.0   0.0   0.0   0.0   0.0   0.0     0.0  0.186656  0.0  ...   \n",
       "90975  0.0  0.0   0.0   0.0   0.0   0.0   0.0     0.0  0.131732  0.0  ...   \n",
       "90976  0.0  0.0   0.0   0.0   0.0   0.0   0.0     0.0  0.000000  0.0  ...   \n",
       "90977  0.0  0.0   0.0   0.0   0.0   0.0   0.0     0.0  0.000000  0.0  ...   \n",
       "90978  0.0  0.0   0.0   0.0   0.0   0.0   0.0     0.0  0.000000  0.0  ...   \n",
       "\n",
       "           wood  would  wrap      year    yellow       yet  young  youth  \\\n",
       "0      0.000000    0.0   0.0  0.000000  0.000000  0.000000    0.0    0.0   \n",
       "1      0.000000    0.0   0.0  0.000000  0.000000  0.000000    0.0    0.0   \n",
       "2      0.000000    0.0   0.0  0.233790  0.000000  0.000000    0.0    0.0   \n",
       "3      0.241324    0.0   0.0  0.000000  0.000000  0.000000    0.0    0.0   \n",
       "4      0.000000    0.0   0.0  0.000000  0.000000  0.243582    0.0    0.0   \n",
       "...         ...    ...   ...       ...       ...       ...    ...    ...   \n",
       "90974  0.000000    0.0   0.0  0.000000  0.000000  0.000000    0.0    0.0   \n",
       "90975  0.000000    0.0   0.0  0.000000  0.267229  0.000000    0.0    0.0   \n",
       "90976  0.000000    0.0   0.0  0.000000  0.000000  0.248652    0.0    0.0   \n",
       "90977  0.000000    0.0   0.0  0.000000  0.000000  0.000000    0.0    0.0   \n",
       "90978  0.000000    0.0   0.0  0.175317  0.000000  0.000000    0.0    0.0   \n",
       "\n",
       "       zest     zesti  \n",
       "0       0.0  0.000000  \n",
       "1       0.0  0.000000  \n",
       "2       0.0  0.000000  \n",
       "3       0.0  0.000000  \n",
       "4       0.0  0.000000  \n",
       "...     ...       ...  \n",
       "90974   0.0  0.400992  \n",
       "90975   0.0  0.000000  \n",
       "90976   0.0  0.000000  \n",
       "90977   0.0  0.000000  \n",
       "90978   0.0  0.000000  \n",
       "\n",
       "[90979 rows x 415 columns]"
      ]
     },
     "metadata": {},
     "output_type": "display_data"
    }
   ],
   "source": [
    "# To make sure the TF-IDF worked and that the index looks OK, columns looks OK and so on.\n",
    "display(description_train)"
   ]
  },
  {
   "cell_type": "markdown",
   "metadata": {},
   "source": [
    "### 5. Use One Hot Encoding to transform Province, Country, and Variety into 1 or 0. "
   ]
  },
  {
   "cell_type": "markdown",
   "metadata": {},
   "source": [
    "One Hot Encoding takes a category and assigns it as its own column in a dataframe. The columns are then filled with 1 or 0. To complete this task, I ended up using three approaches for this which resulted into an iterative workflow process. \n",
    "   \n",
    "**Approach 1:** The first approach I used the function pd.get_dummies on Province, Country, and Variety. After applying get_dummies, I concat Province, Country, Variety, Description into one dataframe. The problem that I ran into which I did not forsee was that the test dataset contained different variables than the train dataset which meant the dataframe sizes were different shapes. This happened because when I split the train and test set. This is more likely to happen with columns that have many categories. I became aware of this problem after fitting a model on the train dataset and realizing that the model would not be able to run for the test dataset.\n",
    "\n",
    "In the train dataset:"
   ]
  },
  {
   "cell_type": "code",
   "execution_count": 23,
   "metadata": {},
   "outputs": [
    {
     "name": "stdout",
     "output_type": "stream",
     "text": [
      "Number of countries in train set: 42\n",
      "Number of province in train set: 406\n",
      "Number of variety in train set: 646\n"
     ]
    }
   ],
   "source": [
    "print('Number of countries in train set:', len(df_train['country'].groupby(df_train['country']).count()))\n",
    "print('Number of province in train set:', len(df_train['province'].groupby(df_train['province']).count()))\n",
    "print('Number of variety in train set:', len(df_train['variety'].groupby(df_train['variety']).count()))\n"
   ]
  },
  {
   "cell_type": "markdown",
   "metadata": {},
   "source": [
    "**Approach 2:** I then used a second approach to fix this where I set a threshold to remove any countries, provinces, and varieties that has a percentage of less than 0.5% in the total column. While this approach technically \"worked\", two issues arised when completing this task. First, I had to peak into the test dataset to make sure that the same countries, varieties, and provinces were in the train dataset as in the test dataset before running the predictive models. The second issue was that the accuracy score was 50% which is low. The reason for such a low accuracy score is because I removed too many variables when setting the threshold. Countries had dropped from a count of 42 to 12, province had dropped from a count of 406 to 34 and variety had dropped from a count of 646 to 34!\n",
    "    \n",
    "**Approach 3:** Thanks to this [site](https://www.kaggle.com/learn-forum/50008), I found a solution. We can create a train and test set, run get dummies and then create a new dataframe of the test dataset which only includes get_dummy features from the train set."
   ]
  },
  {
   "cell_type": "markdown",
   "metadata": {},
   "source": [
    "### Approach 1"
   ]
  },
  {
   "cell_type": "code",
   "execution_count": 24,
   "metadata": {},
   "outputs": [
    {
     "name": "stdout",
     "output_type": "stream",
     "text": [
      "Size of X train dataset: (90979, 1511)\n",
      "Size of X test dataset: (38992, 1351)\n"
     ]
    }
   ],
   "source": [
    "# make copies of X and y dataset so that the original dataset is not changed\n",
    "X_train_copy = X_train.copy()\n",
    "y_train_copy = y_train.copy()\n",
    "\n",
    "X_test_copy = X_test.copy()\n",
    "y_test_copy = y_test.copy()\n",
    "\n",
    "# One hot encoding for country, province, and variety\n",
    "dummy_train = X_train_copy.drop(['description', 'price', 'vintage'], axis = 1)\n",
    "dummy_test = X_test_copy.drop(['description', 'price', 'vintage'], axis = 1)\n",
    "\n",
    "# Add columns country, province, variety\n",
    "cat_columns=[\"country\", \"province\", \"variety\"]\n",
    "\n",
    "# One Hot Encoding\n",
    "dummy_train= pd.get_dummies(dummy_train, prefix_sep=\"__\", columns=cat_columns)\n",
    "\n",
    "cat_columns=[\"country\", \"province\", \"variety\"]\n",
    "dummy_test= pd.get_dummies(dummy_test, prefix_sep=\"__\", columns=cat_columns)\n",
    "\n",
    "# Now that we have use nlp on the text columns, we need to remove these columns\n",
    "X_train_copy.drop(['country', 'description', 'province', 'variety'], axis = 1, inplace = True)\n",
    "X_test_copy.drop(['country', 'description', 'province', 'variety'], axis = 1, inplace = True)\n",
    "\n",
    "# add all columns back to a final X dataframe\n",
    "X_train_final = pd.concat([description_train, dummy_train, X_train_copy], axis = 1, sort = False)\n",
    "X_test_final = pd.concat([description_test, dummy_test, X_test_copy], axis = 1, sort = False)\n",
    "\n",
    "print('Size of X train dataset:', X_train_final.shape)\n",
    "print('Size of X test dataset:', X_test_final.shape)"
   ]
  },
  {
   "cell_type": "markdown",
   "metadata": {},
   "source": [
    "### Approach 2"
   ]
  },
  {
   "cell_type": "code",
   "execution_count": 25,
   "metadata": {},
   "outputs": [],
   "source": [
    "# make copies of X and y dataset so that the original dataset is not changed\n",
    "X_train_copy = X_train.copy()\n",
    "\n",
    "# Set country_name to equal a list of all the country names\n",
    "country_train = X_train_copy['country'].groupby(X_train_copy['country']).count().index\n",
    "\n",
    "# Create a threshold where list equals a percentage of the country names from the entire column\n",
    "list = X_train_copy['country'].groupby(X_train_copy['country']).count() / X_train_copy['country'].count()\n",
    "\n",
    "# Create a list of countries to remove\n",
    "remove_countries = []\n",
    "for i in country_train:\n",
    "    if list[i] < 0.005:\n",
    "        remove_countries.append(i)\n",
    "\n",
    "# Find the index for all countries that need to be removed in that country\n",
    "index = []\n",
    "for i in np.arange(len(X_train_copy)):\n",
    "    for j in np.arange(len(remove_countries)):\n",
    "        if X_train_copy['country'].iloc[i] == remove_countries[j]:\n",
    "            index.append(i)\n",
    "\n",
    "\n",
    "# Drop rows where countries need to be removed\n",
    "X_train_copy.drop(index, axis = 0, inplace = True)\n",
    "\n",
    "# Reset Index\n",
    "X_train_copy = X_train_copy.reset_index()\n",
    "\n",
    "# Drop column named index\n",
    "X_train_copy.drop('index', axis = 1, inplace = True)"
   ]
  },
  {
   "cell_type": "code",
   "execution_count": 185,
   "metadata": {},
   "outputs": [],
   "source": [
    "# make copies of X so that the original dataset is not changed\n",
    "X_test_copy = X_test.copy()\n",
    "\n",
    "# Set country_name to equal a list of all the country names\n",
    "country_test = X_test_copy['country'].groupby(X_test_copy['country']).count().index\n",
    "\n",
    "# Create a threshold where list equals a percentage of the country names from the entire column\n",
    "list = X_test_copy['country'].groupby(X_test_copy['country']).count() / X_test_copy['country'].count()\n",
    "\n",
    "# Create a list of countries to remove\n",
    "remove_countries = []\n",
    "for i in country_test:\n",
    "    if list[i] < 0.005:\n",
    "        remove_countries.append(i)\n",
    "        \n",
    "# Find the index for all countries that need to be removed in that country\n",
    "index = []\n",
    "for i in np.arange(len(X_test_copy)):\n",
    "    for j in np.arange(len(remove_countries)):\n",
    "        if X_test_copy['country'].iloc[i] == remove_countries[j]:\n",
    "            index.append(i)\n",
    "\n",
    "# Drop rows where countries need to be removed\n",
    "X_test_copy.drop(index, axis = 0, inplace = True)\n",
    "\n",
    "# Reset Index\n",
    "X_train_copy = X_train_copy.reset_index()\n",
    "\n",
    "# Drop column named index\n",
    "X_train_copy.drop('index', axis = 1, inplace = True)"
   ]
  },
  {
   "cell_type": "code",
   "execution_count": 186,
   "metadata": {},
   "outputs": [
    {
     "name": "stdout",
     "output_type": "stream",
     "text": [
      "number of countries in train: 12\n",
      "number of countries in test: 12\n"
     ]
    }
   ],
   "source": [
    "print('number of countries in train:', len(X_train_copy['country'].groupby(X_train_copy['country']).count().index))\n",
    "print('number of countries in test:', len(X_test_copy['country'].groupby(X_test_copy['country']).count().index))"
   ]
  },
  {
   "cell_type": "code",
   "execution_count": 187,
   "metadata": {},
   "outputs": [],
   "source": [
    "# Set province_name to equal a list of all the province names\n",
    "province_train = X_train_copy['province'].groupby(X_train_copy['province']).count().index\n",
    "\n",
    "# Create a threshold where list equals a percentage of the provinces names from the entire column\n",
    "list = X_train_copy['province'].groupby(X_train_copy['province']).count() / X_train_copy['province'].count()\n",
    "\n",
    "# Create a list of provinces to remove\n",
    "remove_province = []\n",
    "for i in province_train:\n",
    "    if list[i] < 0.005:\n",
    "        remove_province.append(i)\n",
    "        \n",
    "# Find the index for all provinces that need to be removed in that country        \n",
    "index = []\n",
    "for i in np.arange(len(X_train_copy)):\n",
    "    for j in np.arange(len(remove_province)):\n",
    "        if X_train_copy['province'].iloc[i] == remove_province[j]:\n",
    "            index.append(i)   \n",
    "            \n",
    "# Drop rows where provinces need to be removed            \n",
    "X_train_copy = X_train_copy.drop(index, axis = 0)\n",
    "\n",
    "# Reset index\n",
    "X_train_copy = X_train_copy.reset_index()\n",
    "\n",
    "# Drop index column\n",
    "X_train_copy.drop(['index'], axis = 1, inplace = True)"
   ]
  },
  {
   "cell_type": "code",
   "execution_count": 190,
   "metadata": {},
   "outputs": [],
   "source": [
    "# Set province_name to equal a list of all the province names\n",
    "province_test = X_test_copy['province'].groupby(X_test_copy['province']).count().index\n",
    "\n",
    "# Create a threshold where list equals a percentage of the provinces names from the entire column\n",
    "list = X_test_copy['province'].groupby(X_test_copy['province']).count() / X_test_copy['province'].count()\n",
    "\n",
    "# Create a list of provinces to remove\n",
    "remove_province = []\n",
    "for i in province_test:\n",
    "    if list[i] < 0.005:\n",
    "        remove_province.append(i)\n",
    "\n",
    "# Find the index for all provinces that need to be removed in that country  \n",
    "index = []\n",
    "for i in np.arange(len(X_test_copy)):\n",
    "    for j in np.arange(len(remove_province)):\n",
    "        if X_test_copy['province'].iloc[i] == remove_province[j]:\n",
    "            index.append(i)\n",
    "            \n",
    "# Drop rows where countries need to be removed\n",
    "X_test_copy.drop(index, axis = 0, inplace = True)\n",
    "\n",
    "# Reset index\n",
    "X_test_copy = X_test_copy.reset_index()\n",
    "\n",
    "# Drop index column\n",
    "X_test_copy.drop(['index'], axis = 1, inplace = True)"
   ]
  },
  {
   "cell_type": "code",
   "execution_count": 193,
   "metadata": {},
   "outputs": [
    {
     "name": "stdout",
     "output_type": "stream",
     "text": [
      "number of provinces in train: 34\n"
     ]
    }
   ],
   "source": [
    "print('number of provinces in train:', len(X_train_copy['province'].groupby(X_train_copy['province']).count().index))"
   ]
  },
  {
   "cell_type": "code",
   "execution_count": null,
   "metadata": {},
   "outputs": [],
   "source": [
    "print('number of provinces in test:', len(X_test_copy['province'].groupby(X_test_copy['province']).count().index))"
   ]
  },
  {
   "cell_type": "code",
   "execution_count": 194,
   "metadata": {},
   "outputs": [],
   "source": [
    "# Set variety_name to equal a list of all the variety names\n",
    "variety_train = X_train_copy['variety'].groupby(X_train_copy['variety']).count().index\n",
    "\n",
    "# Create a threshold where list equals a percentage of the variety names from the entire column\n",
    "list = X_train_copy['variety'].groupby(X_train_copy['variety']).count() / X_train_copy['variety'].count()\n",
    "\n",
    "# Create a list of variety to remove\n",
    "variety = []\n",
    "for i in variety_train:\n",
    "    if X_train_copy['variety'].where(X_train_copy['variety'] == i).count() / len(X_train_copy) < 0.005:\n",
    "        variety.append(i)\n",
    "\n",
    "# Find the index for all varieties that need to be removed in that country \n",
    "index = []\n",
    "for i in np.arange(len(X_train_copy)):\n",
    "    for j in np.arange(len(variety)):\n",
    "        if X_train_copy['variety'].iloc[i] == variety[j]:\n",
    "            index.append(i)\n",
    "            \n",
    "# Drop rows where varietes that need to be removed            \n",
    "X_train_copy.drop(index, axis = 0, inplace = True)\n",
    "\n",
    "# Reset index\n",
    "X_train_copy = X_train_copy.reset_index()\n",
    "\n",
    "# Drop index column\n",
    "X_train_copy.drop(['index'], axis = 1, inplace = True)"
   ]
  },
  {
   "cell_type": "markdown",
   "metadata": {},
   "source": [
    "Originally tried to replace varieties with a low frequency by the top variety that is associated from that province, however this script did not seem to work out correctly.\n",
    "Therefore I ended up dropping the rows with a low frequency which is also not a good data science approach."
   ]
  },
  {
   "cell_type": "code",
   "execution_count": null,
   "metadata": {},
   "outputs": [],
   "source": [
    "# Attempt to replacing variety with a low frequency rather than dropping the row all together:\n",
    "\n",
    "# top_variety = X_train_copy['variety'].groupby(X_train_copy['province']).describe().top\n",
    "\n",
    "# for j in index:\n",
    "#    for i in np.arange(0, len(top_variety)):\n",
    "#        if top_variety.index[i] == X_train_copy['province'].iloc[j]:\n",
    "#            X_train_copy2['variety'] = X_train_copy['variety'].replace(X_train_copy['variety'].iloc[j], top_variety[i])\n",
    "        "
   ]
  },
  {
   "cell_type": "code",
   "execution_count": 768,
   "metadata": {},
   "outputs": [],
   "source": [
    "# Set variety_name to equal a list of all the variety names\n",
    "variety_test = X_test_copy['variety'].groupby(X_test_copy['variety']).count().index\n",
    "\n",
    "# Create a threshold where list equals a percentage of the variety names from the entire column\n",
    "list = X_test_copy['variety'].groupby(X_test_copy['variety']).count() / X_test_copy['variety'].count()\n",
    "\n",
    "# Create a list of variety to remove\n",
    "variety = []\n",
    "for i in variety_test:\n",
    "    if list[i] < 0.005:\n",
    "        variety.append(i)\n",
    "        \n",
    "# Find the index for all varieties that need to be removed in that country \n",
    "index = []\n",
    "for i in np.arange(len(X_test_copy)):\n",
    "    for j in np.arange(len(variety)):\n",
    "        if X_test_copy['variety'].iloc[i] == variety[j]:\n",
    "            index.append(i)\n",
    "            \n",
    "# Drop rows where varietes that need to be removed      \n",
    "X_test_copy.drop(index, axis = 0, inplace = True)\n",
    "\n",
    "# Reset index\n",
    "X_test_copy = X_test_copy.reset_index()\n",
    "\n",
    "# Drop index column\n",
    "X_test_copy.drop(['index'], axis = 1, inplace = True)"
   ]
  },
  {
   "cell_type": "code",
   "execution_count": 773,
   "metadata": {
    "scrolled": true
   },
   "outputs": [
    {
     "name": "stdout",
     "output_type": "stream",
     "text": [
      "number of varieties for train: 34\n",
      "number of varieties for test: 35\n"
     ]
    }
   ],
   "source": [
    "# Check to see if the number of varieties that started at 502 has decreased\n",
    "print('number of varieties for train:', len(X_train_copy['variety'].groupby(X_train_copy['variety']).count()))\n",
    "print('number of varieties for test:', len(X_test_copy['variety'].groupby(X_test_copy['variety']).count()))"
   ]
  },
  {
   "cell_type": "markdown",
   "metadata": {},
   "source": [
    "The test dataset had Tampranillo Blend and Tampranillo, whereas the train dataset had only the Tempranillo. To fix this, I can replace the Tempranillo blend as Tempranillo for the test dataset."
   ]
  },
  {
   "cell_type": "code",
   "execution_count": 778,
   "metadata": {},
   "outputs": [],
   "source": [
    "# Replace Tempranillo Blend to Tempranillo\n",
    "X_test_copy['variety'].replace('Tempranillo Blend', 'Tempranillo', inplace = True)"
   ]
  },
  {
   "cell_type": "code",
   "execution_count": 779,
   "metadata": {},
   "outputs": [
    {
     "data": {
      "text/plain": [
       "34"
      ]
     },
     "execution_count": 779,
     "metadata": {},
     "output_type": "execute_result"
    }
   ],
   "source": [
    "# Check to make sure that the number of different varieties has changed to 34\n",
    "len(X_test_copy['variety'].groupby(X_test_copy['variety']).count())"
   ]
  },
  {
   "cell_type": "markdown",
   "metadata": {},
   "source": [
    "## Approach 3"
   ]
  },
  {
   "cell_type": "code",
   "execution_count": 223,
   "metadata": {},
   "outputs": [
    {
     "data": {
      "text/html": [
       "<div>\n",
       "<style scoped>\n",
       "    .dataframe tbody tr th:only-of-type {\n",
       "        vertical-align: middle;\n",
       "    }\n",
       "\n",
       "    .dataframe tbody tr th {\n",
       "        vertical-align: top;\n",
       "    }\n",
       "\n",
       "    .dataframe thead th {\n",
       "        text-align: right;\n",
       "    }\n",
       "</style>\n",
       "<table border=\"1\" class=\"dataframe\">\n",
       "  <thead>\n",
       "    <tr style=\"text-align: right;\">\n",
       "      <th></th>\n",
       "      <th>country</th>\n",
       "      <th>province</th>\n",
       "      <th>variety</th>\n",
       "    </tr>\n",
       "  </thead>\n",
       "  <tbody>\n",
       "    <tr>\n",
       "      <th>0</th>\n",
       "      <td>US</td>\n",
       "      <td>California</td>\n",
       "      <td>Petite Sirah</td>\n",
       "    </tr>\n",
       "    <tr>\n",
       "      <th>1</th>\n",
       "      <td>US</td>\n",
       "      <td>California</td>\n",
       "      <td>Meritage</td>\n",
       "    </tr>\n",
       "    <tr>\n",
       "      <th>2</th>\n",
       "      <td>Portugal</td>\n",
       "      <td>Alentejano</td>\n",
       "      <td>Portuguese Red</td>\n",
       "    </tr>\n",
       "    <tr>\n",
       "      <th>3</th>\n",
       "      <td>US</td>\n",
       "      <td>Washington</td>\n",
       "      <td>Malbec</td>\n",
       "    </tr>\n",
       "    <tr>\n",
       "      <th>4</th>\n",
       "      <td>Italy</td>\n",
       "      <td>Central Italy</td>\n",
       "      <td>Lambrusco di Sorbara</td>\n",
       "    </tr>\n",
       "  </tbody>\n",
       "</table>\n",
       "</div>"
      ],
      "text/plain": [
       "    country       province               variety\n",
       "0        US     California          Petite Sirah\n",
       "1        US     California              Meritage\n",
       "2  Portugal     Alentejano        Portuguese Red\n",
       "3        US     Washington                Malbec\n",
       "4     Italy  Central Italy  Lambrusco di Sorbara"
      ]
     },
     "execution_count": 223,
     "metadata": {},
     "output_type": "execute_result"
    }
   ],
   "source": [
    "# One hot encoding for country, province, and variety like completed in Approach 1\n",
    "\n",
    "# Create a dataframe of just country, province, and variety\n",
    "dummy_train = X_train.drop(['description', 'price', 'vintage'], axis = 1)\n",
    "dummy_test = X_test.drop(['description', 'price', 'vintage'], axis = 1)\n",
    "\n",
    "# View train dataframe to make sure that this worked\n",
    "dummy_train.head()"
   ]
  },
  {
   "cell_type": "code",
   "execution_count": 224,
   "metadata": {},
   "outputs": [],
   "source": [
    "# get_dummies for all three columns\n",
    "cat_columns=[\"country\", \"province\", \"variety\"]\n",
    "dummy_train= pd.get_dummies(dummy_train, prefix_sep=\"__\", columns=cat_columns)\n",
    "\n",
    "cat_columns=[\"country\", \"province\", \"variety\"]\n",
    "dummy_test= pd.get_dummies(dummy_test, prefix_sep=\"__\", columns=cat_columns)\n",
    "\n",
    "final_train, final_test = dummy_train.align(dummy_test, join='inner', axis=1)  # inner join"
   ]
  },
  {
   "cell_type": "code",
   "execution_count": 225,
   "metadata": {},
   "outputs": [],
   "source": [
    "# Export file to be used for the future. \n",
    "# This is needed when importing a new dataset as it will be used as part of the .align function\n",
    "final_train.to_csv(r'dummy_train.csv', index = False)"
   ]
  },
  {
   "cell_type": "code",
   "execution_count": 226,
   "metadata": {},
   "outputs": [
    {
     "name": "stdout",
     "output_type": "stream",
     "text": [
      "train set size: (90979, 853)\n",
      "test set size: (38992, 853)\n"
     ]
    }
   ],
   "source": [
    "# Check to make sure they are the same size!\n",
    "print('train set size:', final_train.shape)\n",
    "print('test set size:', final_test.shape)"
   ]
  },
  {
   "cell_type": "code",
   "execution_count": 227,
   "metadata": {},
   "outputs": [],
   "source": [
    "# Now that we have use nlp on the text columns, we need to remove these columns\n",
    "X_train.drop(['country', 'description', 'province', 'variety'], axis = 1, inplace = True)\n",
    "X_test.drop(['country', 'description', 'province', 'variety'], axis = 1, inplace = True)"
   ]
  },
  {
   "cell_type": "code",
   "execution_count": 228,
   "metadata": {
    "scrolled": true
   },
   "outputs": [],
   "source": [
    "# add all columns back to a final X dataframe\n",
    "X_train_final = pd.concat([description_train, final_train, X_train], axis = 1, sort = False)\n",
    "X_test_final = pd.concat([description_test, final_test, X_test], axis = 1, sort = False)"
   ]
  },
  {
   "cell_type": "code",
   "execution_count": 230,
   "metadata": {},
   "outputs": [],
   "source": [
    "# Add y values back to train and test set before exporting dataframe as csv file\n",
    "\n",
    "# Create a copy of the train and test dataset to rename the dataframes\n",
    "train = X_train_final.copy()\n",
    "test = X_test_final.copy()\n",
    "\n",
    "# Add points to train and test set where y values are 0 and 1\n",
    "train['points'] = y_train_class\n",
    "test['points'] = y_test_class\n",
    "\n",
    "train.to_csv (r'model_train.csv', index = False)\n",
    "test.to_csv (r'model_test.csv', index = False)"
   ]
  },
  {
   "cell_type": "code",
   "execution_count": 232,
   "metadata": {},
   "outputs": [],
   "source": [
    "# Repeat for regression dataset\n",
    "train = X_train_final.copy()\n",
    "test = X_test_final.copy()\n",
    "\n",
    "train['points'] = y_train\n",
    "test['points'] = y_test\n",
    "\n",
    "train.to_csv (r'model_train_regression.csv', index = False)\n",
    "test.to_csv (r'model_test_regression.csv', index = False)"
   ]
  },
  {
   "cell_type": "markdown",
   "metadata": {},
   "source": [
    "# Create a function to be used for future datasets"
   ]
  },
  {
   "cell_type": "markdown",
   "metadata": {},
   "source": [
    "Do not need to split dataset into train and test because this will be used with a dataset where the models have already been trained."
   ]
  },
  {
   "cell_type": "code",
   "execution_count": 81,
   "metadata": {},
   "outputs": [],
   "source": [
    "def wine_review(csv_file_name):\n",
    "\n",
    "    # load data\n",
    "    df = pd.read_csv(csv_file_name)\n",
    "\n",
    "    # Load train dummy dataset so that we create an inner join later \n",
    "    df = pd.read_csv('dummy_train.csv')\n",
    "    \n",
    "    # Set points as a 0 and 1\n",
    "    df_class = df.copy()\n",
    "    # map the points to 0 and 1 for test dataset\n",
    "    conversion_dict = {80:0, 81:0, 82:0, 83:0, 84:0, 85:0, 86:0, 87:0, 88:0, 89:1, 90:1, 91:1, 92:1, 93:1, 94:1, 95:1, 96:1, 97:1, 98:1, 99:1, 100:1}\n",
    "    df_class['points'] = df_class['points'].map(conversion_dict)\n",
    "    \n",
    "    # Set X and y\n",
    "    X = df_class.drop(['Unnamed: 0','points'], axis = 1)\n",
    "    y = df_class['points']\n",
    "   \n",
    "    # TFIDF\n",
    "    import string\n",
    "\n",
    "    import nltk\n",
    "    stemmer = nltk.stem.PorterStemmer()\n",
    "\n",
    "    nltk.download('stopwords')\n",
    "    from nltk.corpus import stopwords \n",
    "    ENGLISH_STOP_WORDS = stopwords.words('english')\n",
    "\n",
    "    def my_tokenizer(sentence):\n",
    "    \n",
    "        for punctuation_mark in string.punctuation:\n",
    "            # Remove punctuation and set to lower case\n",
    "            sentence = sentence.replace(punctuation_mark,'').lower()\n",
    "\n",
    "        # split sentence into words\n",
    "        listofwords = sentence.split(' ')\n",
    "        listofstemmed_words = []\n",
    "    \n",
    "        \n",
    "        # Remove stopwords and any tokens that are just empty strings\n",
    "        for word in listofwords:\n",
    "            if (not word in ENGLISH_STOP_WORDS) and (word!=''):\n",
    "                # Stem words\n",
    "                stemmed_word = stemmer.stem(word)\n",
    "                listofstemmed_words.append(stemmed_word)\n",
    "\n",
    "        return listofstemmed_words\n",
    "\n",
    "\n",
    "    review = X['description']\n",
    "\n",
    "    # Fit positive reviews\n",
    "    tfidf.fit(review)\n",
    "\n",
    "    # Transform positive reviews\n",
    "    review_tfidf = tfidf.transform(review)\n",
    "\n",
    "    description = pd.DataFrame(columns=tfidf.get_feature_names(), data=review_tfidf.toarray())\n",
    "    \n",
    "    # One hot encoding for country, province, and variety like completed in Approach 1\n",
    "\n",
    "    # Create a dataframe of just country, province, and variety\n",
    "    dummy = X.drop(['description', 'price', 'vintage'], axis = 1)\n",
    "    \n",
    "    # get_dummies for all three columns\n",
    "    cat_columns=[\"country\", \"province\", \"variety\"]\n",
    "    dummy =  pd.get_dummies(dummy, prefix_sep=\"__\", columns=cat_columns)\n",
    "\n",
    "    train, final_X = dummy_train.align(dummy, join='inner', axis=1)  # inner join \n",
    "\n",
    "    # Now that we have use nlp on the text columns, we need to remove these columns\n",
    "    X.drop(['country', 'description', 'province', 'variety'], axis = 1, inplace = True)\n",
    "    \n",
    "    # add all columns back to a final X dataframe\n",
    "    X_final = pd.concat([description, final_X, X], axis = 1, sort = False)\n",
    "    \n",
    "    # Create a copy of the train and test dataset to rename the dataframes\n",
    "    df = X_final.copy()\n",
    "\n",
    "    # Add points to train and test set where y values are 0 and 1\n",
    "    df['points'] = y\n",
    "\n",
    "    # Export train dataset as a csv to be used to run in other jupyter notebooks\n",
    "    return train_final.to_csv (r'model_wine_reviews.csv', index = False)"
   ]
  }
 ],
 "metadata": {
  "kernelspec": {
   "display_name": "Python 3",
   "language": "python",
   "name": "python3"
  },
  "language_info": {
   "codemirror_mode": {
    "name": "ipython",
    "version": 3
   },
   "file_extension": ".py",
   "mimetype": "text/x-python",
   "name": "python",
   "nbconvert_exporter": "python",
   "pygments_lexer": "ipython3",
   "version": "3.7.4"
  }
 },
 "nbformat": 4,
 "nbformat_minor": 2
}
